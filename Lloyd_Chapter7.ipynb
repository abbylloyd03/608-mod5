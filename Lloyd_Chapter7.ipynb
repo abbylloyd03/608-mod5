{
 "cells": [
  {
   "cell_type": "markdown",
   "id": "cb1475f1-77c8-4ab1-8ea7-2306b9602d6e",
   "metadata": {},
   "source": [
    "# Chapter 7: Array-Oriented Programming with NumPy"
   ]
  },
  {
   "cell_type": "markdown",
   "id": "947b24fb-7b23-440a-8536-b1a80f66b826",
   "metadata": {},
   "source": [
    "### 7.2 Creating arrays from existing data"
   ]
  },
  {
   "cell_type": "code",
   "execution_count": 2,
   "id": "5fb28240-238b-49b8-ab00-b4aad4873426",
   "metadata": {},
   "outputs": [
    {
     "name": "stdout",
     "output_type": "stream",
     "text": [
      "[ 2  3  5  7 11]\n"
     ]
    },
    {
     "data": {
      "text/plain": [
       "numpy.ndarray"
      ]
     },
     "execution_count": 2,
     "metadata": {},
     "output_type": "execute_result"
    }
   ],
   "source": [
    "import numpy as np\n",
    "\n",
    "numbers = np.array([2, 3, 5, 7, 11])\n",
    "print(numbers)\n",
    "\n",
    "type(numbers)"
   ]
  },
  {
   "cell_type": "markdown",
   "id": "f10aaa2b-7d26-4574-9ea5-623cc5166b20",
   "metadata": {},
   "source": [
    "Multidimensional arguments"
   ]
  },
  {
   "cell_type": "code",
   "execution_count": 3,
   "id": "2a763519-ba6e-403f-a8e5-f4ff1113aafd",
   "metadata": {},
   "outputs": [
    {
     "data": {
      "text/plain": [
       "array([[1, 2, 3],\n",
       "       [4, 5, 6]])"
      ]
     },
     "execution_count": 3,
     "metadata": {},
     "output_type": "execute_result"
    }
   ],
   "source": [
    "np.array([[1, 2, 3], [4, 5, 6]])"
   ]
  },
  {
   "cell_type": "markdown",
   "id": "56cf93a8-3a02-4b22-be83-e88367f486a2",
   "metadata": {},
   "source": [
    "### 7.2 Self Check"
   ]
  },
  {
   "cell_type": "code",
   "execution_count": 7,
   "id": "8d61e39b-db74-4891-9894-6fa4aac7efaf",
   "metadata": {},
   "outputs": [
    {
     "name": "stdout",
     "output_type": "stream",
     "text": [
      "[ 2  4  6  8 10 12 14 16 18 20]\n"
     ]
    }
   ],
   "source": [
    "numbers1 = np.array([item for item in range(2, 21, 2)])\n",
    "print(numbers1)"
   ]
  },
  {
   "cell_type": "code",
   "execution_count": 9,
   "id": "1bfe5211-a0cd-40ce-bdb9-b233dbb5243b",
   "metadata": {},
   "outputs": [
    {
     "name": "stdout",
     "output_type": "stream",
     "text": [
      "[[ 2  4  6  8 10]\n",
      " [ 1  3  5  7  9]]\n"
     ]
    }
   ],
   "source": [
    "numbers2 = np.array([[item for item in range(2, 11, 2)], [item for item in range(1, 10, 2)]])\n",
    "print(numbers2)"
   ]
  },
  {
   "cell_type": "markdown",
   "id": "116fd3d5-13b6-4f40-b812-71ea47318243",
   "metadata": {},
   "source": [
    "### 7.3 array attributes"
   ]
  },
  {
   "cell_type": "code",
   "execution_count": 13,
   "id": "11d4059b-1178-47fc-9039-279212080eea",
   "metadata": {},
   "outputs": [
    {
     "name": "stdout",
     "output_type": "stream",
     "text": [
      "[[1 2 3]\n",
      " [4 5 6]]\n",
      "[0.  0.1 0.2 0.3 0.4]\n"
     ]
    }
   ],
   "source": [
    "import numpy as np\n",
    "\n",
    "integers = np.array([[1, 2, 3], [4, 5, 6]])\n",
    "print(integers)\n",
    "\n",
    "floats = np.array([0.0, 0.1, 0.2, 0.3, 0.4])\n",
    "print(floats)"
   ]
  },
  {
   "cell_type": "markdown",
   "id": "a88ac46c-04ec-4ff2-aa00-3abf679063ff",
   "metadata": {},
   "source": [
    "**Determining an array's element type**"
   ]
  },
  {
   "cell_type": "code",
   "execution_count": 17,
   "id": "4e4c5f69-9f14-42e6-8639-e259098e5697",
   "metadata": {},
   "outputs": [
    {
     "data": {
      "text/plain": [
       "dtype('int64')"
      ]
     },
     "execution_count": 17,
     "metadata": {},
     "output_type": "execute_result"
    }
   ],
   "source": [
    "integers.dtype"
   ]
  },
  {
   "cell_type": "code",
   "execution_count": 18,
   "id": "3f4ba45f-6961-43bb-845e-a41a59f4214f",
   "metadata": {},
   "outputs": [
    {
     "data": {
      "text/plain": [
       "dtype('float64')"
      ]
     },
     "execution_count": 18,
     "metadata": {},
     "output_type": "execute_result"
    }
   ],
   "source": [
    "floats.dtype"
   ]
  },
  {
   "cell_type": "markdown",
   "id": "3a4136e7-c2d4-4093-8a1a-2fa94009111e",
   "metadata": {},
   "source": [
    "**Determing an array's dimensions**"
   ]
  },
  {
   "cell_type": "code",
   "execution_count": 19,
   "id": "ec0bc57d-6ab0-4831-a3c4-00bd6caf9869",
   "metadata": {},
   "outputs": [
    {
     "data": {
      "text/plain": [
       "2"
      ]
     },
     "execution_count": 19,
     "metadata": {},
     "output_type": "execute_result"
    }
   ],
   "source": [
    "integers.ndim"
   ]
  },
  {
   "cell_type": "code",
   "execution_count": 20,
   "id": "9439f064-bdc5-487f-ac33-dd466835b8cf",
   "metadata": {},
   "outputs": [
    {
     "data": {
      "text/plain": [
       "1"
      ]
     },
     "execution_count": 20,
     "metadata": {},
     "output_type": "execute_result"
    }
   ],
   "source": [
    "floats.ndim"
   ]
  },
  {
   "cell_type": "code",
   "execution_count": 21,
   "id": "885435f6-a4ca-437b-8e72-c4f4b42717e5",
   "metadata": {},
   "outputs": [
    {
     "data": {
      "text/plain": [
       "(2, 3)"
      ]
     },
     "execution_count": 21,
     "metadata": {},
     "output_type": "execute_result"
    }
   ],
   "source": [
    "integers.shape"
   ]
  },
  {
   "cell_type": "code",
   "execution_count": 22,
   "id": "a8d50813-afc2-4421-901a-2706166d1fde",
   "metadata": {},
   "outputs": [
    {
     "data": {
      "text/plain": [
       "(5,)"
      ]
     },
     "execution_count": 22,
     "metadata": {},
     "output_type": "execute_result"
    }
   ],
   "source": [
    "floats.shape"
   ]
  },
  {
   "cell_type": "markdown",
   "id": "05d9fc42-9a5d-487b-b77a-3bc2b2ae57f1",
   "metadata": {},
   "source": [
    "**Determining an array's number of elements and element size**\n",
    "- size: total number of elements\n",
    "- itemsize: number of bytes required to store each element"
   ]
  },
  {
   "cell_type": "code",
   "execution_count": 23,
   "id": "ed3a6e6e-3243-4590-bbaa-aa7540adf128",
   "metadata": {},
   "outputs": [
    {
     "data": {
      "text/plain": [
       "6"
      ]
     },
     "execution_count": 23,
     "metadata": {},
     "output_type": "execute_result"
    }
   ],
   "source": [
    "integers.size"
   ]
  },
  {
   "cell_type": "code",
   "execution_count": 24,
   "id": "d42718a4-b065-490a-b963-6e171600c85d",
   "metadata": {},
   "outputs": [
    {
     "data": {
      "text/plain": [
       "8"
      ]
     },
     "execution_count": 24,
     "metadata": {},
     "output_type": "execute_result"
    }
   ],
   "source": [
    "integers.itemsize"
   ]
  },
  {
   "cell_type": "code",
   "execution_count": 25,
   "id": "7281c7ae-1f48-47d8-93a0-59223b7e2138",
   "metadata": {},
   "outputs": [
    {
     "data": {
      "text/plain": [
       "5"
      ]
     },
     "execution_count": 25,
     "metadata": {},
     "output_type": "execute_result"
    }
   ],
   "source": [
    "floats.size"
   ]
  },
  {
   "cell_type": "code",
   "execution_count": 26,
   "id": "833ce1dc-9378-445b-857c-c38a5ce9d443",
   "metadata": {},
   "outputs": [
    {
     "data": {
      "text/plain": [
       "8"
      ]
     },
     "execution_count": 26,
     "metadata": {},
     "output_type": "execute_result"
    }
   ],
   "source": [
    "floats.itemsize"
   ]
  },
  {
   "cell_type": "markdown",
   "id": "e19b0c70-f89b-4b04-ab0d-ecd84db1fc97",
   "metadata": {},
   "source": [
    "**Iterating through a multidimensional array's elements**"
   ]
  },
  {
   "cell_type": "code",
   "execution_count": 29,
   "id": "df724fcb-3d08-4bb7-b90b-eb58bca21eeb",
   "metadata": {},
   "outputs": [
    {
     "name": "stdout",
     "output_type": "stream",
     "text": [
      "1 2 3 \n",
      "4 5 6 \n"
     ]
    }
   ],
   "source": [
    "for row in integers:\n",
    "    for column in row:\n",
    "        print(column, end=' ')\n",
    "    print()"
   ]
  },
  {
   "cell_type": "markdown",
   "id": "194ec23d-359e-40ff-b2cc-9c362793e912",
   "metadata": {},
   "source": [
    "**You can iterate through a multidimensional array as if it were one-dimensional by using its flat attribute**"
   ]
  },
  {
   "cell_type": "code",
   "execution_count": 30,
   "id": "68244747-df0c-40e8-8cc6-b2018e540b08",
   "metadata": {},
   "outputs": [
    {
     "name": "stdout",
     "output_type": "stream",
     "text": [
      "1 2 3 4 5 6 "
     ]
    }
   ],
   "source": [
    "for i in integers.flat:\n",
    "    print(i, end=' ')"
   ]
  },
  {
   "cell_type": "markdown",
   "id": "b1727d6d-01cd-4b89-8636-83947eaf537d",
   "metadata": {},
   "source": [
    "### 7.3 Self Check"
   ]
  },
  {
   "cell_type": "code",
   "execution_count": 32,
   "id": "c698818f-1d2e-41a8-b80e-46882938d24b",
   "metadata": {},
   "outputs": [
    {
     "name": "stdout",
     "output_type": "stream",
     "text": [
      "2\n",
      "(2, 5)\n"
     ]
    }
   ],
   "source": [
    "print(numbers2.ndim)\n",
    "print(numbers2.shape)"
   ]
  },
  {
   "cell_type": "markdown",
   "id": "4923a331-121c-4744-9410-2926ab0e978d",
   "metadata": {},
   "source": [
    "### 7.4 Filling arrays with specific values"
   ]
  },
  {
   "cell_type": "code",
   "execution_count": 34,
   "id": "d3b92683-4b8a-4c2c-985f-671cdee49dd7",
   "metadata": {},
   "outputs": [
    {
     "data": {
      "text/plain": [
       "array([0., 0., 0., 0., 0.])"
      ]
     },
     "execution_count": 34,
     "metadata": {},
     "output_type": "execute_result"
    }
   ],
   "source": [
    "import numpy as np\n",
    "\n",
    "np.zeros(5)"
   ]
  },
  {
   "cell_type": "code",
   "execution_count": 38,
   "id": "c4e6212a-1595-4d84-abb7-1e63cc81d795",
   "metadata": {},
   "outputs": [
    {
     "data": {
      "text/plain": [
       "array([[1., 1., 1., 1.],\n",
       "       [1., 1., 1., 1.]])"
      ]
     },
     "execution_count": 38,
     "metadata": {},
     "output_type": "execute_result"
    }
   ],
   "source": [
    "np.ones((2, 4), dtype=float) #Specify the array's element type with the dtype argument"
   ]
  },
  {
   "cell_type": "code",
   "execution_count": 37,
   "id": "12cc760e-be80-4afd-a65b-f4b092a3b76c",
   "metadata": {},
   "outputs": [
    {
     "data": {
      "text/plain": [
       "array([[13, 13, 13, 13, 13],\n",
       "       [13, 13, 13, 13, 13],\n",
       "       [13, 13, 13, 13, 13]])"
      ]
     },
     "execution_count": 37,
     "metadata": {},
     "output_type": "execute_result"
    }
   ],
   "source": [
    "np.full((3, 5), 13)"
   ]
  },
  {
   "cell_type": "markdown",
   "id": "6d8cbab6-9817-4ce3-8e86-4e972e5413f3",
   "metadata": {},
   "source": [
    "### 7.5 Creating arrays from ranges"
   ]
  },
  {
   "cell_type": "markdown",
   "id": "3f6ba08d-351e-4d62-95f8-fbebee569f6b",
   "metadata": {},
   "source": [
    "**Creating integer ranges with arrange**"
   ]
  },
  {
   "cell_type": "code",
   "execution_count": 40,
   "id": "dc592efc-d0b4-4736-bcf3-a69c804191dd",
   "metadata": {},
   "outputs": [
    {
     "data": {
      "text/plain": [
       "array([0, 1, 2, 3, 4])"
      ]
     },
     "execution_count": 40,
     "metadata": {},
     "output_type": "execute_result"
    }
   ],
   "source": [
    "np.arange(5)"
   ]
  },
  {
   "cell_type": "code",
   "execution_count": 41,
   "id": "9463eede-50be-4523-9c48-478eb689b5ee",
   "metadata": {},
   "outputs": [
    {
     "data": {
      "text/plain": [
       "array([5, 6, 7, 8, 9])"
      ]
     },
     "execution_count": 41,
     "metadata": {},
     "output_type": "execute_result"
    }
   ],
   "source": [
    "np.arange(5, 10)"
   ]
  },
  {
   "cell_type": "code",
   "execution_count": 43,
   "id": "19aacd38-b36e-4594-92cb-d71adbb25aba",
   "metadata": {},
   "outputs": [
    {
     "data": {
      "text/plain": [
       "array([10,  8,  6,  4,  2])"
      ]
     },
     "execution_count": 43,
     "metadata": {},
     "output_type": "execute_result"
    }
   ],
   "source": [
    "np.arange(10, 1, -2)"
   ]
  },
  {
   "cell_type": "markdown",
   "id": "6dbd9ac6-ae78-4084-acb3-68abfd983635",
   "metadata": {},
   "source": [
    "**Creating floating-point ranges with linespace**: create evenly spaced floating-point ranges"
   ]
  },
  {
   "cell_type": "code",
   "execution_count": 52,
   "id": "8f0c65ad-45c7-4389-b99c-6ebb85e73029",
   "metadata": {},
   "outputs": [
    {
     "data": {
      "text/plain": [
       "array([0.  , 0.25, 0.5 , 0.75, 1.  ])"
      ]
     },
     "execution_count": 52,
     "metadata": {},
     "output_type": "execute_result"
    }
   ],
   "source": [
    "np.linspace(0.0, 1.0, num=5)\n",
    "# first, second numbers: starting and ending values (ending value is including in the array)\n",
    "# last number: number of evenly spaced values to produce (the default value is 50)"
   ]
  },
  {
   "cell_type": "code",
   "execution_count": 53,
   "id": "ec7098cb-5aae-459b-8078-f0770fe45ce4",
   "metadata": {},
   "outputs": [
    {
     "data": {
      "text/plain": [
       "array([0.        , 0.05263158, 0.10526316, 0.15789474, 0.21052632,\n",
       "       0.26315789, 0.31578947, 0.36842105, 0.42105263, 0.47368421,\n",
       "       0.52631579, 0.57894737, 0.63157895, 0.68421053, 0.73684211,\n",
       "       0.78947368, 0.84210526, 0.89473684, 0.94736842, 1.        ])"
      ]
     },
     "execution_count": 53,
     "metadata": {},
     "output_type": "execute_result"
    }
   ],
   "source": [
    "np.linspace(0.0, 1.0, 20)"
   ]
  },
  {
   "cell_type": "markdown",
   "id": "174b1ca5-65ca-4131-98a2-c4533abd041b",
   "metadata": {},
   "source": [
    "**Reshaping an array**"
   ]
  },
  {
   "cell_type": "code",
   "execution_count": 55,
   "id": "50a330b2-a314-4f60-ad06-06a6fababfe1",
   "metadata": {},
   "outputs": [
    {
     "data": {
      "text/plain": [
       "array([[ 1,  2,  3,  4,  5],\n",
       "       [ 6,  7,  8,  9, 10],\n",
       "       [11, 12, 13, 14, 15],\n",
       "       [16, 17, 18, 19, 20]])"
      ]
     },
     "execution_count": 55,
     "metadata": {},
     "output_type": "execute_result"
    }
   ],
   "source": [
    "np.arange(1, 21).reshape(4, 5) # chained method call"
   ]
  },
  {
   "cell_type": "markdown",
   "id": "cdd7cb74-bb00-45de-9071-73045185e854",
   "metadata": {},
   "source": [
    "**Displaying large arrays**"
   ]
  },
  {
   "cell_type": "code",
   "execution_count": 56,
   "id": "af1afecb-d830-465a-a21b-d83f26ccbb80",
   "metadata": {},
   "outputs": [
    {
     "data": {
      "text/plain": [
       "array([[     1,      2,      3, ...,  24998,  24999,  25000],\n",
       "       [ 25001,  25002,  25003, ...,  49998,  49999,  50000],\n",
       "       [ 50001,  50002,  50003, ...,  74998,  74999,  75000],\n",
       "       [ 75001,  75002,  75003, ...,  99998,  99999, 100000]])"
      ]
     },
     "execution_count": 56,
     "metadata": {},
     "output_type": "execute_result"
    }
   ],
   "source": [
    "np.arange(1, 100001).reshape(4, 25000)"
   ]
  },
  {
   "cell_type": "code",
   "execution_count": 57,
   "id": "c8fcb71e-3b9f-440e-b7e3-7ba803085704",
   "metadata": {},
   "outputs": [
    {
     "data": {
      "text/plain": [
       "array([[     1,      2,      3, ...,    998,    999,   1000],\n",
       "       [  1001,   1002,   1003, ...,   1998,   1999,   2000],\n",
       "       [  2001,   2002,   2003, ...,   2998,   2999,   3000],\n",
       "       ...,\n",
       "       [ 97001,  97002,  97003, ...,  97998,  97999,  98000],\n",
       "       [ 98001,  98002,  98003, ...,  98998,  98999,  99000],\n",
       "       [ 99001,  99002,  99003, ...,  99998,  99999, 100000]])"
      ]
     },
     "execution_count": 57,
     "metadata": {},
     "output_type": "execute_result"
    }
   ],
   "source": [
    "np.arange(1, 100001).reshape(100, 1000)"
   ]
  },
  {
   "cell_type": "markdown",
   "id": "56b90c48-4f6a-42cc-9a8a-c4397c5540e1",
   "metadata": {},
   "source": [
    "### 7.5 Self Check"
   ]
  },
  {
   "cell_type": "code",
   "execution_count": 58,
   "id": "3f4b4fd5-8b7c-4a86-8888-f1a58ced5825",
   "metadata": {},
   "outputs": [
    {
     "data": {
      "text/plain": [
       "array([[ 2,  4,  6,  8, 10],\n",
       "       [12, 14, 16, 18, 20],\n",
       "       [22, 24, 26, 28, 30],\n",
       "       [32, 34, 36, 38, 40]])"
      ]
     },
     "execution_count": 58,
     "metadata": {},
     "output_type": "execute_result"
    }
   ],
   "source": [
    "np.arange(2, 41, 2).reshape(4, 5)"
   ]
  },
  {
   "cell_type": "markdown",
   "id": "65897485-0cd0-4be3-b3c7-45f9a4794dfa",
   "metadata": {},
   "source": [
    "### 7.6 Python Magic"
   ]
  },
  {
   "cell_type": "markdown",
   "id": "d6c2ae55-e879-475e-8b4c-c5573d803483",
   "metadata": {},
   "source": [
    "- %timeit -n3 -r2\n",
    "- %load: to read code into Ipython from a local file or URL\n",
    "- %run: to execute a .py file from Ipython\n",
    "- %precision: to change the default floating-point precision for ipython outputs\n",
    "- %cd: to change directories without having to exit ipython first\n",
    "- %edit to launch an external editor\n",
    "- %history to view a list of all snippets and commands you've executed in the current ipython session"
   ]
  },
  {
   "cell_type": "markdown",
   "id": "f0dcc713-46b7-485e-a1a1-6bccf5bdbffc",
   "metadata": {},
   "source": [
    "### 7.7 array operators"
   ]
  },
  {
   "cell_type": "markdown",
   "id": "79262b9f-7c95-43e4-8134-d211c290ac3d",
   "metadata": {},
   "source": [
    "**Arithmetic operations with arrays and individual numeric values**: each returns a new array containing the result"
   ]
  },
  {
   "cell_type": "code",
   "execution_count": 4,
   "id": "dcc59f45-7756-4157-9ed4-5c6cce0d1bd3",
   "metadata": {},
   "outputs": [
    {
     "data": {
      "text/plain": [
       "array([ 2,  4,  6,  8, 10])"
      ]
     },
     "execution_count": 4,
     "metadata": {},
     "output_type": "execute_result"
    }
   ],
   "source": [
    "import numpy as np\n",
    "numbers = np.arange(1, 6)\n",
    "numbers * 2"
   ]
  },
  {
   "cell_type": "code",
   "execution_count": 5,
   "id": "51f4d646-563b-412c-8100-0a8c0bb000ae",
   "metadata": {},
   "outputs": [
    {
     "data": {
      "text/plain": [
       "array([  1,   8,  27,  64, 125])"
      ]
     },
     "execution_count": 5,
     "metadata": {},
     "output_type": "execute_result"
    }
   ],
   "source": [
    "numbers ** 3"
   ]
  },
  {
   "cell_type": "code",
   "execution_count": 6,
   "id": "09aa19db-0ba1-4f8f-b083-c67b0368482c",
   "metadata": {},
   "outputs": [
    {
     "data": {
      "text/plain": [
       "array([1, 2, 3, 4, 5])"
      ]
     },
     "execution_count": 6,
     "metadata": {},
     "output_type": "execute_result"
    }
   ],
   "source": [
    "numbers # numbers is unchanged by the arithmetic operations"
   ]
  },
  {
   "cell_type": "markdown",
   "id": "076057f6-db72-4c1e-b2ed-31dd2540cfe5",
   "metadata": {},
   "source": [
    "**Augmented assignments modify every element in the left operand**"
   ]
  },
  {
   "cell_type": "code",
   "execution_count": 7,
   "id": "5fde7642-a87a-4c6f-8eac-84c7c5c063bd",
   "metadata": {},
   "outputs": [
    {
     "name": "stdout",
     "output_type": "stream",
     "text": [
      "[11 12 13 14 15]\n"
     ]
    }
   ],
   "source": [
    "numbers += 10\n",
    "print(numbers)"
   ]
  },
  {
   "cell_type": "markdown",
   "id": "3498b23a-676b-4bab-862f-7675a0596bd6",
   "metadata": {},
   "source": [
    "**Broadcasting**: When one operand is a single value, called a scalar, NumPy performs the element-wise calculations as if the scalar were an array of the same shape as the other operand, but with the scalar value in all its elements."
   ]
  },
  {
   "cell_type": "code",
   "execution_count": 8,
   "id": "d0e135b0-754a-4603-9df8-1e4f6615da3e",
   "metadata": {},
   "outputs": [
    {
     "data": {
      "text/plain": [
       "array([22, 24, 26, 28, 30])"
      ]
     },
     "execution_count": 8,
     "metadata": {},
     "output_type": "execute_result"
    }
   ],
   "source": [
    "numbers * [2, 2, 2, 2, 2]"
   ]
  },
  {
   "cell_type": "code",
   "execution_count": 9,
   "id": "768ba3a2-3388-4573-88e4-0cd0c4c80ce1",
   "metadata": {},
   "outputs": [
    {
     "data": {
      "text/plain": [
       "array([22, 24, 26, 28, 30])"
      ]
     },
     "execution_count": 9,
     "metadata": {},
     "output_type": "execute_result"
    }
   ],
   "source": [
    "numbers * 2"
   ]
  },
  {
   "cell_type": "markdown",
   "id": "3c71e4a2-49ea-427a-983b-46268c533eb8",
   "metadata": {},
   "source": [
    "**Arithmetic operations between arrays**: you may perform arithmetic operations and augmented assignments between arrays of the same shape"
   ]
  },
  {
   "cell_type": "code",
   "execution_count": 12,
   "id": "b23e111d-5dbc-468c-ae92-366f72ff7301",
   "metadata": {},
   "outputs": [
    {
     "name": "stdout",
     "output_type": "stream",
     "text": [
      "[1.1 2.2 3.3 4.4 5.5]\n"
     ]
    },
    {
     "data": {
      "text/plain": [
       "array([12.1, 26.4, 42.9, 61.6, 82.5])"
      ]
     },
     "execution_count": 12,
     "metadata": {},
     "output_type": "execute_result"
    }
   ],
   "source": [
    "numbers2 = np.linspace(1.1, 5.5, 5)\n",
    "print(numbers2)\n",
    "\n",
    "numbers * numbers2"
   ]
  },
  {
   "cell_type": "markdown",
   "id": "04bb4d17-c7ca-410d-8716-3b542ff4aad2",
   "metadata": {},
   "source": [
    "**Comparing arrays**: comparisons are performed element-wise"
   ]
  },
  {
   "cell_type": "code",
   "execution_count": 13,
   "id": "0aa445e6-62af-4f48-b205-d1a5f58968d8",
   "metadata": {},
   "outputs": [
    {
     "data": {
      "text/plain": [
       "array([11, 12, 13, 14, 15])"
      ]
     },
     "execution_count": 13,
     "metadata": {},
     "output_type": "execute_result"
    }
   ],
   "source": [
    "numbers"
   ]
  },
  {
   "cell_type": "code",
   "execution_count": 14,
   "id": "fbc1d175-7246-4a98-8d00-3f8efec13b44",
   "metadata": {},
   "outputs": [
    {
     "data": {
      "text/plain": [
       "array([False, False,  True,  True,  True])"
      ]
     },
     "execution_count": 14,
     "metadata": {},
     "output_type": "execute_result"
    }
   ],
   "source": [
    "numbers >= 13"
   ]
  },
  {
   "cell_type": "code",
   "execution_count": 15,
   "id": "cb87f532-ba93-4efc-971d-eae0904cf0fe",
   "metadata": {},
   "outputs": [
    {
     "data": {
      "text/plain": [
       "array([1.1, 2.2, 3.3, 4.4, 5.5])"
      ]
     },
     "execution_count": 15,
     "metadata": {},
     "output_type": "execute_result"
    }
   ],
   "source": [
    "numbers2"
   ]
  },
  {
   "cell_type": "code",
   "execution_count": 16,
   "id": "1e226b00-5c70-4b4e-b9fb-df64b13c530a",
   "metadata": {},
   "outputs": [
    {
     "data": {
      "text/plain": [
       "array([ True,  True,  True,  True,  True])"
      ]
     },
     "execution_count": 16,
     "metadata": {},
     "output_type": "execute_result"
    }
   ],
   "source": [
    "numbers2 < numbers"
   ]
  },
  {
   "cell_type": "code",
   "execution_count": 17,
   "id": "505009bb-555d-4ac0-9ebf-d637ab0c8039",
   "metadata": {},
   "outputs": [
    {
     "data": {
      "text/plain": [
       "array([False, False, False, False, False])"
      ]
     },
     "execution_count": 17,
     "metadata": {},
     "output_type": "execute_result"
    }
   ],
   "source": [
    "numbers == numbers2"
   ]
  },
  {
   "cell_type": "code",
   "execution_count": 18,
   "id": "43ea882f-d6ef-44c6-b53a-ed18e9e35c81",
   "metadata": {},
   "outputs": [
    {
     "data": {
      "text/plain": [
       "array([ True,  True,  True,  True,  True])"
      ]
     },
     "execution_count": 18,
     "metadata": {},
     "output_type": "execute_result"
    }
   ],
   "source": [
    "numbers == numbers"
   ]
  },
  {
   "cell_type": "markdown",
   "id": "d5866c69-a4d1-48ba-a8d0-f296281eec3d",
   "metadata": {},
   "source": [
    "### 7.7 Self Check"
   ]
  }
 ],
 "metadata": {
  "kernelspec": {
   "display_name": "Python 3 (ipykernel)",
   "language": "python",
   "name": "python3"
  },
  "language_info": {
   "codemirror_mode": {
    "name": "ipython",
    "version": 3
   },
   "file_extension": ".py",
   "mimetype": "text/x-python",
   "name": "python",
   "nbconvert_exporter": "python",
   "pygments_lexer": "ipython3",
   "version": "3.9.7"
  }
 },
 "nbformat": 4,
 "nbformat_minor": 5
}
