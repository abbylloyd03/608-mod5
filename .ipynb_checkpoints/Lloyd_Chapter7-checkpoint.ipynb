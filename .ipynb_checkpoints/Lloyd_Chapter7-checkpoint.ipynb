{
 "cells": [
  {
   "cell_type": "markdown",
   "id": "cb1475f1-77c8-4ab1-8ea7-2306b9602d6e",
   "metadata": {},
   "source": [
    "# Chapter 7: Array-Oriented Programming with NumPy"
   ]
  },
  {
   "cell_type": "markdown",
   "id": "26ba59f5-caa1-4565-8967-3bc0e79aafc2",
   "metadata": {},
   "source": [
    "[Numpy documentation here](https://numpy.org/doc/stable/index.html)"
   ]
  },
  {
   "cell_type": "markdown",
   "id": "947b24fb-7b23-440a-8536-b1a80f66b826",
   "metadata": {},
   "source": [
    "### 7.2 Creating arrays from existing data"
   ]
  },
  {
   "cell_type": "code",
   "execution_count": 2,
   "id": "5fb28240-238b-49b8-ab00-b4aad4873426",
   "metadata": {},
   "outputs": [
    {
     "name": "stdout",
     "output_type": "stream",
     "text": [
      "[ 2  3  5  7 11]\n"
     ]
    },
    {
     "data": {
      "text/plain": [
       "numpy.ndarray"
      ]
     },
     "execution_count": 2,
     "metadata": {},
     "output_type": "execute_result"
    }
   ],
   "source": [
    "import numpy as np\n",
    "\n",
    "numbers = np.array([2, 3, 5, 7, 11])\n",
    "print(numbers)\n",
    "\n",
    "type(numbers)"
   ]
  },
  {
   "cell_type": "markdown",
   "id": "f10aaa2b-7d26-4574-9ea5-623cc5166b20",
   "metadata": {},
   "source": [
    "Multidimensional arguments"
   ]
  },
  {
   "cell_type": "code",
   "execution_count": 3,
   "id": "2a763519-ba6e-403f-a8e5-f4ff1113aafd",
   "metadata": {},
   "outputs": [
    {
     "data": {
      "text/plain": [
       "array([[1, 2, 3],\n",
       "       [4, 5, 6]])"
      ]
     },
     "execution_count": 3,
     "metadata": {},
     "output_type": "execute_result"
    }
   ],
   "source": [
    "np.array([[1, 2, 3], [4, 5, 6]])"
   ]
  },
  {
   "cell_type": "markdown",
   "id": "56cf93a8-3a02-4b22-be83-e88367f486a2",
   "metadata": {},
   "source": [
    "### 7.2 Self Check"
   ]
  },
  {
   "cell_type": "code",
   "execution_count": 7,
   "id": "8d61e39b-db74-4891-9894-6fa4aac7efaf",
   "metadata": {},
   "outputs": [
    {
     "name": "stdout",
     "output_type": "stream",
     "text": [
      "[ 2  4  6  8 10 12 14 16 18 20]\n"
     ]
    }
   ],
   "source": [
    "numbers1 = np.array([item for item in range(2, 21, 2)])\n",
    "print(numbers1)"
   ]
  },
  {
   "cell_type": "code",
   "execution_count": 9,
   "id": "1bfe5211-a0cd-40ce-bdb9-b233dbb5243b",
   "metadata": {},
   "outputs": [
    {
     "name": "stdout",
     "output_type": "stream",
     "text": [
      "[[ 2  4  6  8 10]\n",
      " [ 1  3  5  7  9]]\n"
     ]
    }
   ],
   "source": [
    "numbers2 = np.array([[item for item in range(2, 11, 2)], [item for item in range(1, 10, 2)]])\n",
    "print(numbers2)"
   ]
  },
  {
   "cell_type": "markdown",
   "id": "116fd3d5-13b6-4f40-b812-71ea47318243",
   "metadata": {},
   "source": [
    "### 7.3 array attributes"
   ]
  },
  {
   "cell_type": "code",
   "execution_count": 13,
   "id": "11d4059b-1178-47fc-9039-279212080eea",
   "metadata": {},
   "outputs": [
    {
     "name": "stdout",
     "output_type": "stream",
     "text": [
      "[[1 2 3]\n",
      " [4 5 6]]\n",
      "[0.  0.1 0.2 0.3 0.4]\n"
     ]
    }
   ],
   "source": [
    "import numpy as np\n",
    "\n",
    "integers = np.array([[1, 2, 3], [4, 5, 6]])\n",
    "print(integers)\n",
    "\n",
    "floats = np.array([0.0, 0.1, 0.2, 0.3, 0.4])\n",
    "print(floats)"
   ]
  },
  {
   "cell_type": "markdown",
   "id": "a88ac46c-04ec-4ff2-aa00-3abf679063ff",
   "metadata": {},
   "source": [
    "**Determining an array's element type**"
   ]
  },
  {
   "cell_type": "code",
   "execution_count": 17,
   "id": "4e4c5f69-9f14-42e6-8639-e259098e5697",
   "metadata": {},
   "outputs": [
    {
     "data": {
      "text/plain": [
       "dtype('int64')"
      ]
     },
     "execution_count": 17,
     "metadata": {},
     "output_type": "execute_result"
    }
   ],
   "source": [
    "integers.dtype"
   ]
  },
  {
   "cell_type": "code",
   "execution_count": 18,
   "id": "3f4ba45f-6961-43bb-845e-a41a59f4214f",
   "metadata": {},
   "outputs": [
    {
     "data": {
      "text/plain": [
       "dtype('float64')"
      ]
     },
     "execution_count": 18,
     "metadata": {},
     "output_type": "execute_result"
    }
   ],
   "source": [
    "floats.dtype"
   ]
  },
  {
   "cell_type": "markdown",
   "id": "3a4136e7-c2d4-4093-8a1a-2fa94009111e",
   "metadata": {},
   "source": [
    "**Determing an array's dimensions**"
   ]
  },
  {
   "cell_type": "code",
   "execution_count": 19,
   "id": "ec0bc57d-6ab0-4831-a3c4-00bd6caf9869",
   "metadata": {},
   "outputs": [
    {
     "data": {
      "text/plain": [
       "2"
      ]
     },
     "execution_count": 19,
     "metadata": {},
     "output_type": "execute_result"
    }
   ],
   "source": [
    "integers.ndim"
   ]
  },
  {
   "cell_type": "code",
   "execution_count": 20,
   "id": "9439f064-bdc5-487f-ac33-dd466835b8cf",
   "metadata": {},
   "outputs": [
    {
     "data": {
      "text/plain": [
       "1"
      ]
     },
     "execution_count": 20,
     "metadata": {},
     "output_type": "execute_result"
    }
   ],
   "source": [
    "floats.ndim"
   ]
  },
  {
   "cell_type": "code",
   "execution_count": 21,
   "id": "885435f6-a4ca-437b-8e72-c4f4b42717e5",
   "metadata": {},
   "outputs": [
    {
     "data": {
      "text/plain": [
       "(2, 3)"
      ]
     },
     "execution_count": 21,
     "metadata": {},
     "output_type": "execute_result"
    }
   ],
   "source": [
    "integers.shape"
   ]
  },
  {
   "cell_type": "code",
   "execution_count": 22,
   "id": "a8d50813-afc2-4421-901a-2706166d1fde",
   "metadata": {},
   "outputs": [
    {
     "data": {
      "text/plain": [
       "(5,)"
      ]
     },
     "execution_count": 22,
     "metadata": {},
     "output_type": "execute_result"
    }
   ],
   "source": [
    "floats.shape"
   ]
  },
  {
   "cell_type": "markdown",
   "id": "05d9fc42-9a5d-487b-b77a-3bc2b2ae57f1",
   "metadata": {},
   "source": [
    "**Determining an array's number of elements and element size**\n",
    "- size: total number of elements\n",
    "- itemsize: number of bytes required to store each element"
   ]
  },
  {
   "cell_type": "code",
   "execution_count": 23,
   "id": "ed3a6e6e-3243-4590-bbaa-aa7540adf128",
   "metadata": {},
   "outputs": [
    {
     "data": {
      "text/plain": [
       "6"
      ]
     },
     "execution_count": 23,
     "metadata": {},
     "output_type": "execute_result"
    }
   ],
   "source": [
    "integers.size"
   ]
  },
  {
   "cell_type": "code",
   "execution_count": 24,
   "id": "d42718a4-b065-490a-b963-6e171600c85d",
   "metadata": {},
   "outputs": [
    {
     "data": {
      "text/plain": [
       "8"
      ]
     },
     "execution_count": 24,
     "metadata": {},
     "output_type": "execute_result"
    }
   ],
   "source": [
    "integers.itemsize"
   ]
  },
  {
   "cell_type": "code",
   "execution_count": 25,
   "id": "7281c7ae-1f48-47d8-93a0-59223b7e2138",
   "metadata": {},
   "outputs": [
    {
     "data": {
      "text/plain": [
       "5"
      ]
     },
     "execution_count": 25,
     "metadata": {},
     "output_type": "execute_result"
    }
   ],
   "source": [
    "floats.size"
   ]
  },
  {
   "cell_type": "code",
   "execution_count": 26,
   "id": "833ce1dc-9378-445b-857c-c38a5ce9d443",
   "metadata": {},
   "outputs": [
    {
     "data": {
      "text/plain": [
       "8"
      ]
     },
     "execution_count": 26,
     "metadata": {},
     "output_type": "execute_result"
    }
   ],
   "source": [
    "floats.itemsize"
   ]
  },
  {
   "cell_type": "markdown",
   "id": "e19b0c70-f89b-4b04-ab0d-ecd84db1fc97",
   "metadata": {},
   "source": [
    "**Iterating through a multidimensional array's elements**"
   ]
  },
  {
   "cell_type": "code",
   "execution_count": 29,
   "id": "df724fcb-3d08-4bb7-b90b-eb58bca21eeb",
   "metadata": {},
   "outputs": [
    {
     "name": "stdout",
     "output_type": "stream",
     "text": [
      "1 2 3 \n",
      "4 5 6 \n"
     ]
    }
   ],
   "source": [
    "for row in integers:\n",
    "    for column in row:\n",
    "        print(column, end=' ')\n",
    "    print()"
   ]
  },
  {
   "cell_type": "markdown",
   "id": "194ec23d-359e-40ff-b2cc-9c362793e912",
   "metadata": {},
   "source": [
    "**You can iterate through a multidimensional array as if it were one-dimensional by using its flat attribute**"
   ]
  },
  {
   "cell_type": "code",
   "execution_count": 30,
   "id": "68244747-df0c-40e8-8cc6-b2018e540b08",
   "metadata": {},
   "outputs": [
    {
     "name": "stdout",
     "output_type": "stream",
     "text": [
      "1 2 3 4 5 6 "
     ]
    }
   ],
   "source": [
    "for i in integers.flat:\n",
    "    print(i, end=' ')"
   ]
  },
  {
   "cell_type": "markdown",
   "id": "b1727d6d-01cd-4b89-8636-83947eaf537d",
   "metadata": {},
   "source": [
    "### 7.3 Self Check"
   ]
  },
  {
   "cell_type": "code",
   "execution_count": 32,
   "id": "c698818f-1d2e-41a8-b80e-46882938d24b",
   "metadata": {},
   "outputs": [
    {
     "name": "stdout",
     "output_type": "stream",
     "text": [
      "2\n",
      "(2, 5)\n"
     ]
    }
   ],
   "source": [
    "print(numbers2.ndim)\n",
    "print(numbers2.shape)"
   ]
  },
  {
   "cell_type": "markdown",
   "id": "4923a331-121c-4744-9410-2926ab0e978d",
   "metadata": {},
   "source": [
    "### 7.4 Filling arrays with specific values"
   ]
  },
  {
   "cell_type": "code",
   "execution_count": 34,
   "id": "d3b92683-4b8a-4c2c-985f-671cdee49dd7",
   "metadata": {},
   "outputs": [
    {
     "data": {
      "text/plain": [
       "array([0., 0., 0., 0., 0.])"
      ]
     },
     "execution_count": 34,
     "metadata": {},
     "output_type": "execute_result"
    }
   ],
   "source": [
    "import numpy as np\n",
    "\n",
    "np.zeros(5)"
   ]
  },
  {
   "cell_type": "code",
   "execution_count": 38,
   "id": "c4e6212a-1595-4d84-abb7-1e63cc81d795",
   "metadata": {},
   "outputs": [
    {
     "data": {
      "text/plain": [
       "array([[1., 1., 1., 1.],\n",
       "       [1., 1., 1., 1.]])"
      ]
     },
     "execution_count": 38,
     "metadata": {},
     "output_type": "execute_result"
    }
   ],
   "source": [
    "np.ones((2, 4), dtype=float) #Specify the array's element type with the dtype argument"
   ]
  },
  {
   "cell_type": "code",
   "execution_count": 37,
   "id": "12cc760e-be80-4afd-a65b-f4b092a3b76c",
   "metadata": {},
   "outputs": [
    {
     "data": {
      "text/plain": [
       "array([[13, 13, 13, 13, 13],\n",
       "       [13, 13, 13, 13, 13],\n",
       "       [13, 13, 13, 13, 13]])"
      ]
     },
     "execution_count": 37,
     "metadata": {},
     "output_type": "execute_result"
    }
   ],
   "source": [
    "np.full((3, 5), 13)"
   ]
  },
  {
   "cell_type": "markdown",
   "id": "6d8cbab6-9817-4ce3-8e86-4e972e5413f3",
   "metadata": {},
   "source": [
    "### 7.5 Creating arrays from ranges"
   ]
  },
  {
   "cell_type": "markdown",
   "id": "3f6ba08d-351e-4d62-95f8-fbebee569f6b",
   "metadata": {},
   "source": [
    "**Creating integer ranges with arrange**"
   ]
  },
  {
   "cell_type": "code",
   "execution_count": 40,
   "id": "dc592efc-d0b4-4736-bcf3-a69c804191dd",
   "metadata": {},
   "outputs": [
    {
     "data": {
      "text/plain": [
       "array([0, 1, 2, 3, 4])"
      ]
     },
     "execution_count": 40,
     "metadata": {},
     "output_type": "execute_result"
    }
   ],
   "source": [
    "np.arange(5)"
   ]
  },
  {
   "cell_type": "code",
   "execution_count": 41,
   "id": "9463eede-50be-4523-9c48-478eb689b5ee",
   "metadata": {},
   "outputs": [
    {
     "data": {
      "text/plain": [
       "array([5, 6, 7, 8, 9])"
      ]
     },
     "execution_count": 41,
     "metadata": {},
     "output_type": "execute_result"
    }
   ],
   "source": [
    "np.arange(5, 10)"
   ]
  },
  {
   "cell_type": "code",
   "execution_count": 43,
   "id": "19aacd38-b36e-4594-92cb-d71adbb25aba",
   "metadata": {},
   "outputs": [
    {
     "data": {
      "text/plain": [
       "array([10,  8,  6,  4,  2])"
      ]
     },
     "execution_count": 43,
     "metadata": {},
     "output_type": "execute_result"
    }
   ],
   "source": [
    "np.arange(10, 1, -2)"
   ]
  },
  {
   "cell_type": "markdown",
   "id": "6dbd9ac6-ae78-4084-acb3-68abfd983635",
   "metadata": {},
   "source": [
    "**Creating floating-point ranges with linespace**: create evenly spaced floating-point ranges"
   ]
  },
  {
   "cell_type": "code",
   "execution_count": 52,
   "id": "8f0c65ad-45c7-4389-b99c-6ebb85e73029",
   "metadata": {},
   "outputs": [
    {
     "data": {
      "text/plain": [
       "array([0.  , 0.25, 0.5 , 0.75, 1.  ])"
      ]
     },
     "execution_count": 52,
     "metadata": {},
     "output_type": "execute_result"
    }
   ],
   "source": [
    "np.linspace(0.0, 1.0, num=5)\n",
    "# first, second numbers: starting and ending values (ending value is including in the array)\n",
    "# last number: number of evenly spaced values to produce (the default value is 50)"
   ]
  },
  {
   "cell_type": "code",
   "execution_count": 53,
   "id": "ec7098cb-5aae-459b-8078-f0770fe45ce4",
   "metadata": {},
   "outputs": [
    {
     "data": {
      "text/plain": [
       "array([0.        , 0.05263158, 0.10526316, 0.15789474, 0.21052632,\n",
       "       0.26315789, 0.31578947, 0.36842105, 0.42105263, 0.47368421,\n",
       "       0.52631579, 0.57894737, 0.63157895, 0.68421053, 0.73684211,\n",
       "       0.78947368, 0.84210526, 0.89473684, 0.94736842, 1.        ])"
      ]
     },
     "execution_count": 53,
     "metadata": {},
     "output_type": "execute_result"
    }
   ],
   "source": [
    "np.linspace(0.0, 1.0, 20)"
   ]
  },
  {
   "cell_type": "markdown",
   "id": "174b1ca5-65ca-4131-98a2-c4533abd041b",
   "metadata": {},
   "source": [
    "**Reshaping an array**"
   ]
  },
  {
   "cell_type": "code",
   "execution_count": 55,
   "id": "50a330b2-a314-4f60-ad06-06a6fababfe1",
   "metadata": {},
   "outputs": [
    {
     "data": {
      "text/plain": [
       "array([[ 1,  2,  3,  4,  5],\n",
       "       [ 6,  7,  8,  9, 10],\n",
       "       [11, 12, 13, 14, 15],\n",
       "       [16, 17, 18, 19, 20]])"
      ]
     },
     "execution_count": 55,
     "metadata": {},
     "output_type": "execute_result"
    }
   ],
   "source": [
    "np.arange(1, 21).reshape(4, 5) # chained method call"
   ]
  },
  {
   "cell_type": "markdown",
   "id": "cdd7cb74-bb00-45de-9071-73045185e854",
   "metadata": {},
   "source": [
    "**Displaying large arrays**"
   ]
  },
  {
   "cell_type": "code",
   "execution_count": 56,
   "id": "af1afecb-d830-465a-a21b-d83f26ccbb80",
   "metadata": {},
   "outputs": [
    {
     "data": {
      "text/plain": [
       "array([[     1,      2,      3, ...,  24998,  24999,  25000],\n",
       "       [ 25001,  25002,  25003, ...,  49998,  49999,  50000],\n",
       "       [ 50001,  50002,  50003, ...,  74998,  74999,  75000],\n",
       "       [ 75001,  75002,  75003, ...,  99998,  99999, 100000]])"
      ]
     },
     "execution_count": 56,
     "metadata": {},
     "output_type": "execute_result"
    }
   ],
   "source": [
    "np.arange(1, 100001).reshape(4, 25000)"
   ]
  },
  {
   "cell_type": "code",
   "execution_count": 57,
   "id": "c8fcb71e-3b9f-440e-b7e3-7ba803085704",
   "metadata": {},
   "outputs": [
    {
     "data": {
      "text/plain": [
       "array([[     1,      2,      3, ...,    998,    999,   1000],\n",
       "       [  1001,   1002,   1003, ...,   1998,   1999,   2000],\n",
       "       [  2001,   2002,   2003, ...,   2998,   2999,   3000],\n",
       "       ...,\n",
       "       [ 97001,  97002,  97003, ...,  97998,  97999,  98000],\n",
       "       [ 98001,  98002,  98003, ...,  98998,  98999,  99000],\n",
       "       [ 99001,  99002,  99003, ...,  99998,  99999, 100000]])"
      ]
     },
     "execution_count": 57,
     "metadata": {},
     "output_type": "execute_result"
    }
   ],
   "source": [
    "np.arange(1, 100001).reshape(100, 1000)"
   ]
  },
  {
   "cell_type": "markdown",
   "id": "56b90c48-4f6a-42cc-9a8a-c4397c5540e1",
   "metadata": {},
   "source": [
    "### 7.5 Self Check"
   ]
  },
  {
   "cell_type": "code",
   "execution_count": 58,
   "id": "3f4b4fd5-8b7c-4a86-8888-f1a58ced5825",
   "metadata": {},
   "outputs": [
    {
     "data": {
      "text/plain": [
       "array([[ 2,  4,  6,  8, 10],\n",
       "       [12, 14, 16, 18, 20],\n",
       "       [22, 24, 26, 28, 30],\n",
       "       [32, 34, 36, 38, 40]])"
      ]
     },
     "execution_count": 58,
     "metadata": {},
     "output_type": "execute_result"
    }
   ],
   "source": [
    "np.arange(2, 41, 2).reshape(4, 5)"
   ]
  },
  {
   "cell_type": "markdown",
   "id": "65897485-0cd0-4be3-b3c7-45f9a4794dfa",
   "metadata": {},
   "source": [
    "### 7.6 Python Magic"
   ]
  },
  {
   "cell_type": "markdown",
   "id": "d6c2ae55-e879-475e-8b4c-c5573d803483",
   "metadata": {},
   "source": [
    "- %timeit -n3 -r2\n",
    "- %load: to read code into Ipython from a local file or URL\n",
    "- %run: to execute a .py file from Ipython\n",
    "- %precision: to change the default floating-point precision for ipython outputs\n",
    "- %cd: to change directories without having to exit ipython first\n",
    "- %edit to launch an external editor\n",
    "- %history to view a list of all snippets and commands you've executed in the current ipython session"
   ]
  },
  {
   "cell_type": "markdown",
   "id": "f0dcc713-46b7-485e-a1a1-6bccf5bdbffc",
   "metadata": {},
   "source": [
    "### 7.7 array operators"
   ]
  },
  {
   "cell_type": "markdown",
   "id": "79262b9f-7c95-43e4-8134-d211c290ac3d",
   "metadata": {},
   "source": [
    "**Arithmetic operations with arrays and individual numeric values**: each returns a new array containing the result"
   ]
  },
  {
   "cell_type": "code",
   "execution_count": 4,
   "id": "dcc59f45-7756-4157-9ed4-5c6cce0d1bd3",
   "metadata": {},
   "outputs": [
    {
     "data": {
      "text/plain": [
       "array([ 2,  4,  6,  8, 10])"
      ]
     },
     "execution_count": 4,
     "metadata": {},
     "output_type": "execute_result"
    }
   ],
   "source": [
    "import numpy as np\n",
    "numbers = np.arange(1, 6)\n",
    "numbers * 2"
   ]
  },
  {
   "cell_type": "code",
   "execution_count": 5,
   "id": "51f4d646-563b-412c-8100-0a8c0bb000ae",
   "metadata": {},
   "outputs": [
    {
     "data": {
      "text/plain": [
       "array([  1,   8,  27,  64, 125])"
      ]
     },
     "execution_count": 5,
     "metadata": {},
     "output_type": "execute_result"
    }
   ],
   "source": [
    "numbers ** 3"
   ]
  },
  {
   "cell_type": "code",
   "execution_count": 6,
   "id": "09aa19db-0ba1-4f8f-b083-c67b0368482c",
   "metadata": {},
   "outputs": [
    {
     "data": {
      "text/plain": [
       "array([1, 2, 3, 4, 5])"
      ]
     },
     "execution_count": 6,
     "metadata": {},
     "output_type": "execute_result"
    }
   ],
   "source": [
    "numbers # numbers is unchanged by the arithmetic operations"
   ]
  },
  {
   "cell_type": "markdown",
   "id": "076057f6-db72-4c1e-b2ed-31dd2540cfe5",
   "metadata": {},
   "source": [
    "**Augmented assignments modify every element in the left operand**"
   ]
  },
  {
   "cell_type": "code",
   "execution_count": 7,
   "id": "5fde7642-a87a-4c6f-8eac-84c7c5c063bd",
   "metadata": {},
   "outputs": [
    {
     "name": "stdout",
     "output_type": "stream",
     "text": [
      "[11 12 13 14 15]\n"
     ]
    }
   ],
   "source": [
    "numbers += 10\n",
    "print(numbers)"
   ]
  },
  {
   "cell_type": "markdown",
   "id": "3498b23a-676b-4bab-862f-7675a0596bd6",
   "metadata": {},
   "source": [
    "**Broadcasting**: When one operand is a single value, called a scalar, NumPy performs the element-wise calculations as if the scalar were an array of the same shape as the other operand, but with the scalar value in all its elements."
   ]
  },
  {
   "cell_type": "code",
   "execution_count": 8,
   "id": "d0e135b0-754a-4603-9df8-1e4f6615da3e",
   "metadata": {},
   "outputs": [
    {
     "data": {
      "text/plain": [
       "array([22, 24, 26, 28, 30])"
      ]
     },
     "execution_count": 8,
     "metadata": {},
     "output_type": "execute_result"
    }
   ],
   "source": [
    "numbers * [2, 2, 2, 2, 2]"
   ]
  },
  {
   "cell_type": "code",
   "execution_count": 9,
   "id": "768ba3a2-3388-4573-88e4-0cd0c4c80ce1",
   "metadata": {},
   "outputs": [
    {
     "data": {
      "text/plain": [
       "array([22, 24, 26, 28, 30])"
      ]
     },
     "execution_count": 9,
     "metadata": {},
     "output_type": "execute_result"
    }
   ],
   "source": [
    "numbers * 2"
   ]
  },
  {
   "cell_type": "markdown",
   "id": "3c71e4a2-49ea-427a-983b-46268c533eb8",
   "metadata": {},
   "source": [
    "**Arithmetic operations between arrays**: you may perform arithmetic operations and augmented assignments between arrays of the same shape"
   ]
  },
  {
   "cell_type": "code",
   "execution_count": 12,
   "id": "b23e111d-5dbc-468c-ae92-366f72ff7301",
   "metadata": {},
   "outputs": [
    {
     "name": "stdout",
     "output_type": "stream",
     "text": [
      "[1.1 2.2 3.3 4.4 5.5]\n"
     ]
    },
    {
     "data": {
      "text/plain": [
       "array([12.1, 26.4, 42.9, 61.6, 82.5])"
      ]
     },
     "execution_count": 12,
     "metadata": {},
     "output_type": "execute_result"
    }
   ],
   "source": [
    "numbers2 = np.linspace(1.1, 5.5, 5)\n",
    "print(numbers2)\n",
    "\n",
    "numbers * numbers2"
   ]
  },
  {
   "cell_type": "markdown",
   "id": "04bb4d17-c7ca-410d-8716-3b542ff4aad2",
   "metadata": {},
   "source": [
    "**Comparing arrays**: comparisons are performed element-wise"
   ]
  },
  {
   "cell_type": "code",
   "execution_count": 13,
   "id": "0aa445e6-62af-4f48-b205-d1a5f58968d8",
   "metadata": {},
   "outputs": [
    {
     "data": {
      "text/plain": [
       "array([11, 12, 13, 14, 15])"
      ]
     },
     "execution_count": 13,
     "metadata": {},
     "output_type": "execute_result"
    }
   ],
   "source": [
    "numbers"
   ]
  },
  {
   "cell_type": "code",
   "execution_count": 14,
   "id": "fbc1d175-7246-4a98-8d00-3f8efec13b44",
   "metadata": {},
   "outputs": [
    {
     "data": {
      "text/plain": [
       "array([False, False,  True,  True,  True])"
      ]
     },
     "execution_count": 14,
     "metadata": {},
     "output_type": "execute_result"
    }
   ],
   "source": [
    "numbers >= 13"
   ]
  },
  {
   "cell_type": "code",
   "execution_count": 15,
   "id": "cb87f532-ba93-4efc-971d-eae0904cf0fe",
   "metadata": {},
   "outputs": [
    {
     "data": {
      "text/plain": [
       "array([1.1, 2.2, 3.3, 4.4, 5.5])"
      ]
     },
     "execution_count": 15,
     "metadata": {},
     "output_type": "execute_result"
    }
   ],
   "source": [
    "numbers2"
   ]
  },
  {
   "cell_type": "code",
   "execution_count": 16,
   "id": "1e226b00-5c70-4b4e-b9fb-df64b13c530a",
   "metadata": {},
   "outputs": [
    {
     "data": {
      "text/plain": [
       "array([ True,  True,  True,  True,  True])"
      ]
     },
     "execution_count": 16,
     "metadata": {},
     "output_type": "execute_result"
    }
   ],
   "source": [
    "numbers2 < numbers"
   ]
  },
  {
   "cell_type": "code",
   "execution_count": 17,
   "id": "505009bb-555d-4ac0-9ebf-d637ab0c8039",
   "metadata": {},
   "outputs": [
    {
     "data": {
      "text/plain": [
       "array([False, False, False, False, False])"
      ]
     },
     "execution_count": 17,
     "metadata": {},
     "output_type": "execute_result"
    }
   ],
   "source": [
    "numbers == numbers2"
   ]
  },
  {
   "cell_type": "code",
   "execution_count": 18,
   "id": "43ea882f-d6ef-44c6-b53a-ed18e9e35c81",
   "metadata": {},
   "outputs": [
    {
     "data": {
      "text/plain": [
       "array([ True,  True,  True,  True,  True])"
      ]
     },
     "execution_count": 18,
     "metadata": {},
     "output_type": "execute_result"
    }
   ],
   "source": [
    "numbers == numbers"
   ]
  },
  {
   "cell_type": "markdown",
   "id": "d5866c69-a4d1-48ba-a8d0-f296281eec3d",
   "metadata": {},
   "source": [
    "### 7.7 Self Check"
   ]
  },
  {
   "cell_type": "code",
   "execution_count": 1,
   "id": "5eca6833-cf8b-4868-95ef-0ef2d52c78a0",
   "metadata": {},
   "outputs": [
    {
     "name": "stdout",
     "output_type": "stream",
     "text": [
      "[ 1  4  9 16 25]\n"
     ]
    }
   ],
   "source": [
    "import numpy as np\n",
    "\n",
    "numbers5 = np.array(range(1,6))\n",
    "\n",
    "numbers6 = numbers5 ** 2\n",
    "\n",
    "print(numbers6)"
   ]
  },
  {
   "cell_type": "markdown",
   "id": "4188e40b-52f6-42c2-9109-6ebf0172b9c7",
   "metadata": {},
   "source": [
    "### 7.8 Numpy Calculation Methods"
   ]
  },
  {
   "cell_type": "markdown",
   "id": "95e006d5-e036-424a-b28e-8d2911642911",
   "metadata": {},
   "source": [
    "By default, these methods ignore the array's shape and use all the elements in the calculations."
   ]
  },
  {
   "cell_type": "code",
   "execution_count": 3,
   "id": "cedf3086-069f-4aa3-86a7-93060aa0de72",
   "metadata": {},
   "outputs": [
    {
     "data": {
      "text/plain": [
       "array([[ 87,  96,  70],\n",
       "       [100,  87,  90],\n",
       "       [ 94,  77,  90],\n",
       "       [100,  81,  82]])"
      ]
     },
     "execution_count": 3,
     "metadata": {},
     "output_type": "execute_result"
    }
   ],
   "source": [
    "import numpy as np\n",
    "\n",
    "grades = np.array([[87, 96, 70], [100, 87, 90],\n",
    "                  [94, 77, 90], [100, 81, 82]])\n",
    "\n",
    "grades"
   ]
  },
  {
   "cell_type": "markdown",
   "id": "33f00d1a-233c-4985-bb5a-9f0ed6f2a97d",
   "metadata": {},
   "source": [
    "Each of the following is a functional-style programming reduction:"
   ]
  },
  {
   "cell_type": "code",
   "execution_count": 4,
   "id": "bf314f05-78d7-4c91-84f7-3d1d2f3a7fb8",
   "metadata": {},
   "outputs": [
    {
     "data": {
      "text/plain": [
       "1054"
      ]
     },
     "execution_count": 4,
     "metadata": {},
     "output_type": "execute_result"
    }
   ],
   "source": [
    "grades.sum()"
   ]
  },
  {
   "cell_type": "code",
   "execution_count": 5,
   "id": "7a5c3caa-0c6f-4afc-97f7-a86fac7cd844",
   "metadata": {},
   "outputs": [
    {
     "data": {
      "text/plain": [
       "70"
      ]
     },
     "execution_count": 5,
     "metadata": {},
     "output_type": "execute_result"
    }
   ],
   "source": [
    "grades.min()"
   ]
  },
  {
   "cell_type": "code",
   "execution_count": 6,
   "id": "6485af55-58cf-4990-a11b-29c3acd7e680",
   "metadata": {},
   "outputs": [
    {
     "data": {
      "text/plain": [
       "100"
      ]
     },
     "execution_count": 6,
     "metadata": {},
     "output_type": "execute_result"
    }
   ],
   "source": [
    "grades.max()"
   ]
  },
  {
   "cell_type": "code",
   "execution_count": 7,
   "id": "12720f60-da4a-46f5-aa6b-ac4be47b9b0a",
   "metadata": {},
   "outputs": [
    {
     "data": {
      "text/plain": [
       "87.83333333333333"
      ]
     },
     "execution_count": 7,
     "metadata": {},
     "output_type": "execute_result"
    }
   ],
   "source": [
    "grades.mean()"
   ]
  },
  {
   "cell_type": "code",
   "execution_count": 8,
   "id": "86dc98f2-b249-4ee9-a3a8-8f601885d468",
   "metadata": {},
   "outputs": [
    {
     "data": {
      "text/plain": [
       "8.792357792739987"
      ]
     },
     "execution_count": 8,
     "metadata": {},
     "output_type": "execute_result"
    }
   ],
   "source": [
    "grades.std()"
   ]
  },
  {
   "cell_type": "code",
   "execution_count": 9,
   "id": "b11e0cbc-ca1e-4ba7-add7-7c815e998a46",
   "metadata": {},
   "outputs": [
    {
     "data": {
      "text/plain": [
       "77.30555555555556"
      ]
     },
     "execution_count": 9,
     "metadata": {},
     "output_type": "execute_result"
    }
   ],
   "source": [
    "grades.var()"
   ]
  },
  {
   "cell_type": "markdown",
   "id": "2285be9e-0199-464a-9dfb-48489762a5e3",
   "metadata": {},
   "source": [
    "**Calculations by row or column**"
   ]
  },
  {
   "cell_type": "code",
   "execution_count": 19,
   "id": "7d02d4b1-d44e-4697-89b6-bd067275a423",
   "metadata": {},
   "outputs": [
    {
     "data": {
      "text/plain": [
       "array([95.25, 85.25, 83.  ])"
      ]
     },
     "execution_count": 19,
     "metadata": {},
     "output_type": "execute_result"
    }
   ],
   "source": [
    "grades.mean(axis=0) # Specifying axis=0 performs the calculation on all the row values within each column.\n",
    "# This calculates the mean test grade for each test"
   ]
  },
  {
   "cell_type": "code",
   "execution_count": 20,
   "id": "ac34bc5d-9cbc-4cf4-a13e-14ecc639df16",
   "metadata": {},
   "outputs": [
    {
     "data": {
      "text/plain": [
       "array([84.33333333, 92.33333333, 87.        , 87.66666667])"
      ]
     },
     "execution_count": 20,
     "metadata": {},
     "output_type": "execute_result"
    }
   ],
   "source": [
    "grades.mean(axis=1) # Specifying axis=1 performs the calculation on all the column values within each individual row.\n",
    "# This calculates the mean test grade for each student."
   ]
  },
  {
   "cell_type": "markdown",
   "id": "9dc4b33d-99d9-45b3-9dd7-df86eb5462de",
   "metadata": {},
   "source": [
    "### 7.8 Self Check"
   ]
  },
  {
   "cell_type": "code",
   "execution_count": 18,
   "id": "7a7d4ebd-d488-48c2-9ee9-95e8de153d6f",
   "metadata": {},
   "outputs": [
    {
     "name": "stdout",
     "output_type": "stream",
     "text": [
      "[[74 84 72 70]\n",
      " [99 77 88 63]\n",
      " [94 91 62 60]]\n",
      "77.83333333333333\n",
      "[89.         84.         74.         64.33333333]\n",
      "[75.   81.75 76.75]\n"
     ]
    }
   ],
   "source": [
    "import numpy as np\n",
    "\n",
    "df1 = np.random.randint(60, 100, 12).reshape(3, 4)\n",
    "\n",
    "print(df1)\n",
    "\n",
    "print(df1.mean()) # average of all numbers\n",
    "\n",
    "print(df1.mean(axis=0)) # column average\n",
    "\n",
    "print(df1.mean(axis=1)) # row average"
   ]
  },
  {
   "cell_type": "markdown",
   "id": "827c1645-229a-4a39-bc99-893e5fedc014",
   "metadata": {},
   "source": [
    "### 7.9 Universal Functions"
   ]
  },
  {
   "cell_type": "code",
   "execution_count": 21,
   "id": "9264f27f-ff61-4855-aa6f-e3d8fa2afb5f",
   "metadata": {},
   "outputs": [
    {
     "data": {
      "text/plain": [
       "array([1., 2., 3., 4., 5., 6.])"
      ]
     },
     "execution_count": 21,
     "metadata": {},
     "output_type": "execute_result"
    }
   ],
   "source": [
    "import numpy as np\n",
    "\n",
    "numbers = np.array([1, 4, 9, 16, 25, 36])\n",
    "\n",
    "np.sqrt(numbers)"
   ]
  },
  {
   "cell_type": "code",
   "execution_count": 23,
   "id": "aeea92ba-96d0-4843-a55f-d1898a6d693b",
   "metadata": {},
   "outputs": [
    {
     "data": {
      "text/plain": [
       "array([10, 20, 30, 40, 50, 60])"
      ]
     },
     "execution_count": 23,
     "metadata": {},
     "output_type": "execute_result"
    }
   ],
   "source": [
    "numbers2 = np.arange(1, 7) * 10\n",
    "numbers2"
   ]
  },
  {
   "cell_type": "code",
   "execution_count": 24,
   "id": "5515c782-ae50-4864-a799-602d8b4bdf8e",
   "metadata": {},
   "outputs": [
    {
     "data": {
      "text/plain": [
       "array([11, 24, 39, 56, 75, 96])"
      ]
     },
     "execution_count": 24,
     "metadata": {},
     "output_type": "execute_result"
    }
   ],
   "source": [
    "np.add(numbers, numbers2)"
   ]
  },
  {
   "cell_type": "markdown",
   "id": "3b241db5-e0a4-45d5-9dc3-df08ba77b8ae",
   "metadata": {},
   "source": [
    "**Broadcasting with universal functions**"
   ]
  },
  {
   "cell_type": "code",
   "execution_count": 25,
   "id": "478d8795-8623-4060-be5a-c4b685106db7",
   "metadata": {},
   "outputs": [
    {
     "data": {
      "text/plain": [
       "array([ 50, 100, 150, 200, 250, 300])"
      ]
     },
     "execution_count": 25,
     "metadata": {},
     "output_type": "execute_result"
    }
   ],
   "source": [
    "np.multiply(numbers2, 5)"
   ]
  },
  {
   "cell_type": "code",
   "execution_count": 26,
   "id": "465d42b5-14e6-44fe-a35f-55d653da10f0",
   "metadata": {},
   "outputs": [
    {
     "data": {
      "text/plain": [
       "array([[10, 20, 30],\n",
       "       [40, 50, 60]])"
      ]
     },
     "execution_count": 26,
     "metadata": {},
     "output_type": "execute_result"
    }
   ],
   "source": [
    "numbers3 = numbers2.reshape(2, 3)\n",
    "numbers3"
   ]
  },
  {
   "cell_type": "code",
   "execution_count": 28,
   "id": "c39d27db-0524-4a31-ae79-cab47730b7e2",
   "metadata": {},
   "outputs": [
    {
     "data": {
      "text/plain": [
       "array([[ 20,  80, 180],\n",
       "       [ 80, 200, 360]])"
      ]
     },
     "execution_count": 28,
     "metadata": {},
     "output_type": "execute_result"
    }
   ],
   "source": [
    "numbers4 = np.array([2, 4, 6])\n",
    "np.multiply(numbers3, numbers4)"
   ]
  },
  {
   "cell_type": "markdown",
   "id": "b63521bf-c4db-4143-a4e6-a08789cbcf44",
   "metadata": {},
   "source": [
    "If a universal function receives two arrays of different shapes that do not support broadcasting, a ValueError occurs."
   ]
  },
  {
   "cell_type": "markdown",
   "id": "b9c9fc67-2c06-47d8-974b-814539914e20",
   "metadata": {},
   "source": [
    "**Other Universal Functions**"
   ]
  },
  {
   "cell_type": "markdown",
   "id": "e1df28a4-be3f-42c7-bad4-8322849fbf56",
   "metadata": {},
   "source": [
    "[List of universal functions here](https://numpy.org/doc/stable/reference/ufuncs.html)"
   ]
  },
  {
   "cell_type": "markdown",
   "id": "afe318fd-1c42-49c9-b440-d2c67798e5d9",
   "metadata": {},
   "source": [
    "### 7.9 Self Check"
   ]
  },
  {
   "cell_type": "code",
   "execution_count": 32,
   "id": "a9ea5dce-86d0-4867-aad1-1bc555445e81",
   "metadata": {},
   "outputs": [
    {
     "data": {
      "text/plain": [
       "array([  1,   8,  27,  64, 125])"
      ]
     },
     "execution_count": 32,
     "metadata": {},
     "output_type": "execute_result"
    }
   ],
   "source": [
    "import numpy as np\n",
    "\n",
    "array1 = np.array(range(1, 6))\n",
    "\n",
    "np.power(array1, 3)\n",
    "\n"
   ]
  },
  {
   "cell_type": "markdown",
   "id": "70c06bb1-4249-42fa-82bf-03db5b9f6562",
   "metadata": {},
   "source": [
    "### 7.10 Indexing and Slicing"
   ]
  },
  {
   "cell_type": "markdown",
   "id": "04e6b655-509e-4581-9e02-b62a0bc9819d",
   "metadata": {},
   "source": [
    "One-dimensional arrays can be indexed and sliced using the same syntax and techniques used with lists and tuples."
   ]
  },
  {
   "cell_type": "markdown",
   "id": "b7ba35bb-771b-46a7-8790-d5ac293fdc9a",
   "metadata": {},
   "source": [
    "**Indexing with two-dimensional arrays**"
   ]
  },
  {
   "cell_type": "code",
   "execution_count": 34,
   "id": "20ad4f44-9c9b-4992-8758-bb02b69f53f7",
   "metadata": {},
   "outputs": [
    {
     "data": {
      "text/plain": [
       "array([[ 87,  96,  70],\n",
       "       [100,  87,  90],\n",
       "       [ 94,  77,  90],\n",
       "       [100,  81,  82]])"
      ]
     },
     "execution_count": 34,
     "metadata": {},
     "output_type": "execute_result"
    }
   ],
   "source": [
    "import numpy as np\n",
    "\n",
    "grades = np.array([[87, 96, 70], [100, 87, 90],\n",
    "                    [94, 77, 90], [100, 81, 82]])\n",
    "\n",
    "grades"
   ]
  },
  {
   "cell_type": "code",
   "execution_count": 36,
   "id": "18b4bbf5-8503-4104-809b-8b4122e0dffb",
   "metadata": {},
   "outputs": [
    {
     "data": {
      "text/plain": [
       "96"
      ]
     },
     "execution_count": 36,
     "metadata": {},
     "output_type": "execute_result"
    }
   ],
   "source": [
    "grades[0, 1] # row 0, column 1"
   ]
  },
  {
   "cell_type": "markdown",
   "id": "56625cda-de07-40cf-8aa9-471bb7183a4d",
   "metadata": {},
   "source": [
    "**Selecting a subset of a two-dimensional array's rows**"
   ]
  },
  {
   "cell_type": "code",
   "execution_count": 38,
   "id": "8b7da9e8-2a80-4515-a477-9d24b61aa163",
   "metadata": {},
   "outputs": [
    {
     "data": {
      "text/plain": [
       "array([100,  87,  90])"
      ]
     },
     "execution_count": 38,
     "metadata": {},
     "output_type": "execute_result"
    }
   ],
   "source": [
    "grades[1] # Selects the second row"
   ]
  },
  {
   "cell_type": "code",
   "execution_count": 39,
   "id": "e83e6f83-af2d-4b5e-b60d-ea91820d4cc4",
   "metadata": {},
   "outputs": [
    {
     "data": {
      "text/plain": [
       "array([[ 87,  96,  70],\n",
       "       [100,  87,  90]])"
      ]
     },
     "execution_count": 39,
     "metadata": {},
     "output_type": "execute_result"
    }
   ],
   "source": [
    "grades[0:2] # Selects multiple sequential rows"
   ]
  },
  {
   "cell_type": "code",
   "execution_count": 41,
   "id": "a2c94686-a868-473f-863c-fa4945a306e1",
   "metadata": {},
   "outputs": [
    {
     "data": {
      "text/plain": [
       "array([[100,  87,  90],\n",
       "       [100,  81,  82]])"
      ]
     },
     "execution_count": 41,
     "metadata": {},
     "output_type": "execute_result"
    }
   ],
   "source": [
    "grades[[1, 3]] # Selects multiple non-sequential rows (note extra brackets)"
   ]
  },
  {
   "cell_type": "markdown",
   "id": "308d9f2d-7148-4f16-981d-e98044e4dae5",
   "metadata": {},
   "source": [
    "**Selecting a subset of a two-dimensional array's columns**"
   ]
  },
  {
   "cell_type": "code",
   "execution_count": 43,
   "id": "cb9f85ea-a7ce-4bde-9550-b79ea25ced91",
   "metadata": {},
   "outputs": [
    {
     "data": {
      "text/plain": [
       "array([ 87, 100,  94, 100])"
      ]
     },
     "execution_count": 43,
     "metadata": {},
     "output_type": "execute_result"
    }
   ],
   "source": [
    "grades[:, 0] # Selects all elements in the first column"
   ]
  },
  {
   "cell_type": "code",
   "execution_count": 46,
   "id": "adbf5523-e90c-429b-b666-6ebeeb8d301a",
   "metadata": {},
   "outputs": [
    {
     "data": {
      "text/plain": [
       "array([[96, 70],\n",
       "       [87, 90],\n",
       "       [77, 90],\n",
       "       [81, 82]])"
      ]
     },
     "execution_count": 46,
     "metadata": {},
     "output_type": "execute_result"
    }
   ],
   "source": [
    "grades[:, 1:3] # Selects all elements in columns 1:3"
   ]
  },
  {
   "cell_type": "code",
   "execution_count": 47,
   "id": "facf9506-9bf8-4475-b96c-7f7df1d850d1",
   "metadata": {},
   "outputs": [
    {
     "data": {
      "text/plain": [
       "array([[ 87,  70],\n",
       "       [100,  90],\n",
       "       [ 94,  90],\n",
       "       [100,  82]])"
      ]
     },
     "execution_count": 47,
     "metadata": {},
     "output_type": "execute_result"
    }
   ],
   "source": [
    "grades[:, [0, 2]] # Selects all elements in a list of columns [0, 2]"
   ]
  },
  {
   "cell_type": "markdown",
   "id": "7e62a996-095d-44c4-a712-c3dbf56d7b20",
   "metadata": {},
   "source": [
    "### 7.10 Self Check"
   ]
  },
  {
   "cell_type": "code",
   "execution_count": 58,
   "id": "e532445c-5716-4e69-bdef-30dd650a082c",
   "metadata": {},
   "outputs": [],
   "source": [
    "import numpy as np\n",
    "\n",
    "scores = np.array([[1, 2, 3, 4, 5],\n",
    "                  [6, 7, 8, 9, 10],\n",
    "                  [11, 12, 13, 14, 15]])\n"
   ]
  },
  {
   "cell_type": "code",
   "execution_count": 59,
   "id": "2baf41f2-109c-490b-8f3d-d609e425b172",
   "metadata": {},
   "outputs": [
    {
     "data": {
      "text/plain": [
       "array([ 2,  7, 12])"
      ]
     },
     "execution_count": 59,
     "metadata": {},
     "output_type": "execute_result"
    }
   ],
   "source": [
    "scores[:, 1] # Select the second column"
   ]
  },
  {
   "cell_type": "code",
   "execution_count": 60,
   "id": "f044e13b-7c6e-4665-9bfe-5112360c19dd",
   "metadata": {},
   "outputs": [
    {
     "data": {
      "text/plain": [
       "array([[ 1,  2,  3,  4,  5],\n",
       "       [11, 12, 13, 14, 15]])"
      ]
     },
     "execution_count": 60,
     "metadata": {},
     "output_type": "execute_result"
    }
   ],
   "source": [
    "scores[[0, 2]] # Select the first and third row"
   ]
  },
  {
   "cell_type": "code",
   "execution_count": 61,
   "id": "caa95133-68d2-4a0f-9886-0d484820dc89",
   "metadata": {},
   "outputs": [
    {
     "data": {
      "text/plain": [
       "array([[ 2,  3,  4],\n",
       "       [ 7,  8,  9],\n",
       "       [12, 13, 14]])"
      ]
     },
     "execution_count": 61,
     "metadata": {},
     "output_type": "execute_result"
    }
   ],
   "source": [
    "scores[:, 1:4]"
   ]
  },
  {
   "cell_type": "markdown",
   "id": "f43293f5-9913-47c5-85e6-6f55c49c5dcb",
   "metadata": {},
   "source": [
    "### 7.11 Views: Shallow Copies"
   ]
  },
  {
   "cell_type": "markdown",
   "id": "9a0f5a0f-bac3-4c16-8d31-8780dedbda0e",
   "metadata": {},
   "source": [
    "View objects see the data in other objects. Views are also known as shallow copies. The view method returns a new object with a view of the original array object's data."
   ]
  },
  {
   "cell_type": "code",
   "execution_count": 1,
   "id": "6a70bea3-89b1-4875-9b60-4bda93c41f22",
   "metadata": {},
   "outputs": [
    {
     "data": {
      "text/plain": [
       "array([1, 2, 3, 4, 5])"
      ]
     },
     "execution_count": 1,
     "metadata": {},
     "output_type": "execute_result"
    }
   ],
   "source": [
    "import numpy as np\n",
    "\n",
    "numbers = np.arange(1, 6)\n",
    "numbers"
   ]
  },
  {
   "cell_type": "code",
   "execution_count": 2,
   "id": "3f431bcd-fbcc-4d6e-a87f-3ecfcf6c8ddf",
   "metadata": {},
   "outputs": [
    {
     "data": {
      "text/plain": [
       "array([1, 2, 3, 4, 5])"
      ]
     },
     "execution_count": 2,
     "metadata": {},
     "output_type": "execute_result"
    }
   ],
   "source": [
    "numbers2 = numbers.view()\n",
    "numbers2"
   ]
  },
  {
   "cell_type": "code",
   "execution_count": 3,
   "id": "6340f9af-e316-47b1-9533-b71028333dab",
   "metadata": {},
   "outputs": [
    {
     "name": "stdout",
     "output_type": "stream",
     "text": [
      "4573752368\n",
      "4573025456\n"
     ]
    }
   ],
   "source": [
    "print(id(numbers))\n",
    "print(id(numbers2))"
   ]
  },
  {
   "cell_type": "code",
   "execution_count": 4,
   "id": "5ecc213d-599e-4bb7-808c-d18e2ca3e62b",
   "metadata": {},
   "outputs": [
    {
     "name": "stdout",
     "output_type": "stream",
     "text": [
      "[ 1 20  3  4  5]\n"
     ]
    }
   ],
   "source": [
    "numbers[1] *= 10\n",
    "print(numbers)"
   ]
  },
  {
   "cell_type": "code",
   "execution_count": 5,
   "id": "a2e98461-80a1-48c2-9046-fe177bba441d",
   "metadata": {},
   "outputs": [
    {
     "name": "stdout",
     "output_type": "stream",
     "text": [
      "[ 1 20  3  4  5]\n"
     ]
    }
   ],
   "source": [
    "print(numbers2)"
   ]
  },
  {
   "cell_type": "code",
   "execution_count": 6,
   "id": "2f158856-28d4-4862-94dd-cadedc90bf6f",
   "metadata": {},
   "outputs": [],
   "source": [
    "numbers2[1] /= 10 # Changing a value in the view also changes that value in the original array"
   ]
  },
  {
   "cell_type": "code",
   "execution_count": 7,
   "id": "597faf2a-d120-4765-9730-70e45224f182",
   "metadata": {},
   "outputs": [
    {
     "name": "stdout",
     "output_type": "stream",
     "text": [
      "[1 2 3 4 5]\n",
      "[1 2 3 4 5]\n"
     ]
    }
   ],
   "source": [
    "print(numbers2)\n",
    "print(numbers)"
   ]
  },
  {
   "cell_type": "markdown",
   "id": "dffbbd2c-9b0d-4f8a-b536-c5e912ef0643",
   "metadata": {},
   "source": [
    "**Slice views**"
   ]
  },
  {
   "cell_type": "code",
   "execution_count": 8,
   "id": "e54775f5-4174-4a50-a866-4d5e3e30330c",
   "metadata": {},
   "outputs": [
    {
     "name": "stdout",
     "output_type": "stream",
     "text": [
      "[1 2 3]\n"
     ]
    }
   ],
   "source": [
    "numbers2 = numbers[0:3]\n",
    "\n",
    "print(numbers2)"
   ]
  },
  {
   "cell_type": "code",
   "execution_count": 10,
   "id": "893ffccc-8149-4bef-b553-c68c21e64ebc",
   "metadata": {},
   "outputs": [
    {
     "name": "stdout",
     "output_type": "stream",
     "text": [
      "4573752368\n",
      "4936715312\n"
     ]
    }
   ],
   "source": [
    "print(id(numbers))\n",
    "print(id(numbers2))"
   ]
  },
  {
   "cell_type": "code",
   "execution_count": 11,
   "id": "21a556cf-4195-42fa-9c50-a82c427c0d61",
   "metadata": {},
   "outputs": [],
   "source": [
    "numbers[1] *= 20"
   ]
  },
  {
   "cell_type": "code",
   "execution_count": 12,
   "id": "5cdfe137-70e5-408e-9417-fd6a718e3eb6",
   "metadata": {},
   "outputs": [
    {
     "name": "stdout",
     "output_type": "stream",
     "text": [
      "[ 1 40  3  4  5]\n",
      "[ 1 40  3]\n"
     ]
    }
   ],
   "source": [
    "print(numbers)\n",
    "print(numbers2)"
   ]
  },
  {
   "cell_type": "markdown",
   "id": "764a018f-e5e1-4ede-baaa-c98b64228819",
   "metadata": {},
   "source": [
    "### 7.12 Deep Copies"
   ]
  },
  {
   "cell_type": "markdown",
   "id": "aa7f113f-40e5-4502-8c54-93b396ee177f",
   "metadata": {},
   "source": [
    "The array method copy returns a new array object with a deep copy of the original array object's data."
   ]
  },
  {
   "cell_type": "code",
   "execution_count": 3,
   "id": "0bf842e6-e77b-438e-8746-9279fd59e020",
   "metadata": {},
   "outputs": [
    {
     "name": "stdout",
     "output_type": "stream",
     "text": [
      "[1 2 3 4 5]\n",
      "[1 2 3 4 5]\n"
     ]
    }
   ],
   "source": [
    "import numpy as np\n",
    "\n",
    "numbers = np.arange(1, 6)\n",
    "\n",
    "print(numbers)\n",
    "\n",
    "numbers2 = numbers.copy()\n",
    "print(numbers2)"
   ]
  },
  {
   "cell_type": "code",
   "execution_count": 4,
   "id": "7bf897e7-1440-4a77-b3d4-f6c61a8e9932",
   "metadata": {},
   "outputs": [
    {
     "name": "stdout",
     "output_type": "stream",
     "text": [
      "[ 1 20  3  4  5]\n",
      "[1 2 3 4 5]\n"
     ]
    }
   ],
   "source": [
    "numbers[1] *= 10\n",
    "print(numbers)\n",
    "print(numbers2)"
   ]
  },
  {
   "cell_type": "markdown",
   "id": "33cedb0f-d0fe-460f-acc0-2370ab2ea195",
   "metadata": {},
   "source": [
    "### 7.13 Reshaping and Transposing"
   ]
  },
  {
   "cell_type": "markdown",
   "id": "be35313e-b886-4d3a-aa3f-31346ec22be3",
   "metadata": {},
   "source": [
    "**reshape vs resize**\n",
    "- reshape returns a view of the original array with the new dimensions\n",
    "- resize modifies the original array's shape"
   ]
  },
  {
   "cell_type": "code",
   "execution_count": 5,
   "id": "434cfc46-2e42-40c5-b0c6-7f0b71fa970d",
   "metadata": {},
   "outputs": [
    {
     "data": {
      "text/plain": [
       "array([[ 87,  96,  70],\n",
       "       [100,  87,  90]])"
      ]
     },
     "execution_count": 5,
     "metadata": {},
     "output_type": "execute_result"
    }
   ],
   "source": [
    "import numpy as np\n",
    "grades = np.array([[87, 96, 70], [100, 87, 90]])\n",
    "\n",
    "grades"
   ]
  },
  {
   "cell_type": "code",
   "execution_count": 8,
   "id": "fc7dc3e6-807d-4188-bb90-cfbd36411e78",
   "metadata": {},
   "outputs": [
    {
     "data": {
      "text/plain": [
       "array([[ 87,  96,  70, 100,  87,  90]])"
      ]
     },
     "execution_count": 8,
     "metadata": {},
     "output_type": "execute_result"
    }
   ],
   "source": [
    "grades.reshape(1, 6)"
   ]
  },
  {
   "cell_type": "code",
   "execution_count": 9,
   "id": "baaa71a6-1be8-4a36-a931-7b9611afdef4",
   "metadata": {},
   "outputs": [
    {
     "data": {
      "text/plain": [
       "array([[ 87,  96,  70],\n",
       "       [100,  87,  90]])"
      ]
     },
     "execution_count": 9,
     "metadata": {},
     "output_type": "execute_result"
    }
   ],
   "source": [
    "grades"
   ]
  },
  {
   "cell_type": "code",
   "execution_count": 10,
   "id": "14da60b2-857b-4145-bc53-6c2d26fd2215",
   "metadata": {},
   "outputs": [
    {
     "data": {
      "text/plain": [
       "array([[ 87,  96,  70, 100,  87,  90]])"
      ]
     },
     "execution_count": 10,
     "metadata": {},
     "output_type": "execute_result"
    }
   ],
   "source": [
    "grades.resize(1, 6)\n",
    "grades"
   ]
  },
  {
   "cell_type": "markdown",
   "id": "4d4e5774-7e19-4229-800b-a3a600cbfb67",
   "metadata": {},
   "source": [
    "**flatten vs. ravel**\n",
    "- flatten creates a deep copy of the original array's data\n",
    "- ravel produces a view of the original array, which shares the original array's data"
   ]
  },
  {
   "cell_type": "code",
   "execution_count": 11,
   "id": "d1d812ae-aa37-49aa-9286-2e65adc42618",
   "metadata": {},
   "outputs": [
    {
     "data": {
      "text/plain": [
       "array([[ 87,  96,  70],\n",
       "       [100,  87,  90]])"
      ]
     },
     "execution_count": 11,
     "metadata": {},
     "output_type": "execute_result"
    }
   ],
   "source": [
    "grades = np.array([[87, 96, 70], [100, 87, 90]])\n",
    "\n",
    "grades"
   ]
  },
  {
   "cell_type": "code",
   "execution_count": 12,
   "id": "915a2c11-9d5b-4505-bddd-2719cd2046eb",
   "metadata": {},
   "outputs": [
    {
     "data": {
      "text/plain": [
       "array([ 87,  96,  70, 100,  87,  90])"
      ]
     },
     "execution_count": 12,
     "metadata": {},
     "output_type": "execute_result"
    }
   ],
   "source": [
    "flattened = grades.flatten()\n",
    "\n",
    "flattened"
   ]
  },
  {
   "cell_type": "code",
   "execution_count": 13,
   "id": "e7c08f81-89f4-48a3-9956-e774b92fdf80",
   "metadata": {},
   "outputs": [
    {
     "data": {
      "text/plain": [
       "array([[ 87,  96,  70],\n",
       "       [100,  87,  90]])"
      ]
     },
     "execution_count": 13,
     "metadata": {},
     "output_type": "execute_result"
    }
   ],
   "source": [
    "grades"
   ]
  },
  {
   "cell_type": "code",
   "execution_count": 15,
   "id": "83389400-0c53-4c38-b7ef-0e83fc59cb03",
   "metadata": {},
   "outputs": [
    {
     "data": {
      "text/plain": [
       "array([100,  96,  70, 100,  87,  90])"
      ]
     },
     "execution_count": 15,
     "metadata": {},
     "output_type": "execute_result"
    }
   ],
   "source": [
    "flattened[0] = 100\n",
    "\n",
    "flattened"
   ]
  },
  {
   "cell_type": "code",
   "execution_count": 16,
   "id": "8a22195e-6d73-4fd6-b43e-bc8c1ae207fe",
   "metadata": {},
   "outputs": [
    {
     "data": {
      "text/plain": [
       "array([[ 87,  96,  70],\n",
       "       [100,  87,  90]])"
      ]
     },
     "execution_count": 16,
     "metadata": {},
     "output_type": "execute_result"
    }
   ],
   "source": [
    "grades"
   ]
  },
  {
   "cell_type": "code",
   "execution_count": 20,
   "id": "22057051-b8a7-492c-bcf6-fe979b0e326a",
   "metadata": {},
   "outputs": [
    {
     "data": {
      "text/plain": [
       "array([100,  96,  70, 100,  87,  90])"
      ]
     },
     "execution_count": 20,
     "metadata": {},
     "output_type": "execute_result"
    }
   ],
   "source": [
    "raveled = grades.ravel()\n",
    "\n",
    "raveled"
   ]
  },
  {
   "cell_type": "code",
   "execution_count": 18,
   "id": "1436a29f-c8ce-48f4-a716-1f77856f3025",
   "metadata": {},
   "outputs": [
    {
     "data": {
      "text/plain": [
       "array([[ 87,  96,  70],\n",
       "       [100,  87,  90]])"
      ]
     },
     "execution_count": 18,
     "metadata": {},
     "output_type": "execute_result"
    }
   ],
   "source": [
    "grades"
   ]
  },
  {
   "cell_type": "code",
   "execution_count": 19,
   "id": "91f2a478-0f8a-4e6c-a88f-8015980a06cf",
   "metadata": {},
   "outputs": [
    {
     "data": {
      "text/plain": [
       "array([100,  96,  70, 100,  87,  90])"
      ]
     },
     "execution_count": 19,
     "metadata": {},
     "output_type": "execute_result"
    }
   ],
   "source": [
    "raveled[0] = 100\n",
    "\n",
    "raveled"
   ]
  },
  {
   "cell_type": "code",
   "execution_count": 21,
   "id": "1ef62b98-23ef-462d-b9fb-385994b79884",
   "metadata": {},
   "outputs": [
    {
     "data": {
      "text/plain": [
       "array([[100,  96,  70],\n",
       "       [100,  87,  90]])"
      ]
     },
     "execution_count": 21,
     "metadata": {},
     "output_type": "execute_result"
    }
   ],
   "source": [
    "grades"
   ]
  },
  {
   "cell_type": "markdown",
   "id": "49bdd550-6366-4ef4-a783-56c12760d6a5",
   "metadata": {},
   "source": [
    "**Transposing rows and columns**: the T attribute returns a transposed view of the array. "
   ]
  },
  {
   "cell_type": "code",
   "execution_count": 22,
   "id": "c3b6db6a-06da-41fb-8cf7-ed65eee74d39",
   "metadata": {},
   "outputs": [
    {
     "data": {
      "text/plain": [
       "array([[100, 100],\n",
       "       [ 96,  87],\n",
       "       [ 70,  90]])"
      ]
     },
     "execution_count": 22,
     "metadata": {},
     "output_type": "execute_result"
    }
   ],
   "source": [
    "grades.T"
   ]
  },
  {
   "cell_type": "code",
   "execution_count": 23,
   "id": "0f7ff52a-610f-4f1b-b8a2-1f7e609cbeb8",
   "metadata": {},
   "outputs": [
    {
     "data": {
      "text/plain": [
       "array([[100,  96,  70],\n",
       "       [100,  87,  90]])"
      ]
     },
     "execution_count": 23,
     "metadata": {},
     "output_type": "execute_result"
    }
   ],
   "source": [
    "grades"
   ]
  },
  {
   "cell_type": "markdown",
   "id": "91bc2dd7-5c8a-4837-925c-8ac7ce230a40",
   "metadata": {},
   "source": [
    "**Horizontal and vertical stacking**"
   ]
  },
  {
   "cell_type": "code",
   "execution_count": 24,
   "id": "c5de7e1a-0fbf-4905-a1a2-8db294feeebf",
   "metadata": {},
   "outputs": [
    {
     "data": {
      "text/plain": [
       "array([[100,  96,  70,  94,  77,  90],\n",
       "       [100,  87,  90, 100,  81,  82]])"
      ]
     },
     "execution_count": 24,
     "metadata": {},
     "output_type": "execute_result"
    }
   ],
   "source": [
    "grades2 = np.array([[94, 77, 90], [100, 81, 82]])\n",
    "np.hstack((grades, grades2))"
   ]
  },
  {
   "cell_type": "code",
   "execution_count": 26,
   "id": "fac140e5-3ed9-4021-8682-efb74107a741",
   "metadata": {},
   "outputs": [
    {
     "data": {
      "text/plain": [
       "array([[100,  96,  70],\n",
       "       [100,  87,  90],\n",
       "       [ 94,  77,  90],\n",
       "       [100,  81,  82]])"
      ]
     },
     "execution_count": 26,
     "metadata": {},
     "output_type": "execute_result"
    }
   ],
   "source": [
    "np.vstack((grades, grades2))"
   ]
  },
  {
   "cell_type": "markdown",
   "id": "486bd76a-049b-42be-b5e4-98476e6d4aaa",
   "metadata": {},
   "source": [
    "### 7.13 Self Check"
   ]
  },
  {
   "cell_type": "code",
   "execution_count": 32,
   "id": "8f0e6f99-b221-4301-b1b3-bda568f54069",
   "metadata": {},
   "outputs": [
    {
     "data": {
      "text/plain": [
       "array([[1, 2, 3, 1, 2, 3],\n",
       "       [4, 5, 6, 4, 5, 6],\n",
       "       [1, 2, 3, 1, 2, 3],\n",
       "       [4, 5, 6, 4, 5, 6]])"
      ]
     },
     "execution_count": 32,
     "metadata": {},
     "output_type": "execute_result"
    }
   ],
   "source": [
    "import numpy as np\n",
    "\n",
    "numbers = np.array([[1, 2, 3],\n",
    "                    [4, 5, 6]])\n",
    "\n",
    "numbers2 = np.hstack((numbers, numbers))\n",
    "\n",
    "numbers3 = np.vstack((numbers2, numbers2))\n",
    "\n",
    "numbers3"
   ]
  },
  {
   "cell_type": "markdown",
   "id": "3e5b315a-bab5-4f38-ad22-4658558341eb",
   "metadata": {},
   "source": [
    "### 7.14 Intro to Data Science: pandas Series and DataFrames"
   ]
  },
  {
   "cell_type": "markdown",
   "id": "70018192-bb73-4351-8a4d-427be3965e17",
   "metadata": {},
   "source": [
    "[Pandas documentation here](https://pandas.pydata.org/docs/)"
   ]
  },
  {
   "cell_type": "markdown",
   "id": "39160adf-c2f1-4dfa-88bd-ab487ea7abe0",
   "metadata": {},
   "source": [
    "**pandas Series**\n",
    "- A Series is an enhanced one-dimensional array\n",
    "- Series support custome indexing\n",
    "- Many Series operations ignore missing data by default"
   ]
  },
  {
   "cell_type": "markdown",
   "id": "a05556ea-c072-4f46-a79d-bdea66767cf6",
   "metadata": {},
   "source": [
    "**Creating a Series with default indices**\n",
    "- By default, a Series has integer indices numbered sequentially from 0\n",
    "- The initializer may be a list, tuple, dictionary, array, another Series, or a single value"
   ]
  },
  {
   "cell_type": "code",
   "execution_count": 1,
   "id": "f86f6b41-2a2c-4ea2-a0e4-21cbc6bd933f",
   "metadata": {},
   "outputs": [],
   "source": [
    "import pandas as pd\n",
    "grades = pd.Series([87, 100, 94])"
   ]
  },
  {
   "cell_type": "markdown",
   "id": "e15910db-7ff9-4fef-a5ba-5c8c12d43461",
   "metadata": {},
   "source": [
    "**Displaying a Series**"
   ]
  },
  {
   "cell_type": "code",
   "execution_count": 2,
   "id": "fa9d6673-1de7-42dc-afe0-ff4ae23b7097",
   "metadata": {},
   "outputs": [
    {
     "data": {
      "text/plain": [
       "0     87\n",
       "1    100\n",
       "2     94\n",
       "dtype: int64"
      ]
     },
     "execution_count": 2,
     "metadata": {},
     "output_type": "execute_result"
    }
   ],
   "source": [
    "grades"
   ]
  },
  {
   "cell_type": "markdown",
   "id": "03222683-8637-4fcf-b967-f4559e9ce3dc",
   "metadata": {},
   "source": [
    "**Creating a Series with all elemnts having the same value**"
   ]
  },
  {
   "cell_type": "code",
   "execution_count": 8,
   "id": "82076923-8e88-4912-878b-117ecdae1207",
   "metadata": {},
   "outputs": [
    {
     "data": {
      "text/plain": [
       "0    98.6\n",
       "1    98.6\n",
       "2    98.6\n",
       "dtype: float64"
      ]
     },
     "execution_count": 8,
     "metadata": {},
     "output_type": "execute_result"
    }
   ],
   "source": [
    "pd.Series(98.6, range(3)) \n",
    "# The second argument is a one-dimensional iterable object containing the Series' indices."
   ]
  },
  {
   "cell_type": "code",
   "execution_count": 7,
   "id": "ea007f47-dd6f-46e1-a836-03a2c289a3b8",
   "metadata": {},
   "outputs": [
    {
     "data": {
      "text/plain": [
       "2    98.6\n",
       "3    98.6\n",
       "4    98.6\n",
       "dtype: float64"
      ]
     },
     "execution_count": 7,
     "metadata": {},
     "output_type": "execute_result"
    }
   ],
   "source": [
    "pd.Series(98.6, range(2, 5)) "
   ]
  },
  {
   "cell_type": "markdown",
   "id": "b59c412e-9498-4f0e-9993-40d47d5b3282",
   "metadata": {},
   "source": [
    "**Accessing a Series' Elements**"
   ]
  },
  {
   "cell_type": "code",
   "execution_count": 9,
   "id": "bed9b697-7560-43af-8a3c-8fa822763b02",
   "metadata": {},
   "outputs": [
    {
     "data": {
      "text/plain": [
       "87"
      ]
     },
     "execution_count": 9,
     "metadata": {},
     "output_type": "execute_result"
    }
   ],
   "source": [
    "grades[0]"
   ]
  },
  {
   "cell_type": "markdown",
   "id": "3e4dce11-f7a5-4136-8c64-f6c5de2884ab",
   "metadata": {},
   "source": [
    "**Producing descriptive statistics for a Series**\n",
    "- Each of these is a functional-style reduction"
   ]
  },
  {
   "cell_type": "code",
   "execution_count": 10,
   "id": "c72d93e1-e29d-425e-b9c1-28500ac042c4",
   "metadata": {},
   "outputs": [
    {
     "data": {
      "text/plain": [
       "3"
      ]
     },
     "execution_count": 10,
     "metadata": {},
     "output_type": "execute_result"
    }
   ],
   "source": [
    "grades.count()"
   ]
  },
  {
   "cell_type": "code",
   "execution_count": 11,
   "id": "de87add3-c7eb-4065-bcb7-d7516da5dfd6",
   "metadata": {},
   "outputs": [
    {
     "data": {
      "text/plain": [
       "93.66666666666667"
      ]
     },
     "execution_count": 11,
     "metadata": {},
     "output_type": "execute_result"
    }
   ],
   "source": [
    "grades.mean()"
   ]
  },
  {
   "cell_type": "code",
   "execution_count": 12,
   "id": "cb0e6308-b59a-4856-8704-724afadc4a6b",
   "metadata": {},
   "outputs": [
    {
     "data": {
      "text/plain": [
       "87"
      ]
     },
     "execution_count": 12,
     "metadata": {},
     "output_type": "execute_result"
    }
   ],
   "source": [
    "grades.min()"
   ]
  },
  {
   "cell_type": "code",
   "execution_count": 13,
   "id": "1c9346a0-5feb-46ab-8a0b-da69689deb66",
   "metadata": {},
   "outputs": [
    {
     "data": {
      "text/plain": [
       "100"
      ]
     },
     "execution_count": 13,
     "metadata": {},
     "output_type": "execute_result"
    }
   ],
   "source": [
    "grades.max()"
   ]
  },
  {
   "cell_type": "code",
   "execution_count": 14,
   "id": "4b9aa4eb-325d-4357-b150-5d6c8ab589b4",
   "metadata": {},
   "outputs": [
    {
     "data": {
      "text/plain": [
       "6.506407098647712"
      ]
     },
     "execution_count": 14,
     "metadata": {},
     "output_type": "execute_result"
    }
   ],
   "source": [
    "grades.std()"
   ]
  },
  {
   "cell_type": "code",
   "execution_count": 15,
   "id": "03e220de-f21b-43d9-b9de-a217c2de6377",
   "metadata": {},
   "outputs": [
    {
     "data": {
      "text/plain": [
       "count      3.000000\n",
       "mean      93.666667\n",
       "std        6.506407\n",
       "min       87.000000\n",
       "25%       90.500000\n",
       "50%       94.000000\n",
       "75%       97.000000\n",
       "max      100.000000\n",
       "dtype: float64"
      ]
     },
     "execution_count": 15,
     "metadata": {},
     "output_type": "execute_result"
    }
   ],
   "source": [
    "grades.describe()"
   ]
  },
  {
   "cell_type": "markdown",
   "id": "b7564a28-d7a7-4418-b44b-1587ef8929c6",
   "metadata": {},
   "source": [
    "**Creating a Series with custom indices**"
   ]
  },
  {
   "cell_type": "code",
   "execution_count": 16,
   "id": "61d4a9f7-4a76-42ca-a582-553fd6829674",
   "metadata": {},
   "outputs": [
    {
     "data": {
      "text/plain": [
       "Wally    87\n",
       "Eva      10\n",
       "Sam      94\n",
       "dtype: int64"
      ]
     },
     "execution_count": 16,
     "metadata": {},
     "output_type": "execute_result"
    }
   ],
   "source": [
    "grades = pd.Series([87, 10, 94], index=['Wally', 'Eva', 'Sam'])\n",
    "grades"
   ]
  },
  {
   "cell_type": "markdown",
   "id": "80161ac9-7e6c-4a2c-b045-bfeb8eb3a629",
   "metadata": {},
   "source": [
    "**Dictionary initializers**\n",
    "- If you intialize a Series with a dictionary, its keys become the Series' indices, and its values become the Series' element values."
   ]
  },
  {
   "cell_type": "code",
   "execution_count": 17,
   "id": "2e209907-0d81-4fb4-a44f-c61d2cca9f5a",
   "metadata": {},
   "outputs": [
    {
     "data": {
      "text/plain": [
       "Wally     87\n",
       "Eva      100\n",
       "Sam       94\n",
       "dtype: int64"
      ]
     },
     "execution_count": 17,
     "metadata": {},
     "output_type": "execute_result"
    }
   ],
   "source": [
    "grades = pd.Series({'Wally': 87, 'Eva': 100, 'Sam': 94})\n",
    "grades"
   ]
  },
  {
   "cell_type": "markdown",
   "id": "95b52ecf-95f0-4093-ab2c-3775137e3cba",
   "metadata": {},
   "source": [
    "**Accessing elements of a Series via custom indices**"
   ]
  },
  {
   "cell_type": "code",
   "execution_count": 18,
   "id": "08224bdd-c32b-49a0-a326-51089be5a20b",
   "metadata": {},
   "outputs": [
    {
     "data": {
      "text/plain": [
       "100"
      ]
     },
     "execution_count": 18,
     "metadata": {},
     "output_type": "execute_result"
    }
   ],
   "source": [
    "grades['Eva']"
   ]
  },
  {
   "cell_type": "markdown",
   "id": "8c7ae827-a19d-4804-84c1-ec07122447dc",
   "metadata": {},
   "source": [
    "- If the custom indices are strings that could represent valid Python identifiers, pandas automatically adds them to the Series as attributes that you can access via a dot."
   ]
  },
  {
   "cell_type": "code",
   "execution_count": 20,
   "id": "d1f24c0a-375d-4ec3-ab9f-ae074b1aebf6",
   "metadata": {},
   "outputs": [
    {
     "data": {
      "text/plain": [
       "87"
      ]
     },
     "execution_count": 20,
     "metadata": {},
     "output_type": "execute_result"
    }
   ],
   "source": [
    "grades.Wally"
   ]
  },
  {
   "cell_type": "markdown",
   "id": "7600642c-513a-43eb-81ec-e0bd9ace9ce2",
   "metadata": {},
   "source": [
    "- Series also has built-in attributes"
   ]
  },
  {
   "cell_type": "code",
   "execution_count": 21,
   "id": "16b84d71-1ac0-41a9-903c-4f9e5b313042",
   "metadata": {},
   "outputs": [
    {
     "data": {
      "text/plain": [
       "dtype('int64')"
      ]
     },
     "execution_count": 21,
     "metadata": {},
     "output_type": "execute_result"
    }
   ],
   "source": [
    "grades.dtype"
   ]
  },
  {
   "cell_type": "code",
   "execution_count": 22,
   "id": "acb119c7-671d-49a7-a825-5a09175f28a5",
   "metadata": {},
   "outputs": [
    {
     "data": {
      "text/plain": [
       "array([ 87, 100,  94])"
      ]
     },
     "execution_count": 22,
     "metadata": {},
     "output_type": "execute_result"
    }
   ],
   "source": [
    "grades.values"
   ]
  },
  {
   "cell_type": "markdown",
   "id": "2ec0a1a7-ab06-4e01-b53a-f2ecbdb9b36d",
   "metadata": {},
   "source": [
    "**Creating a Series of strings**\n",
    "- If a Series contains strings, you can use its str attribute to call string methods on the elements."
   ]
  },
  {
   "cell_type": "code",
   "execution_count": 23,
   "id": "48fae75e-29aa-42f9-9a41-def31f19f93e",
   "metadata": {},
   "outputs": [
    {
     "data": {
      "text/plain": [
       "0    Hammer\n",
       "1       Saw\n",
       "2    Wrench\n",
       "dtype: object"
      ]
     },
     "execution_count": 23,
     "metadata": {},
     "output_type": "execute_result"
    }
   ],
   "source": [
    "hardware = pd.Series(['Hammer', 'Saw', 'Wrench'])\n",
    "\n",
    "hardware"
   ]
  },
  {
   "cell_type": "code",
   "execution_count": 24,
   "id": "5061dc78-b202-416e-b289-2b6e01aa643e",
   "metadata": {},
   "outputs": [
    {
     "data": {
      "text/plain": [
       "0     True\n",
       "1     True\n",
       "2    False\n",
       "dtype: bool"
      ]
     },
     "execution_count": 24,
     "metadata": {},
     "output_type": "execute_result"
    }
   ],
   "source": [
    "hardware.str.contains('a')"
   ]
  },
  {
   "cell_type": "code",
   "execution_count": 25,
   "id": "d5ae6f78-e3b3-48d3-bdae-90b85910f48d",
   "metadata": {},
   "outputs": [
    {
     "data": {
      "text/plain": [
       "0    HAMMER\n",
       "1       SAW\n",
       "2    WRENCH\n",
       "dtype: object"
      ]
     },
     "execution_count": 25,
     "metadata": {},
     "output_type": "execute_result"
    }
   ],
   "source": [
    "hardware.str.upper()"
   ]
  },
  {
   "cell_type": "code",
   "execution_count": 26,
   "id": "b3db44b6-8bf2-4089-b8b4-c02851d4e5f6",
   "metadata": {},
   "outputs": [
    {
     "data": {
      "text/plain": [
       "0    Hammer\n",
       "1       Saw\n",
       "2    Wrench\n",
       "dtype: object"
      ]
     },
     "execution_count": 26,
     "metadata": {},
     "output_type": "execute_result"
    }
   ],
   "source": [
    "hardware"
   ]
  },
  {
   "cell_type": "code",
   "execution_count": 28,
   "id": "9e4b6322-a17f-4c30-8c44-196c1664e1b7",
   "metadata": {},
   "outputs": [
    {
     "data": {
      "text/plain": [
       "0    1\n",
       "1    1\n",
       "2   -1\n",
       "dtype: int64"
      ]
     },
     "execution_count": 28,
     "metadata": {},
     "output_type": "execute_result"
    }
   ],
   "source": [
    "hardware.str.find('a')\n",
    "# -1 indicates that it did not find the subset string\n",
    "# if multiple subsets are found, it returns the first"
   ]
  },
  {
   "cell_type": "markdown",
   "id": "f3188012-bc4f-4d9d-a19e-1c4d15af49ec",
   "metadata": {},
   "source": [
    "[10 Most Useful String functions in Pandas Link](https://www.aboutdatablog.com/post/10-most-useful-string-functions-in-pandas)"
   ]
  },
  {
   "cell_type": "markdown",
   "id": "c48f402e-433f-4a29-a2b1-b831a78e8a0e",
   "metadata": {},
   "source": [
    "### 7.14.1 Self Check"
   ]
  },
  {
   "cell_type": "code",
   "execution_count": 39,
   "id": "edd9c1b1-e4d9-4961-ba91-b8a9b74a511a",
   "metadata": {},
   "outputs": [
    {
     "name": "stdout",
     "output_type": "stream",
     "text": [
      "0    89\n",
      "1    85\n",
      "2    87\n",
      "3    81\n",
      "4    70\n",
      "dtype: int64\n"
     ]
    }
   ],
   "source": [
    "import numpy as np\n",
    "import pandas as pd\n",
    "\n",
    "random_numbers1 = np.random.randint(60, 101, 5) # Make sure the second parameter is one value above included value\n",
    "\n",
    "temperatures = pd.Series(random_numbers1)\n",
    "\n",
    "print(temperatures)"
   ]
  },
  {
   "cell_type": "code",
   "execution_count": 35,
   "id": "0d073142-dc46-49f2-8f77-41cc792b3566",
   "metadata": {},
   "outputs": [
    {
     "data": {
      "text/plain": [
       "85"
      ]
     },
     "execution_count": 35,
     "metadata": {},
     "output_type": "execute_result"
    }
   ],
   "source": [
    "temperatures.min()"
   ]
  },
  {
   "cell_type": "code",
   "execution_count": 36,
   "id": "151620c2-b29b-4c99-95a0-95441bab5c7a",
   "metadata": {},
   "outputs": [
    {
     "data": {
      "text/plain": [
       "99"
      ]
     },
     "execution_count": 36,
     "metadata": {},
     "output_type": "execute_result"
    }
   ],
   "source": [
    "temperatures.max()"
   ]
  },
  {
   "cell_type": "code",
   "execution_count": 37,
   "id": "36c92aab-b05a-45ac-9bc4-644fcb65a5a6",
   "metadata": {},
   "outputs": [
    {
     "data": {
      "text/plain": [
       "93.2"
      ]
     },
     "execution_count": 37,
     "metadata": {},
     "output_type": "execute_result"
    }
   ],
   "source": [
    "temperatures.mean()"
   ]
  },
  {
   "cell_type": "code",
   "execution_count": 38,
   "id": "9d7cb2b0-8872-4aba-8ab2-d78ff52b4f38",
   "metadata": {},
   "outputs": [
    {
     "data": {
      "text/plain": [
       "count     5.000000\n",
       "mean     93.200000\n",
       "std       5.403702\n",
       "min      85.000000\n",
       "25%      91.000000\n",
       "50%      95.000000\n",
       "75%      96.000000\n",
       "max      99.000000\n",
       "dtype: float64"
      ]
     },
     "execution_count": 38,
     "metadata": {},
     "output_type": "execute_result"
    }
   ],
   "source": [
    "temperatures.describe()"
   ]
  },
  {
   "cell_type": "markdown",
   "id": "95f6a5a3-e372-4c29-9d37-2c2fcaf5e244",
   "metadata": {},
   "source": [
    "### 7.14.2 DataFrames"
   ]
  },
  {
   "cell_type": "markdown",
   "id": "2c72dbbd-ec88-4643-b8c2-8973d82aab28",
   "metadata": {},
   "source": [
    "**DataFrame**\n",
    "- An enhanced two-dimensional array\n",
    "- Can have custom row and column indices\n",
    "- Offer additional operations and capabilities that make them more convenient for data science tasks\n",
    "- Each column in a DataFrame is a Series\n",
    "- Different columns can contain different element types"
   ]
  },
  {
   "cell_type": "markdown",
   "id": "3c299507-aeca-4501-9fb4-ec319f8636c1",
   "metadata": {},
   "source": [
    "**Creating a DataFrame from a Dictionary**\n",
    "- Dictionary keys become the column names\n",
    "- Dictionary values become the element values in the corresponding column\n",
    "- By default, the row indices are auto-generated integers starting from 0"
   ]
  },
  {
   "cell_type": "code",
   "execution_count": 42,
   "id": "839ebd7b-c510-482e-b63c-08e2254c197d",
   "metadata": {},
   "outputs": [
    {
     "data": {
      "text/html": [
       "<div>\n",
       "<style scoped>\n",
       "    .dataframe tbody tr th:only-of-type {\n",
       "        vertical-align: middle;\n",
       "    }\n",
       "\n",
       "    .dataframe tbody tr th {\n",
       "        vertical-align: top;\n",
       "    }\n",
       "\n",
       "    .dataframe thead th {\n",
       "        text-align: right;\n",
       "    }\n",
       "</style>\n",
       "<table border=\"1\" class=\"dataframe\">\n",
       "  <thead>\n",
       "    <tr style=\"text-align: right;\">\n",
       "      <th></th>\n",
       "      <th>Wally</th>\n",
       "      <th>Eva</th>\n",
       "      <th>Sam</th>\n",
       "      <th>Katie</th>\n",
       "      <th>Bob</th>\n",
       "    </tr>\n",
       "  </thead>\n",
       "  <tbody>\n",
       "    <tr>\n",
       "      <th>0</th>\n",
       "      <td>87</td>\n",
       "      <td>100</td>\n",
       "      <td>94</td>\n",
       "      <td>100</td>\n",
       "      <td>83</td>\n",
       "    </tr>\n",
       "    <tr>\n",
       "      <th>1</th>\n",
       "      <td>96</td>\n",
       "      <td>87</td>\n",
       "      <td>77</td>\n",
       "      <td>81</td>\n",
       "      <td>64</td>\n",
       "    </tr>\n",
       "    <tr>\n",
       "      <th>2</th>\n",
       "      <td>70</td>\n",
       "      <td>90</td>\n",
       "      <td>90</td>\n",
       "      <td>82</td>\n",
       "      <td>85</td>\n",
       "    </tr>\n",
       "  </tbody>\n",
       "</table>\n",
       "</div>"
      ],
      "text/plain": [
       "   Wally  Eva  Sam  Katie  Bob\n",
       "0     87  100   94    100   83\n",
       "1     96   87   77     81   64\n",
       "2     70   90   90     82   85"
      ]
     },
     "execution_count": 42,
     "metadata": {},
     "output_type": "execute_result"
    }
   ],
   "source": [
    "import pandas as pd\n",
    "\n",
    "grades_dict = {'Wally': [87, 96, 70], 'Eva': [100, 87, 90],\n",
    "               'Sam': [94, 77, 90], 'Katie': [100, 81, 82],\n",
    "               'Bob': [83, 64, 85]}\n",
    "\n",
    "grades = pd.DataFrame(grades_dict)\n",
    "\n",
    "grades # Wow"
   ]
  },
  {
   "cell_type": "markdown",
   "id": "39b407f1-3da5-42ef-a6ee-dbf25c592a4b",
   "metadata": {},
   "source": [
    "**Customizing a DataFrame's indices with the index attribute**"
   ]
  },
  {
   "cell_type": "code",
   "execution_count": 45,
   "id": "ceb53eea-6b14-4a69-87d3-e1e1caba079d",
   "metadata": {},
   "outputs": [
    {
     "data": {
      "text/html": [
       "<div>\n",
       "<style scoped>\n",
       "    .dataframe tbody tr th:only-of-type {\n",
       "        vertical-align: middle;\n",
       "    }\n",
       "\n",
       "    .dataframe tbody tr th {\n",
       "        vertical-align: top;\n",
       "    }\n",
       "\n",
       "    .dataframe thead th {\n",
       "        text-align: right;\n",
       "    }\n",
       "</style>\n",
       "<table border=\"1\" class=\"dataframe\">\n",
       "  <thead>\n",
       "    <tr style=\"text-align: right;\">\n",
       "      <th></th>\n",
       "      <th>Wally</th>\n",
       "      <th>Eva</th>\n",
       "      <th>Sam</th>\n",
       "      <th>Katie</th>\n",
       "      <th>Bob</th>\n",
       "    </tr>\n",
       "  </thead>\n",
       "  <tbody>\n",
       "    <tr>\n",
       "      <th>Test1</th>\n",
       "      <td>87</td>\n",
       "      <td>100</td>\n",
       "      <td>94</td>\n",
       "      <td>100</td>\n",
       "      <td>83</td>\n",
       "    </tr>\n",
       "    <tr>\n",
       "      <th>Test2</th>\n",
       "      <td>96</td>\n",
       "      <td>87</td>\n",
       "      <td>77</td>\n",
       "      <td>81</td>\n",
       "      <td>64</td>\n",
       "    </tr>\n",
       "    <tr>\n",
       "      <th>Test3</th>\n",
       "      <td>70</td>\n",
       "      <td>90</td>\n",
       "      <td>90</td>\n",
       "      <td>82</td>\n",
       "      <td>85</td>\n",
       "    </tr>\n",
       "  </tbody>\n",
       "</table>\n",
       "</div>"
      ],
      "text/plain": [
       "       Wally  Eva  Sam  Katie  Bob\n",
       "Test1     87  100   94    100   83\n",
       "Test2     96   87   77     81   64\n",
       "Test3     70   90   90     82   85"
      ]
     },
     "execution_count": 45,
     "metadata": {},
     "output_type": "execute_result"
    }
   ],
   "source": [
    "# First option\n",
    "pd.DataFrame(grades_dict, index=['Test1', 'Test2', 'Test3'])"
   ]
  },
  {
   "cell_type": "code",
   "execution_count": 48,
   "id": "81fb08c3-9d3f-4c33-90b1-1de80de1b41b",
   "metadata": {},
   "outputs": [
    {
     "data": {
      "text/html": [
       "<div>\n",
       "<style scoped>\n",
       "    .dataframe tbody tr th:only-of-type {\n",
       "        vertical-align: middle;\n",
       "    }\n",
       "\n",
       "    .dataframe tbody tr th {\n",
       "        vertical-align: top;\n",
       "    }\n",
       "\n",
       "    .dataframe thead th {\n",
       "        text-align: right;\n",
       "    }\n",
       "</style>\n",
       "<table border=\"1\" class=\"dataframe\">\n",
       "  <thead>\n",
       "    <tr style=\"text-align: right;\">\n",
       "      <th></th>\n",
       "      <th>Wally</th>\n",
       "      <th>Eva</th>\n",
       "      <th>Sam</th>\n",
       "      <th>Katie</th>\n",
       "      <th>Bob</th>\n",
       "    </tr>\n",
       "  </thead>\n",
       "  <tbody>\n",
       "    <tr>\n",
       "      <th>Test1</th>\n",
       "      <td>87</td>\n",
       "      <td>100</td>\n",
       "      <td>94</td>\n",
       "      <td>100</td>\n",
       "      <td>83</td>\n",
       "    </tr>\n",
       "    <tr>\n",
       "      <th>Test2</th>\n",
       "      <td>96</td>\n",
       "      <td>87</td>\n",
       "      <td>77</td>\n",
       "      <td>81</td>\n",
       "      <td>64</td>\n",
       "    </tr>\n",
       "    <tr>\n",
       "      <th>Test3</th>\n",
       "      <td>70</td>\n",
       "      <td>90</td>\n",
       "      <td>90</td>\n",
       "      <td>82</td>\n",
       "      <td>85</td>\n",
       "    </tr>\n",
       "  </tbody>\n",
       "</table>\n",
       "</div>"
      ],
      "text/plain": [
       "       Wally  Eva  Sam  Katie  Bob\n",
       "Test1     87  100   94    100   83\n",
       "Test2     96   87   77     81   64\n",
       "Test3     70   90   90     82   85"
      ]
     },
     "execution_count": 48,
     "metadata": {},
     "output_type": "execute_result"
    }
   ],
   "source": [
    "# Another option using index attribute\n",
    "grades.index = ['Test1', 'Test2', 'Test3']\n",
    "grades"
   ]
  },
  {
   "cell_type": "markdown",
   "id": "00b776be-7a22-4776-b4f3-467e233666c7",
   "metadata": {},
   "source": [
    "**Accessing a DataFrame's columns**"
   ]
  },
  {
   "cell_type": "code",
   "execution_count": 49,
   "id": "cd4aab0a-3ffc-48a3-8f0a-bc3f2d18709e",
   "metadata": {},
   "outputs": [
    {
     "data": {
      "text/plain": [
       "Test1    100\n",
       "Test2     87\n",
       "Test3     90\n",
       "Name: Eva, dtype: int64"
      ]
     },
     "execution_count": 49,
     "metadata": {},
     "output_type": "execute_result"
    }
   ],
   "source": [
    "grades['Eva']"
   ]
  },
  {
   "cell_type": "code",
   "execution_count": 50,
   "id": "fdad5ee1-1b38-4550-928c-64cc15b6bcb6",
   "metadata": {},
   "outputs": [
    {
     "data": {
      "text/plain": [
       "Test1    94\n",
       "Test2    77\n",
       "Test3    90\n",
       "Name: Sam, dtype: int64"
      ]
     },
     "execution_count": 50,
     "metadata": {},
     "output_type": "execute_result"
    }
   ],
   "source": [
    "grades.Sam"
   ]
  },
  {
   "cell_type": "markdown",
   "id": "73c4d147-2965-40bc-a96a-100188d91cc3",
   "metadata": {},
   "source": [
    "**Selecting rows via the loc and iloc attributes**"
   ]
  },
  {
   "cell_type": "code",
   "execution_count": 51,
   "id": "85e9a55f-5b3c-4597-b104-1eb2366b0a79",
   "metadata": {},
   "outputs": [
    {
     "data": {
      "text/plain": [
       "Wally     87\n",
       "Eva      100\n",
       "Sam       94\n",
       "Katie    100\n",
       "Bob       83\n",
       "Name: Test1, dtype: int64"
      ]
     },
     "execution_count": 51,
     "metadata": {},
     "output_type": "execute_result"
    }
   ],
   "source": [
    "# Access a row by its lavel using the loc attribute\n",
    "grades.loc['Test1']"
   ]
  },
  {
   "cell_type": "code",
   "execution_count": 52,
   "id": "c591db4a-be39-4353-8eee-d343e2748b40",
   "metadata": {},
   "outputs": [
    {
     "data": {
      "text/plain": [
       "Wally    96\n",
       "Eva      87\n",
       "Sam      77\n",
       "Katie    81\n",
       "Bob      64\n",
       "Name: Test2, dtype: int64"
      ]
     },
     "execution_count": 52,
     "metadata": {},
     "output_type": "execute_result"
    }
   ],
   "source": [
    "# Access a row by integer zero-based indices using iloc\n",
    "grades.iloc[1]"
   ]
  },
  {
   "cell_type": "markdown",
   "id": "8d71df2e-6dd3-46a3-9c26-1af7e943879a",
   "metadata": {},
   "source": [
    "**Selecting rows via slices and lists with the loc and iloc attributes**"
   ]
  },
  {
   "cell_type": "code",
   "execution_count": 53,
   "id": "7d94abc8-9187-4935-bd10-c5dcaadab14f",
   "metadata": {},
   "outputs": [
    {
     "data": {
      "text/html": [
       "<div>\n",
       "<style scoped>\n",
       "    .dataframe tbody tr th:only-of-type {\n",
       "        vertical-align: middle;\n",
       "    }\n",
       "\n",
       "    .dataframe tbody tr th {\n",
       "        vertical-align: top;\n",
       "    }\n",
       "\n",
       "    .dataframe thead th {\n",
       "        text-align: right;\n",
       "    }\n",
       "</style>\n",
       "<table border=\"1\" class=\"dataframe\">\n",
       "  <thead>\n",
       "    <tr style=\"text-align: right;\">\n",
       "      <th></th>\n",
       "      <th>Wally</th>\n",
       "      <th>Eva</th>\n",
       "      <th>Sam</th>\n",
       "      <th>Katie</th>\n",
       "      <th>Bob</th>\n",
       "    </tr>\n",
       "  </thead>\n",
       "  <tbody>\n",
       "    <tr>\n",
       "      <th>Test1</th>\n",
       "      <td>87</td>\n",
       "      <td>100</td>\n",
       "      <td>94</td>\n",
       "      <td>100</td>\n",
       "      <td>83</td>\n",
       "    </tr>\n",
       "    <tr>\n",
       "      <th>Test2</th>\n",
       "      <td>96</td>\n",
       "      <td>87</td>\n",
       "      <td>77</td>\n",
       "      <td>81</td>\n",
       "      <td>64</td>\n",
       "    </tr>\n",
       "  </tbody>\n",
       "</table>\n",
       "</div>"
      ],
      "text/plain": [
       "       Wally  Eva  Sam  Katie  Bob\n",
       "Test1     87  100   94    100   83\n",
       "Test2     96   87   77     81   64"
      ]
     },
     "execution_count": 53,
     "metadata": {},
     "output_type": "execute_result"
    }
   ],
   "source": [
    "# Using loc with a slice\n",
    "grades.loc['Test1':'Test2']"
   ]
  },
  {
   "cell_type": "code",
   "execution_count": 54,
   "id": "6dd0af01-d921-4c01-b518-c2a0a81d278c",
   "metadata": {},
   "outputs": [
    {
     "data": {
      "text/html": [
       "<div>\n",
       "<style scoped>\n",
       "    .dataframe tbody tr th:only-of-type {\n",
       "        vertical-align: middle;\n",
       "    }\n",
       "\n",
       "    .dataframe tbody tr th {\n",
       "        vertical-align: top;\n",
       "    }\n",
       "\n",
       "    .dataframe thead th {\n",
       "        text-align: right;\n",
       "    }\n",
       "</style>\n",
       "<table border=\"1\" class=\"dataframe\">\n",
       "  <thead>\n",
       "    <tr style=\"text-align: right;\">\n",
       "      <th></th>\n",
       "      <th>Wally</th>\n",
       "      <th>Eva</th>\n",
       "      <th>Sam</th>\n",
       "      <th>Katie</th>\n",
       "      <th>Bob</th>\n",
       "    </tr>\n",
       "  </thead>\n",
       "  <tbody>\n",
       "    <tr>\n",
       "      <th>Test1</th>\n",
       "      <td>87</td>\n",
       "      <td>100</td>\n",
       "      <td>94</td>\n",
       "      <td>100</td>\n",
       "      <td>83</td>\n",
       "    </tr>\n",
       "    <tr>\n",
       "      <th>Test2</th>\n",
       "      <td>96</td>\n",
       "      <td>87</td>\n",
       "      <td>77</td>\n",
       "      <td>81</td>\n",
       "      <td>64</td>\n",
       "    </tr>\n",
       "  </tbody>\n",
       "</table>\n",
       "</div>"
      ],
      "text/plain": [
       "       Wally  Eva  Sam  Katie  Bob\n",
       "Test1     87  100   94    100   83\n",
       "Test2     96   87   77     81   64"
      ]
     },
     "execution_count": 54,
     "metadata": {},
     "output_type": "execute_result"
    }
   ],
   "source": [
    "# Using iloc with a slice\n",
    "grades.iloc[0:2]"
   ]
  },
  {
   "cell_type": "code",
   "execution_count": 55,
   "id": "6ab3a028-3fa4-4744-a0b0-b79e1efec86f",
   "metadata": {},
   "outputs": [
    {
     "data": {
      "text/html": [
       "<div>\n",
       "<style scoped>\n",
       "    .dataframe tbody tr th:only-of-type {\n",
       "        vertical-align: middle;\n",
       "    }\n",
       "\n",
       "    .dataframe tbody tr th {\n",
       "        vertical-align: top;\n",
       "    }\n",
       "\n",
       "    .dataframe thead th {\n",
       "        text-align: right;\n",
       "    }\n",
       "</style>\n",
       "<table border=\"1\" class=\"dataframe\">\n",
       "  <thead>\n",
       "    <tr style=\"text-align: right;\">\n",
       "      <th></th>\n",
       "      <th>Wally</th>\n",
       "      <th>Eva</th>\n",
       "      <th>Sam</th>\n",
       "      <th>Katie</th>\n",
       "      <th>Bob</th>\n",
       "    </tr>\n",
       "  </thead>\n",
       "  <tbody>\n",
       "    <tr>\n",
       "      <th>Test1</th>\n",
       "      <td>87</td>\n",
       "      <td>100</td>\n",
       "      <td>94</td>\n",
       "      <td>100</td>\n",
       "      <td>83</td>\n",
       "    </tr>\n",
       "    <tr>\n",
       "      <th>Test3</th>\n",
       "      <td>70</td>\n",
       "      <td>90</td>\n",
       "      <td>90</td>\n",
       "      <td>82</td>\n",
       "      <td>85</td>\n",
       "    </tr>\n",
       "  </tbody>\n",
       "</table>\n",
       "</div>"
      ],
      "text/plain": [
       "       Wally  Eva  Sam  Katie  Bob\n",
       "Test1     87  100   94    100   83\n",
       "Test3     70   90   90     82   85"
      ]
     },
     "execution_count": 55,
     "metadata": {},
     "output_type": "execute_result"
    }
   ],
   "source": [
    "# Using loc with a list\n",
    "grades.loc[['Test1', 'Test3']]"
   ]
  },
  {
   "cell_type": "code",
   "execution_count": 56,
   "id": "989e325f-fb98-430f-817e-ef94bd4d4e85",
   "metadata": {},
   "outputs": [
    {
     "data": {
      "text/html": [
       "<div>\n",
       "<style scoped>\n",
       "    .dataframe tbody tr th:only-of-type {\n",
       "        vertical-align: middle;\n",
       "    }\n",
       "\n",
       "    .dataframe tbody tr th {\n",
       "        vertical-align: top;\n",
       "    }\n",
       "\n",
       "    .dataframe thead th {\n",
       "        text-align: right;\n",
       "    }\n",
       "</style>\n",
       "<table border=\"1\" class=\"dataframe\">\n",
       "  <thead>\n",
       "    <tr style=\"text-align: right;\">\n",
       "      <th></th>\n",
       "      <th>Wally</th>\n",
       "      <th>Eva</th>\n",
       "      <th>Sam</th>\n",
       "      <th>Katie</th>\n",
       "      <th>Bob</th>\n",
       "    </tr>\n",
       "  </thead>\n",
       "  <tbody>\n",
       "    <tr>\n",
       "      <th>Test1</th>\n",
       "      <td>87</td>\n",
       "      <td>100</td>\n",
       "      <td>94</td>\n",
       "      <td>100</td>\n",
       "      <td>83</td>\n",
       "    </tr>\n",
       "    <tr>\n",
       "      <th>Test3</th>\n",
       "      <td>70</td>\n",
       "      <td>90</td>\n",
       "      <td>90</td>\n",
       "      <td>82</td>\n",
       "      <td>85</td>\n",
       "    </tr>\n",
       "  </tbody>\n",
       "</table>\n",
       "</div>"
      ],
      "text/plain": [
       "       Wally  Eva  Sam  Katie  Bob\n",
       "Test1     87  100   94    100   83\n",
       "Test3     70   90   90     82   85"
      ]
     },
     "execution_count": 56,
     "metadata": {},
     "output_type": "execute_result"
    }
   ],
   "source": [
    "# Using iloc with a list\n",
    "grades.iloc[[0, 2]]"
   ]
  },
  {
   "cell_type": "markdown",
   "id": "f4b9d3e6-7066-4871-b63f-d1d8337825ef",
   "metadata": {},
   "source": [
    "**Boolean indexing**"
   ]
  },
  {
   "cell_type": "code",
   "execution_count": 58,
   "id": "3769de45-ca06-4752-b655-28dacbda0f92",
   "metadata": {},
   "outputs": [
    {
     "data": {
      "text/html": [
       "<div>\n",
       "<style scoped>\n",
       "    .dataframe tbody tr th:only-of-type {\n",
       "        vertical-align: middle;\n",
       "    }\n",
       "\n",
       "    .dataframe tbody tr th {\n",
       "        vertical-align: top;\n",
       "    }\n",
       "\n",
       "    .dataframe thead th {\n",
       "        text-align: right;\n",
       "    }\n",
       "</style>\n",
       "<table border=\"1\" class=\"dataframe\">\n",
       "  <thead>\n",
       "    <tr style=\"text-align: right;\">\n",
       "      <th></th>\n",
       "      <th>Wally</th>\n",
       "      <th>Eva</th>\n",
       "      <th>Sam</th>\n",
       "      <th>Katie</th>\n",
       "      <th>Bob</th>\n",
       "    </tr>\n",
       "  </thead>\n",
       "  <tbody>\n",
       "    <tr>\n",
       "      <th>Test1</th>\n",
       "      <td>NaN</td>\n",
       "      <td>100.0</td>\n",
       "      <td>94.0</td>\n",
       "      <td>100.0</td>\n",
       "      <td>NaN</td>\n",
       "    </tr>\n",
       "    <tr>\n",
       "      <th>Test2</th>\n",
       "      <td>96.0</td>\n",
       "      <td>NaN</td>\n",
       "      <td>NaN</td>\n",
       "      <td>NaN</td>\n",
       "      <td>NaN</td>\n",
       "    </tr>\n",
       "    <tr>\n",
       "      <th>Test3</th>\n",
       "      <td>NaN</td>\n",
       "      <td>90.0</td>\n",
       "      <td>90.0</td>\n",
       "      <td>NaN</td>\n",
       "      <td>NaN</td>\n",
       "    </tr>\n",
       "  </tbody>\n",
       "</table>\n",
       "</div>"
      ],
      "text/plain": [
       "       Wally    Eva   Sam  Katie  Bob\n",
       "Test1    NaN  100.0  94.0  100.0  NaN\n",
       "Test2   96.0    NaN   NaN    NaN  NaN\n",
       "Test3    NaN   90.0  90.0    NaN  NaN"
      ]
     },
     "execution_count": 58,
     "metadata": {},
     "output_type": "execute_result"
    }
   ],
   "source": [
    "grades[grades >= 90]\n",
    "# Pandas checks every grade to determine whether its value is greater than or equal 90"
   ]
  },
  {
   "cell_type": "code",
   "execution_count": 65,
   "id": "a718af87-bd23-44c4-a9fb-5bea5efb4d7e",
   "metadata": {},
   "outputs": [
    {
     "data": {
      "text/html": [
       "<div>\n",
       "<style scoped>\n",
       "    .dataframe tbody tr th:only-of-type {\n",
       "        vertical-align: middle;\n",
       "    }\n",
       "\n",
       "    .dataframe tbody tr th {\n",
       "        vertical-align: top;\n",
       "    }\n",
       "\n",
       "    .dataframe thead th {\n",
       "        text-align: right;\n",
       "    }\n",
       "</style>\n",
       "<table border=\"1\" class=\"dataframe\">\n",
       "  <thead>\n",
       "    <tr style=\"text-align: right;\">\n",
       "      <th></th>\n",
       "      <th>Wally</th>\n",
       "      <th>Eva</th>\n",
       "      <th>Sam</th>\n",
       "      <th>Katie</th>\n",
       "      <th>Bob</th>\n",
       "    </tr>\n",
       "  </thead>\n",
       "  <tbody>\n",
       "    <tr>\n",
       "      <th>Test1</th>\n",
       "      <td>87.0</td>\n",
       "      <td>NaN</td>\n",
       "      <td>NaN</td>\n",
       "      <td>NaN</td>\n",
       "      <td>83.0</td>\n",
       "    </tr>\n",
       "    <tr>\n",
       "      <th>Test2</th>\n",
       "      <td>NaN</td>\n",
       "      <td>87.0</td>\n",
       "      <td>NaN</td>\n",
       "      <td>81.0</td>\n",
       "      <td>NaN</td>\n",
       "    </tr>\n",
       "    <tr>\n",
       "      <th>Test3</th>\n",
       "      <td>NaN</td>\n",
       "      <td>NaN</td>\n",
       "      <td>NaN</td>\n",
       "      <td>82.0</td>\n",
       "      <td>85.0</td>\n",
       "    </tr>\n",
       "  </tbody>\n",
       "</table>\n",
       "</div>"
      ],
      "text/plain": [
       "       Wally   Eva  Sam  Katie   Bob\n",
       "Test1   87.0   NaN  NaN    NaN  83.0\n",
       "Test2    NaN  87.0  NaN   81.0   NaN\n",
       "Test3    NaN   NaN  NaN   82.0  85.0"
      ]
     },
     "execution_count": 65,
     "metadata": {},
     "output_type": "execute_result"
    }
   ],
   "source": [
    "grades[(grades >= 80) & (grades < 90)] # ( ) are needed, use & or |"
   ]
  },
  {
   "cell_type": "markdown",
   "id": "07e58b56-3072-48a5-80ee-ce237fc72d2c",
   "metadata": {},
   "source": [
    "**Accessing a Specific DataFrame Cell by Row and Column**"
   ]
  },
  {
   "cell_type": "code",
   "execution_count": 66,
   "id": "3da0d5a7-62fa-4f2e-be3d-cd3c5dc2de88",
   "metadata": {},
   "outputs": [
    {
     "data": {
      "text/plain": [
       "87"
      ]
     },
     "execution_count": 66,
     "metadata": {},
     "output_type": "execute_result"
    }
   ],
   "source": [
    "grades.at['Test2', 'Eva']"
   ]
  },
  {
   "cell_type": "code",
   "execution_count": 67,
   "id": "a6a6bbc6-090c-4f6f-a089-f809bf77bdc9",
   "metadata": {},
   "outputs": [
    {
     "data": {
      "text/plain": [
       "70"
      ]
     },
     "execution_count": 67,
     "metadata": {},
     "output_type": "execute_result"
    }
   ],
   "source": [
    "grades.iat[2, 0]"
   ]
  },
  {
   "cell_type": "markdown",
   "id": "aaac4107-01e5-4db7-a628-85cee02cb840",
   "metadata": {},
   "source": [
    "**Assign new values to specific elements**"
   ]
  },
  {
   "cell_type": "code",
   "execution_count": 68,
   "id": "3fe1d567-d928-4026-ad11-ef19c05969e9",
   "metadata": {},
   "outputs": [
    {
     "data": {
      "text/plain": [
       "100"
      ]
     },
     "execution_count": 68,
     "metadata": {},
     "output_type": "execute_result"
    }
   ],
   "source": [
    "grades.at['Test2', 'Eva'] = 100\n",
    "\n",
    "grades.at['Test2', 'Eva']"
   ]
  },
  {
   "cell_type": "code",
   "execution_count": 69,
   "id": "934436ca-f0ec-4d7f-9be5-101726351a3f",
   "metadata": {},
   "outputs": [
    {
     "data": {
      "text/plain": [
       "87"
      ]
     },
     "execution_count": 69,
     "metadata": {},
     "output_type": "execute_result"
    }
   ],
   "source": [
    "grades.iat[1, 2] = 87\n",
    "\n",
    "grades.iat[1, 2]"
   ]
  },
  {
   "cell_type": "markdown",
   "id": "c1a4883b-b77a-4b6d-8861-5488507fb764",
   "metadata": {},
   "source": [
    "**Descriptive statistics**"
   ]
  },
  {
   "cell_type": "code",
   "execution_count": 70,
   "id": "c6a735c9-2487-434f-98e1-b240c567dd78",
   "metadata": {},
   "outputs": [
    {
     "data": {
      "text/html": [
       "<div>\n",
       "<style scoped>\n",
       "    .dataframe tbody tr th:only-of-type {\n",
       "        vertical-align: middle;\n",
       "    }\n",
       "\n",
       "    .dataframe tbody tr th {\n",
       "        vertical-align: top;\n",
       "    }\n",
       "\n",
       "    .dataframe thead th {\n",
       "        text-align: right;\n",
       "    }\n",
       "</style>\n",
       "<table border=\"1\" class=\"dataframe\">\n",
       "  <thead>\n",
       "    <tr style=\"text-align: right;\">\n",
       "      <th></th>\n",
       "      <th>Wally</th>\n",
       "      <th>Eva</th>\n",
       "      <th>Sam</th>\n",
       "      <th>Katie</th>\n",
       "      <th>Bob</th>\n",
       "    </tr>\n",
       "  </thead>\n",
       "  <tbody>\n",
       "    <tr>\n",
       "      <th>count</th>\n",
       "      <td>3.000000</td>\n",
       "      <td>3.000000</td>\n",
       "      <td>3.000000</td>\n",
       "      <td>3.000000</td>\n",
       "      <td>3.000000</td>\n",
       "    </tr>\n",
       "    <tr>\n",
       "      <th>mean</th>\n",
       "      <td>84.333333</td>\n",
       "      <td>96.666667</td>\n",
       "      <td>90.333333</td>\n",
       "      <td>87.666667</td>\n",
       "      <td>77.333333</td>\n",
       "    </tr>\n",
       "    <tr>\n",
       "      <th>std</th>\n",
       "      <td>13.203535</td>\n",
       "      <td>5.773503</td>\n",
       "      <td>3.511885</td>\n",
       "      <td>10.692677</td>\n",
       "      <td>11.590226</td>\n",
       "    </tr>\n",
       "    <tr>\n",
       "      <th>min</th>\n",
       "      <td>70.000000</td>\n",
       "      <td>90.000000</td>\n",
       "      <td>87.000000</td>\n",
       "      <td>81.000000</td>\n",
       "      <td>64.000000</td>\n",
       "    </tr>\n",
       "    <tr>\n",
       "      <th>25%</th>\n",
       "      <td>78.500000</td>\n",
       "      <td>95.000000</td>\n",
       "      <td>88.500000</td>\n",
       "      <td>81.500000</td>\n",
       "      <td>73.500000</td>\n",
       "    </tr>\n",
       "    <tr>\n",
       "      <th>50%</th>\n",
       "      <td>87.000000</td>\n",
       "      <td>100.000000</td>\n",
       "      <td>90.000000</td>\n",
       "      <td>82.000000</td>\n",
       "      <td>83.000000</td>\n",
       "    </tr>\n",
       "    <tr>\n",
       "      <th>75%</th>\n",
       "      <td>91.500000</td>\n",
       "      <td>100.000000</td>\n",
       "      <td>92.000000</td>\n",
       "      <td>91.000000</td>\n",
       "      <td>84.000000</td>\n",
       "    </tr>\n",
       "    <tr>\n",
       "      <th>max</th>\n",
       "      <td>96.000000</td>\n",
       "      <td>100.000000</td>\n",
       "      <td>94.000000</td>\n",
       "      <td>100.000000</td>\n",
       "      <td>85.000000</td>\n",
       "    </tr>\n",
       "  </tbody>\n",
       "</table>\n",
       "</div>"
      ],
      "text/plain": [
       "           Wally         Eva        Sam       Katie        Bob\n",
       "count   3.000000    3.000000   3.000000    3.000000   3.000000\n",
       "mean   84.333333   96.666667  90.333333   87.666667  77.333333\n",
       "std    13.203535    5.773503   3.511885   10.692677  11.590226\n",
       "min    70.000000   90.000000  87.000000   81.000000  64.000000\n",
       "25%    78.500000   95.000000  88.500000   81.500000  73.500000\n",
       "50%    87.000000  100.000000  90.000000   82.000000  83.000000\n",
       "75%    91.500000  100.000000  92.000000   91.000000  84.000000\n",
       "max    96.000000  100.000000  94.000000  100.000000  85.000000"
      ]
     },
     "execution_count": 70,
     "metadata": {},
     "output_type": "execute_result"
    }
   ],
   "source": [
    "grades.describe()"
   ]
  },
  {
   "cell_type": "code",
   "execution_count": 71,
   "id": "4d959165-4cb5-4dc1-af3b-5a0c81da5aa8",
   "metadata": {},
   "outputs": [
    {
     "data": {
      "text/html": [
       "<div>\n",
       "<style scoped>\n",
       "    .dataframe tbody tr th:only-of-type {\n",
       "        vertical-align: middle;\n",
       "    }\n",
       "\n",
       "    .dataframe tbody tr th {\n",
       "        vertical-align: top;\n",
       "    }\n",
       "\n",
       "    .dataframe thead th {\n",
       "        text-align: right;\n",
       "    }\n",
       "</style>\n",
       "<table border=\"1\" class=\"dataframe\">\n",
       "  <thead>\n",
       "    <tr style=\"text-align: right;\">\n",
       "      <th></th>\n",
       "      <th>Wally</th>\n",
       "      <th>Eva</th>\n",
       "      <th>Sam</th>\n",
       "      <th>Katie</th>\n",
       "      <th>Bob</th>\n",
       "    </tr>\n",
       "  </thead>\n",
       "  <tbody>\n",
       "    <tr>\n",
       "      <th>count</th>\n",
       "      <td>3.00</td>\n",
       "      <td>3.00</td>\n",
       "      <td>3.00</td>\n",
       "      <td>3.00</td>\n",
       "      <td>3.00</td>\n",
       "    </tr>\n",
       "    <tr>\n",
       "      <th>mean</th>\n",
       "      <td>84.33</td>\n",
       "      <td>96.67</td>\n",
       "      <td>90.33</td>\n",
       "      <td>87.67</td>\n",
       "      <td>77.33</td>\n",
       "    </tr>\n",
       "    <tr>\n",
       "      <th>std</th>\n",
       "      <td>13.20</td>\n",
       "      <td>5.77</td>\n",
       "      <td>3.51</td>\n",
       "      <td>10.69</td>\n",
       "      <td>11.59</td>\n",
       "    </tr>\n",
       "    <tr>\n",
       "      <th>min</th>\n",
       "      <td>70.00</td>\n",
       "      <td>90.00</td>\n",
       "      <td>87.00</td>\n",
       "      <td>81.00</td>\n",
       "      <td>64.00</td>\n",
       "    </tr>\n",
       "    <tr>\n",
       "      <th>25%</th>\n",
       "      <td>78.50</td>\n",
       "      <td>95.00</td>\n",
       "      <td>88.50</td>\n",
       "      <td>81.50</td>\n",
       "      <td>73.50</td>\n",
       "    </tr>\n",
       "    <tr>\n",
       "      <th>50%</th>\n",
       "      <td>87.00</td>\n",
       "      <td>100.00</td>\n",
       "      <td>90.00</td>\n",
       "      <td>82.00</td>\n",
       "      <td>83.00</td>\n",
       "    </tr>\n",
       "    <tr>\n",
       "      <th>75%</th>\n",
       "      <td>91.50</td>\n",
       "      <td>100.00</td>\n",
       "      <td>92.00</td>\n",
       "      <td>91.00</td>\n",
       "      <td>84.00</td>\n",
       "    </tr>\n",
       "    <tr>\n",
       "      <th>max</th>\n",
       "      <td>96.00</td>\n",
       "      <td>100.00</td>\n",
       "      <td>94.00</td>\n",
       "      <td>100.00</td>\n",
       "      <td>85.00</td>\n",
       "    </tr>\n",
       "  </tbody>\n",
       "</table>\n",
       "</div>"
      ],
      "text/plain": [
       "       Wally     Eva    Sam   Katie    Bob\n",
       "count   3.00    3.00   3.00    3.00   3.00\n",
       "mean   84.33   96.67  90.33   87.67  77.33\n",
       "std    13.20    5.77   3.51   10.69  11.59\n",
       "min    70.00   90.00  87.00   81.00  64.00\n",
       "25%    78.50   95.00  88.50   81.50  73.50\n",
       "50%    87.00  100.00  90.00   82.00  83.00\n",
       "75%    91.50  100.00  92.00   91.00  84.00\n",
       "max    96.00  100.00  94.00  100.00  85.00"
      ]
     },
     "execution_count": 71,
     "metadata": {},
     "output_type": "execute_result"
    }
   ],
   "source": [
    "# Control the precision and other default settings with pandas' set_option function\n",
    "\n",
    "pd.set_option('precision', 2)\n",
    "\n",
    "grades.describe()"
   ]
  },
  {
   "cell_type": "code",
   "execution_count": 73,
   "id": "e7294b62-ecc9-4070-9089-865b8c05e63f",
   "metadata": {},
   "outputs": [
    {
     "data": {
      "text/html": [
       "<div>\n",
       "<style scoped>\n",
       "    .dataframe tbody tr th:only-of-type {\n",
       "        vertical-align: middle;\n",
       "    }\n",
       "\n",
       "    .dataframe tbody tr th {\n",
       "        vertical-align: top;\n",
       "    }\n",
       "\n",
       "    .dataframe thead th {\n",
       "        text-align: right;\n",
       "    }\n",
       "</style>\n",
       "<table border=\"1\" class=\"dataframe\">\n",
       "  <thead>\n",
       "    <tr style=\"text-align: right;\">\n",
       "      <th></th>\n",
       "      <th>Wally</th>\n",
       "      <th>Eva</th>\n",
       "      <th>Sam</th>\n",
       "      <th>Katie</th>\n",
       "      <th>Bob</th>\n",
       "    </tr>\n",
       "  </thead>\n",
       "  <tbody>\n",
       "    <tr>\n",
       "      <th>count</th>\n",
       "      <td>2.00</td>\n",
       "      <td>2.0</td>\n",
       "      <td>2.00</td>\n",
       "      <td>2.00</td>\n",
       "      <td>2.00</td>\n",
       "    </tr>\n",
       "    <tr>\n",
       "      <th>mean</th>\n",
       "      <td>91.50</td>\n",
       "      <td>100.0</td>\n",
       "      <td>90.50</td>\n",
       "      <td>90.50</td>\n",
       "      <td>73.50</td>\n",
       "    </tr>\n",
       "    <tr>\n",
       "      <th>std</th>\n",
       "      <td>6.36</td>\n",
       "      <td>0.0</td>\n",
       "      <td>4.95</td>\n",
       "      <td>13.44</td>\n",
       "      <td>13.44</td>\n",
       "    </tr>\n",
       "    <tr>\n",
       "      <th>min</th>\n",
       "      <td>87.00</td>\n",
       "      <td>100.0</td>\n",
       "      <td>87.00</td>\n",
       "      <td>81.00</td>\n",
       "      <td>64.00</td>\n",
       "    </tr>\n",
       "    <tr>\n",
       "      <th>25%</th>\n",
       "      <td>89.25</td>\n",
       "      <td>100.0</td>\n",
       "      <td>88.75</td>\n",
       "      <td>85.75</td>\n",
       "      <td>68.75</td>\n",
       "    </tr>\n",
       "    <tr>\n",
       "      <th>50%</th>\n",
       "      <td>91.50</td>\n",
       "      <td>100.0</td>\n",
       "      <td>90.50</td>\n",
       "      <td>90.50</td>\n",
       "      <td>73.50</td>\n",
       "    </tr>\n",
       "    <tr>\n",
       "      <th>75%</th>\n",
       "      <td>93.75</td>\n",
       "      <td>100.0</td>\n",
       "      <td>92.25</td>\n",
       "      <td>95.25</td>\n",
       "      <td>78.25</td>\n",
       "    </tr>\n",
       "    <tr>\n",
       "      <th>max</th>\n",
       "      <td>96.00</td>\n",
       "      <td>100.0</td>\n",
       "      <td>94.00</td>\n",
       "      <td>100.00</td>\n",
       "      <td>83.00</td>\n",
       "    </tr>\n",
       "  </tbody>\n",
       "</table>\n",
       "</div>"
      ],
      "text/plain": [
       "       Wally    Eva    Sam   Katie    Bob\n",
       "count   2.00    2.0   2.00    2.00   2.00\n",
       "mean   91.50  100.0  90.50   90.50  73.50\n",
       "std     6.36    0.0   4.95   13.44  13.44\n",
       "min    87.00  100.0  87.00   81.00  64.00\n",
       "25%    89.25  100.0  88.75   85.75  68.75\n",
       "50%    91.50  100.0  90.50   90.50  73.50\n",
       "75%    93.75  100.0  92.25   95.25  78.25\n",
       "max    96.00  100.0  94.00  100.00  83.00"
      ]
     },
     "execution_count": 73,
     "metadata": {},
     "output_type": "execute_result"
    }
   ],
   "source": [
    "grades.loc[['Test1', 'Test2']].describe()"
   ]
  },
  {
   "cell_type": "code",
   "execution_count": 74,
   "id": "36591a05-0231-4175-8fea-381166981781",
   "metadata": {},
   "outputs": [
    {
     "data": {
      "text/plain": [
       "Wally    84.33\n",
       "Eva      96.67\n",
       "Sam      90.33\n",
       "Katie    87.67\n",
       "Bob      77.33\n",
       "dtype: float64"
      ]
     },
     "execution_count": 74,
     "metadata": {},
     "output_type": "execute_result"
    }
   ],
   "source": [
    "grades.mean()"
   ]
  },
  {
   "cell_type": "markdown",
   "id": "1ee9b770-f0d4-49b0-814a-219f85a90f49",
   "metadata": {},
   "source": [
    "**Transposing the DataFrame with the T attribute**"
   ]
  },
  {
   "cell_type": "code",
   "execution_count": 75,
   "id": "c31f6c2c-2741-4da0-8213-b5543185777f",
   "metadata": {},
   "outputs": [
    {
     "data": {
      "text/html": [
       "<div>\n",
       "<style scoped>\n",
       "    .dataframe tbody tr th:only-of-type {\n",
       "        vertical-align: middle;\n",
       "    }\n",
       "\n",
       "    .dataframe tbody tr th {\n",
       "        vertical-align: top;\n",
       "    }\n",
       "\n",
       "    .dataframe thead th {\n",
       "        text-align: right;\n",
       "    }\n",
       "</style>\n",
       "<table border=\"1\" class=\"dataframe\">\n",
       "  <thead>\n",
       "    <tr style=\"text-align: right;\">\n",
       "      <th></th>\n",
       "      <th>Test1</th>\n",
       "      <th>Test2</th>\n",
       "      <th>Test3</th>\n",
       "    </tr>\n",
       "  </thead>\n",
       "  <tbody>\n",
       "    <tr>\n",
       "      <th>Wally</th>\n",
       "      <td>87</td>\n",
       "      <td>96</td>\n",
       "      <td>70</td>\n",
       "    </tr>\n",
       "    <tr>\n",
       "      <th>Eva</th>\n",
       "      <td>100</td>\n",
       "      <td>100</td>\n",
       "      <td>90</td>\n",
       "    </tr>\n",
       "    <tr>\n",
       "      <th>Sam</th>\n",
       "      <td>94</td>\n",
       "      <td>87</td>\n",
       "      <td>90</td>\n",
       "    </tr>\n",
       "    <tr>\n",
       "      <th>Katie</th>\n",
       "      <td>100</td>\n",
       "      <td>81</td>\n",
       "      <td>82</td>\n",
       "    </tr>\n",
       "    <tr>\n",
       "      <th>Bob</th>\n",
       "      <td>83</td>\n",
       "      <td>64</td>\n",
       "      <td>85</td>\n",
       "    </tr>\n",
       "  </tbody>\n",
       "</table>\n",
       "</div>"
      ],
      "text/plain": [
       "       Test1  Test2  Test3\n",
       "Wally     87     96     70\n",
       "Eva      100    100     90\n",
       "Sam       94     87     90\n",
       "Katie    100     81     82\n",
       "Bob       83     64     85"
      ]
     },
     "execution_count": 75,
     "metadata": {},
     "output_type": "execute_result"
    }
   ],
   "source": [
    "grades.T"
   ]
  },
  {
   "cell_type": "code",
   "execution_count": 76,
   "id": "c67ac2a8-db88-4e57-bfe1-d8ef084b6892",
   "metadata": {},
   "outputs": [
    {
     "data": {
      "text/html": [
       "<div>\n",
       "<style scoped>\n",
       "    .dataframe tbody tr th:only-of-type {\n",
       "        vertical-align: middle;\n",
       "    }\n",
       "\n",
       "    .dataframe tbody tr th {\n",
       "        vertical-align: top;\n",
       "    }\n",
       "\n",
       "    .dataframe thead th {\n",
       "        text-align: right;\n",
       "    }\n",
       "</style>\n",
       "<table border=\"1\" class=\"dataframe\">\n",
       "  <thead>\n",
       "    <tr style=\"text-align: right;\">\n",
       "      <th></th>\n",
       "      <th>Test1</th>\n",
       "      <th>Test2</th>\n",
       "      <th>Test3</th>\n",
       "    </tr>\n",
       "  </thead>\n",
       "  <tbody>\n",
       "    <tr>\n",
       "      <th>count</th>\n",
       "      <td>5.00</td>\n",
       "      <td>5.00</td>\n",
       "      <td>5.00</td>\n",
       "    </tr>\n",
       "    <tr>\n",
       "      <th>mean</th>\n",
       "      <td>92.80</td>\n",
       "      <td>85.60</td>\n",
       "      <td>83.40</td>\n",
       "    </tr>\n",
       "    <tr>\n",
       "      <th>std</th>\n",
       "      <td>7.66</td>\n",
       "      <td>14.19</td>\n",
       "      <td>8.23</td>\n",
       "    </tr>\n",
       "    <tr>\n",
       "      <th>min</th>\n",
       "      <td>83.00</td>\n",
       "      <td>64.00</td>\n",
       "      <td>70.00</td>\n",
       "    </tr>\n",
       "    <tr>\n",
       "      <th>25%</th>\n",
       "      <td>87.00</td>\n",
       "      <td>81.00</td>\n",
       "      <td>82.00</td>\n",
       "    </tr>\n",
       "    <tr>\n",
       "      <th>50%</th>\n",
       "      <td>94.00</td>\n",
       "      <td>87.00</td>\n",
       "      <td>85.00</td>\n",
       "    </tr>\n",
       "    <tr>\n",
       "      <th>75%</th>\n",
       "      <td>100.00</td>\n",
       "      <td>96.00</td>\n",
       "      <td>90.00</td>\n",
       "    </tr>\n",
       "    <tr>\n",
       "      <th>max</th>\n",
       "      <td>100.00</td>\n",
       "      <td>100.00</td>\n",
       "      <td>90.00</td>\n",
       "    </tr>\n",
       "  </tbody>\n",
       "</table>\n",
       "</div>"
      ],
      "text/plain": [
       "        Test1   Test2  Test3\n",
       "count    5.00    5.00   5.00\n",
       "mean    92.80   85.60  83.40\n",
       "std      7.66   14.19   8.23\n",
       "min     83.00   64.00  70.00\n",
       "25%     87.00   81.00  82.00\n",
       "50%     94.00   87.00  85.00\n",
       "75%    100.00   96.00  90.00\n",
       "max    100.00  100.00  90.00"
      ]
     },
     "execution_count": 76,
     "metadata": {},
     "output_type": "execute_result"
    }
   ],
   "source": [
    "grades.T.describe()"
   ]
  },
  {
   "cell_type": "code",
   "execution_count": 79,
   "id": "cbd11568-1a73-4166-84b0-dcd7ad50a380",
   "metadata": {},
   "outputs": [
    {
     "data": {
      "text/plain": [
       "Test1    92.8\n",
       "Test2    85.6\n",
       "Test3    83.4\n",
       "dtype: float64"
      ]
     },
     "execution_count": 79,
     "metadata": {},
     "output_type": "execute_result"
    }
   ],
   "source": [
    "grades.T.mean()"
   ]
  },
  {
   "cell_type": "markdown",
   "id": "199c1f72-64b7-45b0-8a91-9c6f4aacdd48",
   "metadata": {},
   "source": [
    "**Sorting by rows by their indices**"
   ]
  },
  {
   "cell_type": "code",
   "execution_count": 80,
   "id": "4e971978-9741-4327-b0e0-281363b52007",
   "metadata": {},
   "outputs": [
    {
     "data": {
      "text/html": [
       "<div>\n",
       "<style scoped>\n",
       "    .dataframe tbody tr th:only-of-type {\n",
       "        vertical-align: middle;\n",
       "    }\n",
       "\n",
       "    .dataframe tbody tr th {\n",
       "        vertical-align: top;\n",
       "    }\n",
       "\n",
       "    .dataframe thead th {\n",
       "        text-align: right;\n",
       "    }\n",
       "</style>\n",
       "<table border=\"1\" class=\"dataframe\">\n",
       "  <thead>\n",
       "    <tr style=\"text-align: right;\">\n",
       "      <th></th>\n",
       "      <th>Wally</th>\n",
       "      <th>Eva</th>\n",
       "      <th>Sam</th>\n",
       "      <th>Katie</th>\n",
       "      <th>Bob</th>\n",
       "    </tr>\n",
       "  </thead>\n",
       "  <tbody>\n",
       "    <tr>\n",
       "      <th>Test3</th>\n",
       "      <td>70</td>\n",
       "      <td>90</td>\n",
       "      <td>90</td>\n",
       "      <td>82</td>\n",
       "      <td>85</td>\n",
       "    </tr>\n",
       "    <tr>\n",
       "      <th>Test2</th>\n",
       "      <td>96</td>\n",
       "      <td>100</td>\n",
       "      <td>87</td>\n",
       "      <td>81</td>\n",
       "      <td>64</td>\n",
       "    </tr>\n",
       "    <tr>\n",
       "      <th>Test1</th>\n",
       "      <td>87</td>\n",
       "      <td>100</td>\n",
       "      <td>94</td>\n",
       "      <td>100</td>\n",
       "      <td>83</td>\n",
       "    </tr>\n",
       "  </tbody>\n",
       "</table>\n",
       "</div>"
      ],
      "text/plain": [
       "       Wally  Eva  Sam  Katie  Bob\n",
       "Test3     70   90   90     82   85\n",
       "Test2     96  100   87     81   64\n",
       "Test1     87  100   94    100   83"
      ]
     },
     "execution_count": 80,
     "metadata": {},
     "output_type": "execute_result"
    }
   ],
   "source": [
    "grades.sort_index(ascending=False)"
   ]
  },
  {
   "cell_type": "markdown",
   "id": "13924ed8-52c0-4fe4-b78d-c0a5487e1090",
   "metadata": {},
   "source": [
    "**Sorting by Column Indices**"
   ]
  },
  {
   "cell_type": "code",
   "execution_count": 82,
   "id": "84167fab-1b42-438a-a90e-886fd7cb6467",
   "metadata": {},
   "outputs": [
    {
     "data": {
      "text/html": [
       "<div>\n",
       "<style scoped>\n",
       "    .dataframe tbody tr th:only-of-type {\n",
       "        vertical-align: middle;\n",
       "    }\n",
       "\n",
       "    .dataframe tbody tr th {\n",
       "        vertical-align: top;\n",
       "    }\n",
       "\n",
       "    .dataframe thead th {\n",
       "        text-align: right;\n",
       "    }\n",
       "</style>\n",
       "<table border=\"1\" class=\"dataframe\">\n",
       "  <thead>\n",
       "    <tr style=\"text-align: right;\">\n",
       "      <th></th>\n",
       "      <th>Bob</th>\n",
       "      <th>Eva</th>\n",
       "      <th>Katie</th>\n",
       "      <th>Sam</th>\n",
       "      <th>Wally</th>\n",
       "    </tr>\n",
       "  </thead>\n",
       "  <tbody>\n",
       "    <tr>\n",
       "      <th>Test1</th>\n",
       "      <td>83</td>\n",
       "      <td>100</td>\n",
       "      <td>100</td>\n",
       "      <td>94</td>\n",
       "      <td>87</td>\n",
       "    </tr>\n",
       "    <tr>\n",
       "      <th>Test2</th>\n",
       "      <td>64</td>\n",
       "      <td>100</td>\n",
       "      <td>81</td>\n",
       "      <td>87</td>\n",
       "      <td>96</td>\n",
       "    </tr>\n",
       "    <tr>\n",
       "      <th>Test3</th>\n",
       "      <td>85</td>\n",
       "      <td>90</td>\n",
       "      <td>82</td>\n",
       "      <td>90</td>\n",
       "      <td>70</td>\n",
       "    </tr>\n",
       "  </tbody>\n",
       "</table>\n",
       "</div>"
      ],
      "text/plain": [
       "       Bob  Eva  Katie  Sam  Wally\n",
       "Test1   83  100    100   94     87\n",
       "Test2   64  100     81   87     96\n",
       "Test3   85   90     82   90     70"
      ]
     },
     "execution_count": 82,
     "metadata": {},
     "output_type": "execute_result"
    }
   ],
   "source": [
    "grades.sort_index(axis=1)"
   ]
  },
  {
   "cell_type": "markdown",
   "id": "d90e25c9-db45-44d9-883a-7b2cd6b1161f",
   "metadata": {},
   "source": [
    "**Sorting by column values**"
   ]
  },
  {
   "cell_type": "code",
   "execution_count": 85,
   "id": "dd0b85b4-3016-4363-a36b-632cc9c714b0",
   "metadata": {},
   "outputs": [
    {
     "data": {
      "text/html": [
       "<div>\n",
       "<style scoped>\n",
       "    .dataframe tbody tr th:only-of-type {\n",
       "        vertical-align: middle;\n",
       "    }\n",
       "\n",
       "    .dataframe tbody tr th {\n",
       "        vertical-align: top;\n",
       "    }\n",
       "\n",
       "    .dataframe thead th {\n",
       "        text-align: right;\n",
       "    }\n",
       "</style>\n",
       "<table border=\"1\" class=\"dataframe\">\n",
       "  <thead>\n",
       "    <tr style=\"text-align: right;\">\n",
       "      <th></th>\n",
       "      <th>Eva</th>\n",
       "      <th>Katie</th>\n",
       "      <th>Sam</th>\n",
       "      <th>Wally</th>\n",
       "      <th>Bob</th>\n",
       "    </tr>\n",
       "  </thead>\n",
       "  <tbody>\n",
       "    <tr>\n",
       "      <th>Test1</th>\n",
       "      <td>100</td>\n",
       "      <td>100</td>\n",
       "      <td>94</td>\n",
       "      <td>87</td>\n",
       "      <td>83</td>\n",
       "    </tr>\n",
       "    <tr>\n",
       "      <th>Test2</th>\n",
       "      <td>100</td>\n",
       "      <td>81</td>\n",
       "      <td>87</td>\n",
       "      <td>96</td>\n",
       "      <td>64</td>\n",
       "    </tr>\n",
       "    <tr>\n",
       "      <th>Test3</th>\n",
       "      <td>90</td>\n",
       "      <td>82</td>\n",
       "      <td>90</td>\n",
       "      <td>70</td>\n",
       "      <td>85</td>\n",
       "    </tr>\n",
       "  </tbody>\n",
       "</table>\n",
       "</div>"
      ],
      "text/plain": [
       "       Eva  Katie  Sam  Wally  Bob\n",
       "Test1  100    100   94     87   83\n",
       "Test2  100     81   87     96   64\n",
       "Test3   90     82   90     70   85"
      ]
     },
     "execution_count": 85,
     "metadata": {},
     "output_type": "execute_result"
    }
   ],
   "source": [
    "grades.sort_values(by='Test1', axis=1, ascending=False)"
   ]
  },
  {
   "cell_type": "code",
   "execution_count": 86,
   "id": "1997188d-c016-4da9-b774-8aa1c49111ab",
   "metadata": {},
   "outputs": [
    {
     "data": {
      "text/html": [
       "<div>\n",
       "<style scoped>\n",
       "    .dataframe tbody tr th:only-of-type {\n",
       "        vertical-align: middle;\n",
       "    }\n",
       "\n",
       "    .dataframe tbody tr th {\n",
       "        vertical-align: top;\n",
       "    }\n",
       "\n",
       "    .dataframe thead th {\n",
       "        text-align: right;\n",
       "    }\n",
       "</style>\n",
       "<table border=\"1\" class=\"dataframe\">\n",
       "  <thead>\n",
       "    <tr style=\"text-align: right;\">\n",
       "      <th></th>\n",
       "      <th>Test1</th>\n",
       "      <th>Test2</th>\n",
       "      <th>Test3</th>\n",
       "    </tr>\n",
       "  </thead>\n",
       "  <tbody>\n",
       "    <tr>\n",
       "      <th>Eva</th>\n",
       "      <td>100</td>\n",
       "      <td>100</td>\n",
       "      <td>90</td>\n",
       "    </tr>\n",
       "    <tr>\n",
       "      <th>Katie</th>\n",
       "      <td>100</td>\n",
       "      <td>81</td>\n",
       "      <td>82</td>\n",
       "    </tr>\n",
       "    <tr>\n",
       "      <th>Sam</th>\n",
       "      <td>94</td>\n",
       "      <td>87</td>\n",
       "      <td>90</td>\n",
       "    </tr>\n",
       "    <tr>\n",
       "      <th>Wally</th>\n",
       "      <td>87</td>\n",
       "      <td>96</td>\n",
       "      <td>70</td>\n",
       "    </tr>\n",
       "    <tr>\n",
       "      <th>Bob</th>\n",
       "      <td>83</td>\n",
       "      <td>64</td>\n",
       "      <td>85</td>\n",
       "    </tr>\n",
       "  </tbody>\n",
       "</table>\n",
       "</div>"
      ],
      "text/plain": [
       "       Test1  Test2  Test3\n",
       "Eva      100    100     90\n",
       "Katie    100     81     82\n",
       "Sam       94     87     90\n",
       "Wally     87     96     70\n",
       "Bob       83     64     85"
      ]
     },
     "execution_count": 86,
     "metadata": {},
     "output_type": "execute_result"
    }
   ],
   "source": [
    "grades.T.sort_values(by='Test1', ascending=False)"
   ]
  },
  {
   "cell_type": "code",
   "execution_count": 87,
   "id": "830cb1b0-4b23-4262-ad34-00e68e246106",
   "metadata": {},
   "outputs": [
    {
     "data": {
      "text/plain": [
       "Eva      100\n",
       "Katie    100\n",
       "Sam       94\n",
       "Wally     87\n",
       "Bob       83\n",
       "Name: Test1, dtype: int64"
      ]
     },
     "execution_count": 87,
     "metadata": {},
     "output_type": "execute_result"
    }
   ],
   "source": [
    "grades.loc['Test1'].sort_values(ascending=False)"
   ]
  },
  {
   "cell_type": "markdown",
   "id": "7dd4a1bb-f28d-4048-ad3c-53c8196afad2",
   "metadata": {},
   "source": [
    "**Copy vs. in-place sorting**\n",
    "- sort_index and sort_values return a copy of the original DataFrame \n",
    "- You can sort the DataFrame in place, rather than copying the data using inplace=True"
   ]
  },
  {
   "cell_type": "code",
   "execution_count": 93,
   "id": "7ab6b597-2489-40cb-81d6-bc13fb3fd650",
   "metadata": {},
   "outputs": [
    {
     "data": {
      "text/html": [
       "<div>\n",
       "<style scoped>\n",
       "    .dataframe tbody tr th:only-of-type {\n",
       "        vertical-align: middle;\n",
       "    }\n",
       "\n",
       "    .dataframe tbody tr th {\n",
       "        vertical-align: top;\n",
       "    }\n",
       "\n",
       "    .dataframe thead th {\n",
       "        text-align: right;\n",
       "    }\n",
       "</style>\n",
       "<table border=\"1\" class=\"dataframe\">\n",
       "  <thead>\n",
       "    <tr style=\"text-align: right;\">\n",
       "      <th></th>\n",
       "      <th>Eva</th>\n",
       "      <th>Katie</th>\n",
       "      <th>Sam</th>\n",
       "      <th>Wally</th>\n",
       "      <th>Bob</th>\n",
       "    </tr>\n",
       "  </thead>\n",
       "  <tbody>\n",
       "    <tr>\n",
       "      <th>Test1</th>\n",
       "      <td>100</td>\n",
       "      <td>100</td>\n",
       "      <td>94</td>\n",
       "      <td>87</td>\n",
       "      <td>83</td>\n",
       "    </tr>\n",
       "    <tr>\n",
       "      <th>Test2</th>\n",
       "      <td>100</td>\n",
       "      <td>81</td>\n",
       "      <td>87</td>\n",
       "      <td>96</td>\n",
       "      <td>64</td>\n",
       "    </tr>\n",
       "    <tr>\n",
       "      <th>Test3</th>\n",
       "      <td>90</td>\n",
       "      <td>82</td>\n",
       "      <td>90</td>\n",
       "      <td>70</td>\n",
       "      <td>85</td>\n",
       "    </tr>\n",
       "  </tbody>\n",
       "</table>\n",
       "</div>"
      ],
      "text/plain": [
       "       Eva  Katie  Sam  Wally  Bob\n",
       "Test1  100    100   94     87   83\n",
       "Test2  100     81   87     96   64\n",
       "Test3   90     82   90     70   85"
      ]
     },
     "execution_count": 93,
     "metadata": {},
     "output_type": "execute_result"
    }
   ],
   "source": [
    "grades.sort_values(by='Test1', axis=1, ascending=False, inplace=True)\n",
    "grades"
   ]
  },
  {
   "cell_type": "markdown",
   "id": "dfbedb2e-bf46-4ea4-93f7-018b29f714bc",
   "metadata": {},
   "source": [
    "### 7.14 Self Check"
   ]
  },
  {
   "cell_type": "code",
   "execution_count": 103,
   "id": "0b967f7b-c395-4d96-989d-a7a9ebbaad2a",
   "metadata": {},
   "outputs": [],
   "source": [
    "import pandas as pd\n",
    "\n",
    "temps = {'Mon': [68, 89], 'Tue': [71, 93], 'Wed': [66, 82], 'Thu': [75, 97], 'Fri': [62, 79]}\n",
    "\n",
    "temperatures = pd.DataFrame(temps, index=['Low', 'High'])"
   ]
  },
  {
   "cell_type": "code",
   "execution_count": 107,
   "id": "daff707c-856e-4161-a1f5-1338cf8e5f99",
   "metadata": {},
   "outputs": [
    {
     "data": {
      "text/html": [
       "<div>\n",
       "<style scoped>\n",
       "    .dataframe tbody tr th:only-of-type {\n",
       "        vertical-align: middle;\n",
       "    }\n",
       "\n",
       "    .dataframe tbody tr th {\n",
       "        vertical-align: top;\n",
       "    }\n",
       "\n",
       "    .dataframe thead th {\n",
       "        text-align: right;\n",
       "    }\n",
       "</style>\n",
       "<table border=\"1\" class=\"dataframe\">\n",
       "  <thead>\n",
       "    <tr style=\"text-align: right;\">\n",
       "      <th></th>\n",
       "      <th>Mon</th>\n",
       "      <th>Tue</th>\n",
       "      <th>Wed</th>\n",
       "    </tr>\n",
       "  </thead>\n",
       "  <tbody>\n",
       "    <tr>\n",
       "      <th>Low</th>\n",
       "      <td>68</td>\n",
       "      <td>71</td>\n",
       "      <td>66</td>\n",
       "    </tr>\n",
       "    <tr>\n",
       "      <th>High</th>\n",
       "      <td>89</td>\n",
       "      <td>93</td>\n",
       "      <td>82</td>\n",
       "    </tr>\n",
       "  </tbody>\n",
       "</table>\n",
       "</div>"
      ],
      "text/plain": [
       "      Mon  Tue  Wed\n",
       "Low    68   71   66\n",
       "High   89   93   82"
      ]
     },
     "execution_count": 107,
     "metadata": {},
     "output_type": "execute_result"
    }
   ],
   "source": [
    "temperatures.loc[:, 'Mon':'Wed']"
   ]
  },
  {
   "cell_type": "code",
   "execution_count": 108,
   "id": "3c64324d-40e2-4805-bf60-c2180050cdd3",
   "metadata": {},
   "outputs": [
    {
     "data": {
      "text/plain": [
       "Mon    68\n",
       "Tue    71\n",
       "Wed    66\n",
       "Thu    75\n",
       "Fri    62\n",
       "Name: Low, dtype: int64"
      ]
     },
     "execution_count": 108,
     "metadata": {},
     "output_type": "execute_result"
    }
   ],
   "source": [
    "temperatures.loc['Low']"
   ]
  },
  {
   "cell_type": "code",
   "execution_count": 112,
   "id": "44757b1d-dfae-452b-b963-987f3d2d3b31",
   "metadata": {},
   "outputs": [
    {
     "data": {
      "text/plain": [
       "Mon    78.5\n",
       "Tue    82.0\n",
       "Wed    74.0\n",
       "Thu    86.0\n",
       "Fri    70.5\n",
       "dtype: float64"
      ]
     },
     "execution_count": 112,
     "metadata": {},
     "output_type": "execute_result"
    }
   ],
   "source": [
    "pd.set_option('precision', 2)\n",
    "\n",
    "temperatures.mean()"
   ]
  },
  {
   "cell_type": "code",
   "execution_count": 113,
   "id": "60cfcf40-fb0e-4f26-9daf-b34569cbeb0e",
   "metadata": {},
   "outputs": [
    {
     "data": {
      "text/plain": [
       "88.0"
      ]
     },
     "execution_count": 113,
     "metadata": {},
     "output_type": "execute_result"
    }
   ],
   "source": [
    "temperatures.loc['High'].mean()"
   ]
  },
  {
   "cell_type": "code",
   "execution_count": 114,
   "id": "34266911-9fda-4dd2-806a-fb1341899cd1",
   "metadata": {},
   "outputs": [
    {
     "data": {
      "text/plain": [
       "68.4"
      ]
     },
     "execution_count": 114,
     "metadata": {},
     "output_type": "execute_result"
    }
   ],
   "source": [
    "temperatures.loc['Low'].mean()"
   ]
  },
  {
   "cell_type": "code",
   "execution_count": null,
   "id": "266c29b9-2aba-4671-8562-d27099111ab2",
   "metadata": {},
   "outputs": [],
   "source": []
  }
 ],
 "metadata": {
  "kernelspec": {
   "display_name": "Python 3 (ipykernel)",
   "language": "python",
   "name": "python3"
  },
  "language_info": {
   "codemirror_mode": {
    "name": "ipython",
    "version": 3
   },
   "file_extension": ".py",
   "mimetype": "text/x-python",
   "name": "python",
   "nbconvert_exporter": "python",
   "pygments_lexer": "ipython3",
   "version": "3.9.7"
  }
 },
 "nbformat": 4,
 "nbformat_minor": 5
}
