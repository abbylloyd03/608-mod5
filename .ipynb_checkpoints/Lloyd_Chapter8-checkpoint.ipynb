{
 "cells": [
  {
   "cell_type": "markdown",
   "id": "3200649f-791f-4891-b0cf-9cd9d2312916",
   "metadata": {
    "tags": []
   },
   "source": [
    "# Chapter 8 Strings: A Deeper Look"
   ]
  },
  {
   "cell_type": "markdown",
   "id": "db667b63-6d11-4735-bf22-9148e75e60b1",
   "metadata": {},
   "source": [
    "### 8.2: Formatting Strings"
   ]
  },
  {
   "cell_type": "markdown",
   "id": "cf5feaf6-1d4a-4d93-9ece-7dd6d2a1431e",
   "metadata": {},
   "source": [
    "**Presentation types**:\n",
    "- Python supports precision only for floating-point and Decimal values\n",
    "- Formatting is type dependent"
   ]
  },
  {
   "cell_type": "code",
   "execution_count": 1,
   "id": "70594f07-e5e1-4b18-bcf7-36a01aa5414f",
   "metadata": {},
   "outputs": [
    {
     "data": {
      "text/plain": [
       "'17.49'"
      ]
     },
     "execution_count": 1,
     "metadata": {},
     "output_type": "execute_result"
    }
   ],
   "source": [
    "f'{17.489:.2f}' # The f in the format specifier .2f is required. It indicates what type is being formatted."
   ]
  },
  {
   "cell_type": "markdown",
   "id": "92044093-6dad-4c30-ac63-8801730ae229",
   "metadata": {},
   "source": [
    "**Integers**\n",
    "- The d presentation type formats integer values as strings"
   ]
  },
  {
   "cell_type": "code",
   "execution_count": 2,
   "id": "0f24a9fc-d941-4668-927a-bbbede73db46",
   "metadata": {},
   "outputs": [
    {
     "data": {
      "text/plain": [
       "'10'"
      ]
     },
     "execution_count": 2,
     "metadata": {},
     "output_type": "execute_result"
    }
   ],
   "source": [
    "f'{10:d}'"
   ]
  },
  {
   "cell_type": "markdown",
   "id": "6a899050-2c93-4afc-86bb-99a27db114d9",
   "metadata": {},
   "source": [
    "**Characters**\n",
    "- The c presentation type formats an integer character code as the corresponding character"
   ]
  },
  {
   "cell_type": "code",
   "execution_count": 3,
   "id": "166408e2-b0d2-4442-a4bb-657f27ae710c",
   "metadata": {},
   "outputs": [
    {
     "data": {
      "text/plain": [
       "'A a'"
      ]
     },
     "execution_count": 3,
     "metadata": {},
     "output_type": "execute_result"
    }
   ],
   "source": [
    "f'{65:c} {97:c}'"
   ]
  },
  {
   "cell_type": "markdown",
   "id": "08e0dae0-14db-4d67-a992-952553c21552",
   "metadata": {},
   "source": [
    "**Strings**\n",
    "- The s presentation type is the default\n",
    "- If you specify s explicitly, the value to format must be a variable that references a string, an expression that produces a string, or a string literal\n",
    "- If you do not specify a presentation type, non-string values are converted to strings"
   ]
  },
  {
   "cell_type": "code",
   "execution_count": 4,
   "id": "92c73964-9546-4d86-b2b3-403d16464b6a",
   "metadata": {},
   "outputs": [
    {
     "data": {
      "text/plain": [
       "'hello 7'"
      ]
     },
     "execution_count": 4,
     "metadata": {},
     "output_type": "execute_result"
    }
   ],
   "source": [
    "f'{\"hello\":s} {7}'"
   ]
  },
  {
   "cell_type": "markdown",
   "id": "62fe205b-ad0e-49cc-a82c-19dd6a6a8f3c",
   "metadata": {},
   "source": [
    "**Floating-point and decimal values**\n",
    "- The f presentation type is used to format floating-point and decimal values\n",
    "- For extremely large/small values, Exponential (scientific) notation can be used to format the values more compactly (e)"
   ]
  },
  {
   "cell_type": "code",
   "execution_count": 6,
   "id": "2e0348f8-7f8b-48f0-a255-72200a63737d",
   "metadata": {},
   "outputs": [
    {
     "data": {
      "text/plain": [
       "'10000000000000000000000.000'"
      ]
     },
     "execution_count": 6,
     "metadata": {},
     "output_type": "execute_result"
    }
   ],
   "source": [
    "from decimal import Decimal\n",
    "\n",
    "f'{Decimal(\"10000000000000000000000.0\"):.3f}'"
   ]
  },
  {
   "cell_type": "code",
   "execution_count": 8,
   "id": "b346df2f-6235-4dfa-b8d3-8feb4a19b5bb",
   "metadata": {},
   "outputs": [
    {
     "data": {
      "text/plain": [
       "'1.000e+22'"
      ]
     },
     "execution_count": 8,
     "metadata": {},
     "output_type": "execute_result"
    }
   ],
   "source": [
    "f'{Decimal(\"10000000000000000000000.0\"):.3e}' # Equivalent of 1.000 x 10^22"
   ]
  },
  {
   "cell_type": "markdown",
   "id": "28aa10db-8216-4f10-aef5-abf7d30b13bc",
   "metadata": {},
   "source": [
    "### 8.2 Self Check"
   ]
  },
  {
   "cell_type": "code",
   "execution_count": 9,
   "id": "7ebc28f5-73eb-4dd9-969c-7e52da51c779",
   "metadata": {},
   "outputs": [
    {
     "data": {
      "text/plain": [
       "': - )'"
      ]
     },
     "execution_count": 9,
     "metadata": {},
     "output_type": "execute_result"
    }
   ],
   "source": [
    "f'{58:c} {45:c} {41:c}'"
   ]
  },
  {
   "cell_type": "markdown",
   "id": "6e808eac-0bd4-4f72-a8de-001d1120a2a5",
   "metadata": {},
   "source": [
    "### 8.2 Field Widths and Alignment\n",
    "- By default, Python right-aligns numbers and left-aligns other values such as strings"
   ]
  },
  {
   "cell_type": "code",
   "execution_count": 10,
   "id": "494d2533-893f-4b07-a433-b691f349fe08",
   "metadata": {},
   "outputs": [
    {
     "data": {
      "text/plain": [
       "'[        27'"
      ]
     },
     "execution_count": 10,
     "metadata": {},
     "output_type": "execute_result"
    }
   ],
   "source": [
    "f'[{27:10d}' # 10 indicates the field width, d formats an integer "
   ]
  },
  {
   "cell_type": "code",
   "execution_count": 13,
   "id": "37af98a1-8d0c-4658-9738-3276402b1803",
   "metadata": {},
   "outputs": [
    {
     "data": {
      "text/plain": [
       "'[  3.500000]'"
      ]
     },
     "execution_count": 13,
     "metadata": {},
     "output_type": "execute_result"
    }
   ],
   "source": [
    "f'[{3.5:10f}]' # Python formats float values with six digits of precision to the right of the decimal by default"
   ]
  },
  {
   "cell_type": "code",
   "execution_count": 12,
   "id": "6804485a-5fcd-4460-9522-b722f24df10f",
   "metadata": {},
   "outputs": [
    {
     "data": {
      "text/plain": [
       "'[hello     ]'"
      ]
     },
     "execution_count": 12,
     "metadata": {},
     "output_type": "execute_result"
    }
   ],
   "source": [
    "f'[{\"hello\":10}]'"
   ]
  },
  {
   "cell_type": "markdown",
   "id": "9202134b-56ef-4813-881d-ed11e13035f5",
   "metadata": {},
   "source": [
    "**Explicitly specifying left and right alignment in a field** "
   ]
  },
  {
   "cell_type": "code",
   "execution_count": 14,
   "id": "c969f0e2-9bd2-4754-b7bd-6f719115c680",
   "metadata": {},
   "outputs": [
    {
     "data": {
      "text/plain": [
       "'[27             ]'"
      ]
     },
     "execution_count": 14,
     "metadata": {},
     "output_type": "execute_result"
    }
   ],
   "source": [
    "f'[{27:<15d}]'"
   ]
  },
  {
   "cell_type": "code",
   "execution_count": 15,
   "id": "5737517d-85be-455c-89d6-1c5a8550cb5a",
   "metadata": {},
   "outputs": [
    {
     "data": {
      "text/plain": [
       "'[3.500000       ]'"
      ]
     },
     "execution_count": 15,
     "metadata": {},
     "output_type": "execute_result"
    }
   ],
   "source": [
    "f'[{3.5:<15f}]'"
   ]
  },
  {
   "cell_type": "code",
   "execution_count": 16,
   "id": "6a9ea8ba-b16c-4087-b73d-15c659fd8609",
   "metadata": {},
   "outputs": [
    {
     "data": {
      "text/plain": [
       "'[          hello]'"
      ]
     },
     "execution_count": 16,
     "metadata": {},
     "output_type": "execute_result"
    }
   ],
   "source": [
    "f'[{\"hello\":>15}]'"
   ]
  },
  {
   "cell_type": "markdown",
   "id": "ea9c7ff7-80b6-4b44-944b-8a76b7ee7f6f",
   "metadata": {},
   "source": [
    "**Centering a value in a field**\n",
    "- Centering attempts to spread the remaining unoccupied character positions equally to the left and right of the formatted value\n",
    "- If an odd number of characters remain, Python places the extra space to the right"
   ]
  },
  {
   "cell_type": "code",
   "execution_count": 18,
   "id": "f9b363b5-33f6-49d6-83ba-b9b5fdcc8153",
   "metadata": {},
   "outputs": [
    {
     "data": {
      "text/plain": [
       "'[  27   ]'"
      ]
     },
     "execution_count": 18,
     "metadata": {},
     "output_type": "execute_result"
    }
   ],
   "source": [
    "f'[{27:^7d}]'"
   ]
  },
  {
   "cell_type": "code",
   "execution_count": 20,
   "id": "655979cd-b1c7-49e9-9e1b-41b42f27eaa7",
   "metadata": {},
   "outputs": [
    {
     "data": {
      "text/plain": [
       "'[  3.5  ]'"
      ]
     },
     "execution_count": 20,
     "metadata": {},
     "output_type": "execute_result"
    }
   ],
   "source": [
    "f'[{3.5:^7.1f}]'"
   ]
  },
  {
   "cell_type": "code",
   "execution_count": 21,
   "id": "006c7979-9f07-4099-9c45-025855724bf5",
   "metadata": {},
   "outputs": [
    {
     "data": {
      "text/plain": [
       "'[ hello ]'"
      ]
     },
     "execution_count": 21,
     "metadata": {},
     "output_type": "execute_result"
    }
   ],
   "source": [
    "f'[{\"hello\":^7}]'"
   ]
  },
  {
   "cell_type": "markdown",
   "id": "00cbc374-310e-478d-855f-2021f9a35c24",
   "metadata": {},
   "source": [
    "### 8.2.2 Self Check"
   ]
  },
  {
   "cell_type": "code",
   "execution_count": 23,
   "id": "1b1cfe91-9785-4cde-9fd5-9f8e8e0f5f9f",
   "metadata": {},
   "outputs": [
    {
     "name": "stdout",
     "output_type": "stream",
     "text": [
      "[    Amanda]\n",
      "[  Amanda  ]\n",
      "[Amanda    ]\n"
     ]
    }
   ],
   "source": [
    "print(f'[{\"Amanda\":>10}]') # Right\n",
    "print(f'[{\"Amanda\":^10}]') # Center\n",
    "print(f'[{\"Amanda\":10}]') # Left"
   ]
  },
  {
   "cell_type": "markdown",
   "id": "990e2fc3-8af4-4f05-94cc-55ad81a7dd3b",
   "metadata": {},
   "source": [
    "### 8.2.3 Numeric Formatting"
   ]
  },
  {
   "cell_type": "markdown",
   "id": "69a7ef8a-313b-4252-b83a-e91e3f294d93",
   "metadata": {},
   "source": [
    "**Formatting positive numbers with signs**\n",
    "- The + before the field width specifies that a positive number should be preceded by a '+'\n",
    "- To fill the remaining characters of the field with 0s rather than spaces, place a 0 vefore the field width (and after the +)\n"
   ]
  },
  {
   "cell_type": "code",
   "execution_count": 25,
   "id": "2097bb4e-0042-43c4-aa1e-b86e0e958a63",
   "metadata": {},
   "outputs": [
    {
     "data": {
      "text/plain": [
       "'[       +27]'"
      ]
     },
     "execution_count": 25,
     "metadata": {},
     "output_type": "execute_result"
    }
   ],
   "source": [
    "f'[{27:+10d}]'"
   ]
  },
  {
   "cell_type": "code",
   "execution_count": 26,
   "id": "925b0379-ec29-4b79-b23c-06d3be3b514a",
   "metadata": {},
   "outputs": [
    {
     "data": {
      "text/plain": [
       "'[+000000027]'"
      ]
     },
     "execution_count": 26,
     "metadata": {},
     "output_type": "execute_result"
    }
   ],
   "source": [
    "f'[{27:+010d}]'"
   ]
  },
  {
   "cell_type": "markdown",
   "id": "47837fc6-85e5-4770-8765-b4888bb65e71",
   "metadata": {},
   "source": [
    "**Using a space where a + sign would appear in a positive value**\n",
    "- If the field width is specified, the space should appear before the field width\n",
    "- This is useful for aligning positive and negative values for display purposes"
   ]
  },
  {
   "cell_type": "code",
   "execution_count": 29,
   "id": "38b40c81-7b24-4167-867a-625d780e0404",
   "metadata": {},
   "outputs": [
    {
     "name": "stdout",
     "output_type": "stream",
     "text": [
      "27\n",
      " 27\n",
      "-27\n",
      "-27\n"
     ]
    }
   ],
   "source": [
    "print(f'{27:d}\\n{27: d}\\n{-27: d}\\n{-27:d}')"
   ]
  },
  {
   "cell_type": "markdown",
   "id": "3d35984b-7f01-49b0-8851-3e6c19ca89fe",
   "metadata": {},
   "source": [
    "**Grouping digits**\n",
    "- You can format numbers with thousands seaparaters by using a comma"
   ]
  },
  {
   "cell_type": "code",
   "execution_count": 33,
   "id": "f3972cc2-5dad-4a12-b60a-b732fe79b1f9",
   "metadata": {},
   "outputs": [
    {
     "data": {
      "text/plain": [
       "'12,345,678'"
      ]
     },
     "execution_count": 33,
     "metadata": {},
     "output_type": "execute_result"
    }
   ],
   "source": [
    "f'{12345678:,d}'"
   ]
  },
  {
   "cell_type": "code",
   "execution_count": 35,
   "id": "1b6c186b-a918-4e97-87a9-7e76aadd2869",
   "metadata": {},
   "outputs": [
    {
     "data": {
      "text/plain": [
       "'123,456.78'"
      ]
     },
     "execution_count": 35,
     "metadata": {},
     "output_type": "execute_result"
    }
   ],
   "source": [
    "f'{123456.78:,.2f}'"
   ]
  },
  {
   "cell_type": "markdown",
   "id": "0db0a16e-2574-4e3b-bdf0-831c1de224b9",
   "metadata": {},
   "source": [
    "### 8.2.3 Self Check"
   ]
  },
  {
   "cell_type": "code",
   "execution_count": 45,
   "id": "9fa7201a-b089-4803-ac87-ccf12cde066c",
   "metadata": {},
   "outputs": [
    {
     "name": "stdout",
     "output_type": "stream",
     "text": [
      "+10,240.47\n",
      " -3,210.95\n"
     ]
    }
   ],
   "source": [
    "print(f'{10240.473:+10,.2f}\\n{-3210.9521:+10,.2f}')"
   ]
  },
  {
   "cell_type": "markdown",
   "id": "667f7e01-d203-4690-8f5f-fee137a9c4de",
   "metadata": {},
   "source": [
    "### 8.2.4 String's format Method\n",
    "- Python's f-strings were added to the language in version 3.6\n",
    "- Prior, formatting was performed with the string method format\n",
    "- You pass to the method the values to be formatted"
   ]
  },
  {
   "cell_type": "code",
   "execution_count": 46,
   "id": "4805f9f5-70ef-41b4-8134-331cb61ab215",
   "metadata": {},
   "outputs": [
    {
     "data": {
      "text/plain": [
       "'17.49'"
      ]
     },
     "execution_count": 46,
     "metadata": {},
     "output_type": "execute_result"
    }
   ],
   "source": [
    "'{:.2f}'.format(17.489)"
   ]
  },
  {
   "cell_type": "markdown",
   "id": "4bcc17f8-e71d-45e5-8e89-ea0a0a8c1fd2",
   "metadata": {},
   "source": [
    "**Multiple placeholders**"
   ]
  },
  {
   "cell_type": "code",
   "execution_count": 47,
   "id": "cc90fe57-70b9-48c3-b86d-9e27660a129f",
   "metadata": {},
   "outputs": [
    {
     "data": {
      "text/plain": [
       "'Amanda Cyan'"
      ]
     },
     "execution_count": 47,
     "metadata": {},
     "output_type": "execute_result"
    }
   ],
   "source": [
    "'{} {}'.format('Amanda', 'Cyan')"
   ]
  },
  {
   "cell_type": "markdown",
   "id": "2d87c18d-a69a-496d-b5fb-34476350861b",
   "metadata": {},
   "source": [
    "**Referencing arguments by position numbers**"
   ]
  },
  {
   "cell_type": "code",
   "execution_count": 50,
   "id": "c43a1c0f-05f3-4b26-9bbf-4967a886f1ac",
   "metadata": {},
   "outputs": [
    {
     "data": {
      "text/plain": [
       "'Happy Happy Birthday'"
      ]
     },
     "execution_count": 50,
     "metadata": {},
     "output_type": "execute_result"
    }
   ],
   "source": [
    "'{0} {0} {1}'.format('Happy', 'Birthday')"
   ]
  },
  {
   "cell_type": "markdown",
   "id": "e4d17089-7d65-4b03-b091-3382ad714b3b",
   "metadata": {},
   "source": [
    "**Referencing keyword arguments**"
   ]
  },
  {
   "cell_type": "code",
   "execution_count": 52,
   "id": "bd393e9e-0de3-4c69-892b-8063a89b6a48",
   "metadata": {},
   "outputs": [
    {
     "data": {
      "text/plain": [
       "'Amanda Gray'"
      ]
     },
     "execution_count": 52,
     "metadata": {},
     "output_type": "execute_result"
    }
   ],
   "source": [
    "'{first} {last}'.format(first='Amanda', last='Gray')"
   ]
  },
  {
   "cell_type": "code",
   "execution_count": 53,
   "id": "acfafe6e-c067-4379-8c36-26717b415536",
   "metadata": {},
   "outputs": [
    {
     "data": {
      "text/plain": [
       "'Gray Amanda'"
      ]
     },
     "execution_count": 53,
     "metadata": {},
     "output_type": "execute_result"
    }
   ],
   "source": [
    "'{last} {first}'.format(first='Amanda', last='Gray')"
   ]
  },
  {
   "cell_type": "markdown",
   "id": "d9f49e19-9b10-40af-aaf9-4377b31edce5",
   "metadata": {},
   "source": [
    "### 8.3 Concatenating and Repeating Strings\n",
    "- Remember, strings are immutable"
   ]
  },
  {
   "cell_type": "code",
   "execution_count": 55,
   "id": "ae018266-1f9e-4f7f-a9dc-19941d3ea6c4",
   "metadata": {},
   "outputs": [
    {
     "name": "stdout",
     "output_type": "stream",
     "text": [
      "happy birthday\n"
     ]
    }
   ],
   "source": [
    "s1 = 'happy'\n",
    "s2 = 'birthday'\n",
    "\n",
    "s1 += ' ' + s2\n",
    "\n",
    "print(s1)"
   ]
  },
  {
   "cell_type": "code",
   "execution_count": 56,
   "id": "a436df95-b409-43f6-8200-c9557babe943",
   "metadata": {},
   "outputs": [
    {
     "name": "stdout",
     "output_type": "stream",
     "text": [
      ">>>>>\n"
     ]
    }
   ],
   "source": [
    "symbol = '>'\n",
    "\n",
    "symbol *= 5\n",
    "\n",
    "print(symbol)"
   ]
  },
  {
   "cell_type": "markdown",
   "id": "cba251ae-590e-48ed-aac7-6735ed636712",
   "metadata": {},
   "source": [
    "### 8.3 Self Check"
   ]
  },
  {
   "cell_type": "code",
   "execution_count": 59,
   "id": "1d008ddf-f2a4-4168-9261-2663855002fa",
   "metadata": {},
   "outputs": [
    {
     "name": "stdout",
     "output_type": "stream",
     "text": [
      "**********\n",
      "Abby Lloyd\n",
      "**********\n"
     ]
    }
   ],
   "source": [
    "name = 'Abby'\n",
    "symbol = \"*\"\n",
    "\n",
    "name += ' ' + 'Lloyd'\n",
    "\n",
    "symbol *= len(name)\n",
    "\n",
    "print(f'{symbol}\\n{name}\\n{symbol}')"
   ]
  },
  {
   "cell_type": "markdown",
   "id": "21f155dd-911c-4359-81d3-b0044ab9bbb4",
   "metadata": {
    "tags": []
   },
   "source": [
    "### 8.4 Stripping Whitespace from Strings\n",
    "- Each method that appears to modify a string returns a new one"
   ]
  },
  {
   "cell_type": "markdown",
   "id": "8582c9e1-8774-424b-b66d-781a23d237bb",
   "metadata": {},
   "source": [
    "**Removing leading and trailing whitespace**"
   ]
  },
  {
   "cell_type": "code",
   "execution_count": 64,
   "id": "5a78dd70-773b-4172-9783-5bd9b5f3310b",
   "metadata": {},
   "outputs": [
    {
     "data": {
      "text/plain": [
       "'\\t \\n This is a test string. \\t\\t \\n'"
      ]
     },
     "execution_count": 64,
     "metadata": {},
     "output_type": "execute_result"
    }
   ],
   "source": [
    "sentence = '\\t \\n This is a test string. \\t\\t \\n'\n",
    "sentence"
   ]
  },
  {
   "cell_type": "code",
   "execution_count": 61,
   "id": "3bc0f28d-6c27-4ab7-82d7-73072d653c3f",
   "metadata": {},
   "outputs": [
    {
     "data": {
      "text/plain": [
       "'This is a test string.'"
      ]
     },
     "execution_count": 61,
     "metadata": {},
     "output_type": "execute_result"
    }
   ],
   "source": [
    "sentence.strip()"
   ]
  },
  {
   "cell_type": "markdown",
   "id": "0364e2ad-9c4c-46bc-a9ec-0ce4ec609e45",
   "metadata": {},
   "source": [
    "**Removing leading whitespace**"
   ]
  },
  {
   "cell_type": "code",
   "execution_count": 62,
   "id": "b4796ace-29f8-479e-aee1-9eb7a7e9d793",
   "metadata": {},
   "outputs": [
    {
     "data": {
      "text/plain": [
       "'This is a test string. \\t\\t \\n'"
      ]
     },
     "execution_count": 62,
     "metadata": {},
     "output_type": "execute_result"
    }
   ],
   "source": [
    "sentence.lstrip()"
   ]
  },
  {
   "cell_type": "markdown",
   "id": "b3287ea6-d81b-449b-8eaa-6d9206b79afb",
   "metadata": {},
   "source": [
    "**Removing trailing whitespace**"
   ]
  },
  {
   "cell_type": "code",
   "execution_count": 65,
   "id": "fbbb30ea-500b-495d-a754-c12b276ea11e",
   "metadata": {},
   "outputs": [
    {
     "data": {
      "text/plain": [
       "'\\t \\n This is a test string.'"
      ]
     },
     "execution_count": 65,
     "metadata": {},
     "output_type": "execute_result"
    }
   ],
   "source": [
    "sentence.rstrip()"
   ]
  },
  {
   "cell_type": "markdown",
   "id": "55d0ac1c-3f0b-4e13-a7b1-1b3aa7a4b06d",
   "metadata": {},
   "source": [
    "### 8.4 Self Check"
   ]
  },
  {
   "cell_type": "code",
   "execution_count": 66,
   "id": "a5ee1dab-a6dd-4cb4-b514-46cb9ac78d68",
   "metadata": {},
   "outputs": [
    {
     "data": {
      "text/plain": [
       "'Margo Magenta'"
      ]
     },
     "execution_count": 66,
     "metadata": {},
     "output_type": "execute_result"
    }
   ],
   "source": [
    "name = '              Margo Magenta       '\n",
    "\n",
    "name.strip()"
   ]
  },
  {
   "cell_type": "code",
   "execution_count": 67,
   "id": "8cc196e2-2c3b-4916-9689-0815ae3a3a85",
   "metadata": {},
   "outputs": [
    {
     "data": {
      "text/plain": [
       "'Margo Magenta       '"
      ]
     },
     "execution_count": 67,
     "metadata": {},
     "output_type": "execute_result"
    }
   ],
   "source": [
    "name.lstrip()"
   ]
  },
  {
   "cell_type": "code",
   "execution_count": 68,
   "id": "23391b85-49ad-4486-8879-2eaa32fcc0cc",
   "metadata": {},
   "outputs": [
    {
     "data": {
      "text/plain": [
       "'              Margo Magenta'"
      ]
     },
     "execution_count": 68,
     "metadata": {},
     "output_type": "execute_result"
    }
   ],
   "source": [
    "name.rstrip()"
   ]
  },
  {
   "cell_type": "markdown",
   "id": "b16951fd-af59-4884-8945-eef9568edce2",
   "metadata": {},
   "source": [
    "### 8.5 Changing Character Case\n",
    "- In addition to the string methods lower and upper, you can use capitalize and title"
   ]
  },
  {
   "cell_type": "markdown",
   "id": "9de1e670-7d9b-480c-a88b-04724e7d28c9",
   "metadata": {},
   "source": [
    "**Capitalizing only a string's first character**"
   ]
  },
  {
   "cell_type": "code",
   "execution_count": 70,
   "id": "c5c8d446-2b7b-479b-925e-3fc92daef745",
   "metadata": {},
   "outputs": [
    {
     "data": {
      "text/plain": [
       "'Happy birthday'"
      ]
     },
     "execution_count": 70,
     "metadata": {},
     "output_type": "execute_result"
    }
   ],
   "source": [
    "'happy birthday'.capitalize()"
   ]
  },
  {
   "cell_type": "markdown",
   "id": "628296d5-3a20-44d8-9d8f-ed8b404aad5b",
   "metadata": {},
   "source": [
    "**Capitalizing the first character of every word in a string**"
   ]
  },
  {
   "cell_type": "code",
   "execution_count": 71,
   "id": "cece8863-1901-4b20-8126-9cc198b25033",
   "metadata": {},
   "outputs": [
    {
     "data": {
      "text/plain": [
       "'Strings: A Deeper Look'"
      ]
     },
     "execution_count": 71,
     "metadata": {},
     "output_type": "execute_result"
    }
   ],
   "source": [
    "'strings: a deeper look'.title()"
   ]
  },
  {
   "cell_type": "markdown",
   "id": "58cd9705-da7c-43ee-9518-69c3d8928c01",
   "metadata": {},
   "source": [
    "### 8.5 Self Check"
   ]
  },
  {
   "cell_type": "code",
   "execution_count": 72,
   "id": "17604721-5a3c-472b-bf00-660bb53600e1",
   "metadata": {},
   "outputs": [
    {
     "data": {
      "text/plain": [
       "'Happy new year'"
      ]
     },
     "execution_count": 72,
     "metadata": {},
     "output_type": "execute_result"
    }
   ],
   "source": [
    "slogan = 'happy new year'\n",
    "\n",
    "slogan.capitalize()"
   ]
  },
  {
   "cell_type": "code",
   "execution_count": 73,
   "id": "522e5022-aa73-4d04-973c-c105134951d9",
   "metadata": {},
   "outputs": [
    {
     "data": {
      "text/plain": [
       "'Happy New Year'"
      ]
     },
     "execution_count": 73,
     "metadata": {},
     "output_type": "execute_result"
    }
   ],
   "source": [
    "slogan.title()"
   ]
  },
  {
   "cell_type": "markdown",
   "id": "cf398b9c-d5ba-4155-913b-9d17feaabe76",
   "metadata": {},
   "source": [
    "### 8.6 Comparison Operators for Strings\n",
    "- Uppercase letters compare as less than lowercase letters because uppercase letters have lower integer values"
   ]
  },
  {
   "cell_type": "code",
   "execution_count": 74,
   "id": "4e49b8d6-4cb2-4f78-9b45-a6b92d321f6c",
   "metadata": {},
   "outputs": [
    {
     "name": "stdout",
     "output_type": "stream",
     "text": [
      "A: 65; a: 97\n"
     ]
    }
   ],
   "source": [
    "print(f'A: {ord(\"A\")}; a: {ord(\"a\")}') # check character codes with ord"
   ]
  },
  {
   "cell_type": "code",
   "execution_count": 75,
   "id": "1b39f209-6ee6-4e82-8a31-7e2890e51369",
   "metadata": {},
   "outputs": [
    {
     "data": {
      "text/plain": [
       "False"
      ]
     },
     "execution_count": 75,
     "metadata": {},
     "output_type": "execute_result"
    }
   ],
   "source": [
    "'Orange' == 'orange'"
   ]
  },
  {
   "cell_type": "code",
   "execution_count": 76,
   "id": "2d864ad7-e2cb-46f9-9d5a-6d99bb66cdff",
   "metadata": {},
   "outputs": [
    {
     "data": {
      "text/plain": [
       "True"
      ]
     },
     "execution_count": 76,
     "metadata": {},
     "output_type": "execute_result"
    }
   ],
   "source": [
    "'Orange' != 'orange'"
   ]
  },
  {
   "cell_type": "code",
   "execution_count": 77,
   "id": "bc2484ab-ea8f-410d-8cfa-a72631d885b8",
   "metadata": {},
   "outputs": [
    {
     "data": {
      "text/plain": [
       "True"
      ]
     },
     "execution_count": 77,
     "metadata": {},
     "output_type": "execute_result"
    }
   ],
   "source": [
    "'Orange' < 'orange'"
   ]
  },
  {
   "cell_type": "code",
   "execution_count": 78,
   "id": "c7344838-fcc5-4bd9-8bf5-8f17d8fa3680",
   "metadata": {},
   "outputs": [
    {
     "data": {
      "text/plain": [
       "True"
      ]
     },
     "execution_count": 78,
     "metadata": {},
     "output_type": "execute_result"
    }
   ],
   "source": [
    "'Orange' <= 'orange'"
   ]
  },
  {
   "cell_type": "code",
   "execution_count": 79,
   "id": "02f5352c-3cea-4dc0-af98-427e4fbdda45",
   "metadata": {},
   "outputs": [
    {
     "data": {
      "text/plain": [
       "False"
      ]
     },
     "execution_count": 79,
     "metadata": {},
     "output_type": "execute_result"
    }
   ],
   "source": [
    "'Orange' > 'orange'"
   ]
  },
  {
   "cell_type": "code",
   "execution_count": 80,
   "id": "7c799ee1-59cf-4067-a7f2-5d0dca5658e8",
   "metadata": {},
   "outputs": [
    {
     "data": {
      "text/plain": [
       "False"
      ]
     },
     "execution_count": 80,
     "metadata": {},
     "output_type": "execute_result"
    }
   ],
   "source": [
    "'Orange' >= 'orange'"
   ]
  },
  {
   "cell_type": "markdown",
   "id": "73777855-547d-4fee-bdeb-b51f0b6911cf",
   "metadata": {},
   "source": [
    "### 8.7 Searching for Substrings"
   ]
  },
  {
   "cell_type": "markdown",
   "id": "65c31129-d115-4333-914b-65141f9d64e4",
   "metadata": {},
   "source": [
    "**Counting occurences**\n",
    "- If you specify the second argument (start_index) and third argument (end_index), count searches only the slice string up to, but not including the end_index"
   ]
  },
  {
   "cell_type": "code",
   "execution_count": 81,
   "id": "9a4d2f97-630b-4d05-9ad5-7dd6ce56bc1b",
   "metadata": {},
   "outputs": [
    {
     "data": {
      "text/plain": [
       "2"
      ]
     },
     "execution_count": 81,
     "metadata": {},
     "output_type": "execute_result"
    }
   ],
   "source": [
    "sentence = 'to be or not to be that is the question'\n",
    "\n",
    "sentence.count('to')"
   ]
  },
  {
   "cell_type": "code",
   "execution_count": 82,
   "id": "b26337ae-dfe1-4afd-baf9-cbaebae0b4ff",
   "metadata": {},
   "outputs": [
    {
     "data": {
      "text/plain": [
       "1"
      ]
     },
     "execution_count": 82,
     "metadata": {},
     "output_type": "execute_result"
    }
   ],
   "source": [
    "sentence.count('to', 12)"
   ]
  },
  {
   "cell_type": "code",
   "execution_count": 83,
   "id": "45bc3bcb-2407-4c96-ac20-4256f51f8d1d",
   "metadata": {},
   "outputs": [
    {
     "data": {
      "text/plain": [
       "1"
      ]
     },
     "execution_count": 83,
     "metadata": {},
     "output_type": "execute_result"
    }
   ],
   "source": [
    "sentence.count('that', 12, 25)"
   ]
  },
  {
   "cell_type": "markdown",
   "id": "56842312-be9b-4e9b-994e-01616d807117",
   "metadata": {},
   "source": [
    "**Locating a substring in a string**\n",
    "- Index searches for a substring and returns the first index at which the substring is found; otherwise, a ValueError occurs\n",
    "- rindex searches from the end of the string and returns the last index\n",
    "- find and rfind perform the same tasks as index and rindex but, if the substring is not found, return -1"
   ]
  },
  {
   "cell_type": "code",
   "execution_count": 84,
   "id": "d88a5229-e68e-4bc1-b34e-358af80ab5e5",
   "metadata": {},
   "outputs": [
    {
     "data": {
      "text/plain": [
       "3"
      ]
     },
     "execution_count": 84,
     "metadata": {},
     "output_type": "execute_result"
    }
   ],
   "source": [
    "sentence.index('be')"
   ]
  },
  {
   "cell_type": "code",
   "execution_count": 85,
   "id": "9cf0a511-8bac-48e8-ac64-4d3ae99ec382",
   "metadata": {},
   "outputs": [
    {
     "data": {
      "text/plain": [
       "16"
      ]
     },
     "execution_count": 85,
     "metadata": {},
     "output_type": "execute_result"
    }
   ],
   "source": [
    "sentence.rindex('be')"
   ]
  },
  {
   "cell_type": "code",
   "execution_count": 86,
   "id": "74628328-289c-4003-95dd-e77e0a31925f",
   "metadata": {},
   "outputs": [
    {
     "data": {
      "text/plain": [
       "3"
      ]
     },
     "execution_count": 86,
     "metadata": {},
     "output_type": "execute_result"
    }
   ],
   "source": [
    "sentence.find('be')"
   ]
  },
  {
   "cell_type": "code",
   "execution_count": 87,
   "id": "aa5683b6-b670-4ccd-89a0-403cbc47d845",
   "metadata": {},
   "outputs": [
    {
     "data": {
      "text/plain": [
       "16"
      ]
     },
     "execution_count": 87,
     "metadata": {},
     "output_type": "execute_result"
    }
   ],
   "source": [
    "sentence.rfind('be')"
   ]
  },
  {
   "cell_type": "markdown",
   "id": "e0a744b5-06db-4cce-ada3-7eaab27278e5",
   "metadata": {},
   "source": [
    "**Determining wether a string contains a substring**"
   ]
  },
  {
   "cell_type": "code",
   "execution_count": 88,
   "id": "e1614d58-52d4-43d2-addf-3a109abc9c3e",
   "metadata": {},
   "outputs": [
    {
     "data": {
      "text/plain": [
       "True"
      ]
     },
     "execution_count": 88,
     "metadata": {},
     "output_type": "execute_result"
    }
   ],
   "source": [
    "'that' in sentence"
   ]
  },
  {
   "cell_type": "code",
   "execution_count": 89,
   "id": "bfa7cead-ad46-4079-8d96-2caac76521ac",
   "metadata": {},
   "outputs": [
    {
     "data": {
      "text/plain": [
       "False"
      ]
     },
     "execution_count": 89,
     "metadata": {},
     "output_type": "execute_result"
    }
   ],
   "source": [
    "'THAT' in sentence"
   ]
  },
  {
   "cell_type": "code",
   "execution_count": 90,
   "id": "e113d7a8-cefd-4ca2-b562-960134dcafe5",
   "metadata": {},
   "outputs": [
    {
     "data": {
      "text/plain": [
       "True"
      ]
     },
     "execution_count": 90,
     "metadata": {},
     "output_type": "execute_result"
    }
   ],
   "source": [
    "'THAT' not in sentence"
   ]
  },
  {
   "cell_type": "markdown",
   "id": "d543943e-411a-46c3-98f4-e790198187e2",
   "metadata": {},
   "source": [
    "**Locating a substring at the beginning or end of a string**"
   ]
  },
  {
   "cell_type": "code",
   "execution_count": 91,
   "id": "71b5a206-5e61-41f5-92e6-ca73f1850c8b",
   "metadata": {},
   "outputs": [
    {
     "data": {
      "text/plain": [
       "True"
      ]
     },
     "execution_count": 91,
     "metadata": {},
     "output_type": "execute_result"
    }
   ],
   "source": [
    "sentence.startswith('to')"
   ]
  },
  {
   "cell_type": "code",
   "execution_count": 92,
   "id": "9baf600f-5b06-41d6-a902-66b80adc5a2b",
   "metadata": {},
   "outputs": [
    {
     "data": {
      "text/plain": [
       "False"
      ]
     },
     "execution_count": 92,
     "metadata": {},
     "output_type": "execute_result"
    }
   ],
   "source": [
    "sentence.startswith('be')"
   ]
  },
  {
   "cell_type": "code",
   "execution_count": 93,
   "id": "fab01589-eb2c-4be1-b861-14ab6b92d0f8",
   "metadata": {},
   "outputs": [
    {
     "data": {
      "text/plain": [
       "True"
      ]
     },
     "execution_count": 93,
     "metadata": {},
     "output_type": "execute_result"
    }
   ],
   "source": [
    "sentence.endswith('question')"
   ]
  },
  {
   "cell_type": "code",
   "execution_count": 94,
   "id": "45a6709f-0a98-4ba3-ab18-f6e3caaf2c22",
   "metadata": {},
   "outputs": [
    {
     "data": {
      "text/plain": [
       "False"
      ]
     },
     "execution_count": 94,
     "metadata": {},
     "output_type": "execute_result"
    }
   ],
   "source": [
    "sentence.endswith('quest')"
   ]
  },
  {
   "cell_type": "markdown",
   "id": "7036d8fd-7e02-436d-af62-2ccb7e945fdd",
   "metadata": {
    "tags": []
   },
   "source": [
    "### 8.7 Self Check"
   ]
  },
  {
   "cell_type": "code",
   "execution_count": 1,
   "id": "f6fa6738-2b52-4e2e-ae9f-0a4d9a73b51c",
   "metadata": {},
   "outputs": [
    {
     "name": "stdout",
     "output_type": "stream",
     "text": [
      "to\n",
      "to\n",
      "that\n",
      "the\n"
     ]
    }
   ],
   "source": [
    "sentence = 'to be or not to be that is the question'\n",
    "\n",
    "for word in sentence.split():\n",
    "    if word.startswith('t'):\n",
    "        print(word)"
   ]
  },
  {
   "cell_type": "markdown",
   "id": "c4a0a9d6-6990-457e-a41c-0244611c5cca",
   "metadata": {},
   "source": [
    "### 8.8 Replacing Substrings\n",
    "- The method replace takes two substrings\n",
    "- 1. a substring to search for\n",
    "- 2. a substring to replace the first substring with"
   ]
  },
  {
   "cell_type": "code",
   "execution_count": 2,
   "id": "25b5d93d-ead5-446d-8616-c250714c4ca2",
   "metadata": {},
   "outputs": [
    {
     "name": "stdout",
     "output_type": "stream",
     "text": [
      "1\t2\t3\t4\t5\n"
     ]
    }
   ],
   "source": [
    "values = '1\\t2\\t3\\t4\\t5'\n",
    "print(values)"
   ]
  },
  {
   "cell_type": "code",
   "execution_count": 4,
   "id": "6e570446-e377-46cc-9eb2-137529f9ec07",
   "metadata": {},
   "outputs": [
    {
     "data": {
      "text/plain": [
       "'1, 2, 3, 4, 5'"
      ]
     },
     "execution_count": 4,
     "metadata": {},
     "output_type": "execute_result"
    }
   ],
   "source": [
    "values.replace('\\t', ', ')"
   ]
  },
  {
   "cell_type": "markdown",
   "id": "50c46d3f-bff5-4f6d-b375-d2ba6877c4b4",
   "metadata": {},
   "source": [
    "### 8.8 Self Check"
   ]
  },
  {
   "cell_type": "code",
   "execution_count": 5,
   "id": "0ac70b9d-f881-46bc-b8db-2e5a5bfb75ba",
   "metadata": {},
   "outputs": [
    {
     "data": {
      "text/plain": [
       "'1 --> 2 --> 3 --> 4 --> 5'"
      ]
     },
     "execution_count": 5,
     "metadata": {},
     "output_type": "execute_result"
    }
   ],
   "source": [
    "values.replace('\\t', ' --> ')"
   ]
  },
  {
   "cell_type": "markdown",
   "id": "87d2ac45-ac22-4e06-8482-12aa4d34d273",
   "metadata": {},
   "source": [
    "### 8.9 Splitting and Joining Strings"
   ]
  },
  {
   "cell_type": "markdown",
   "id": "e8fc56a6-f58c-423d-bbbe-a19f8f5ae3a8",
   "metadata": {},
   "source": [
    "**Splitting strings**"
   ]
  },
  {
   "cell_type": "code",
   "execution_count": 7,
   "id": "de786e8d-573d-4ae5-8974-d50b1ede4826",
   "metadata": {},
   "outputs": [
    {
     "data": {
      "text/plain": [
       "['A', 'B', 'C', 'D']"
      ]
     },
     "execution_count": 7,
     "metadata": {},
     "output_type": "execute_result"
    }
   ],
   "source": [
    "letters = 'A, B, C, D'\n",
    "\n",
    "letters.split(', ') # The delimeter is the ', '"
   ]
  },
  {
   "cell_type": "code",
   "execution_count": 9,
   "id": "6c1412bf-1bd4-4098-9df5-425b4ffb6b7c",
   "metadata": {},
   "outputs": [
    {
     "data": {
      "text/plain": [
       "['A', 'B', 'C, D']"
      ]
     },
     "execution_count": 9,
     "metadata": {},
     "output_type": "execute_result"
    }
   ],
   "source": [
    "letters.split(', ', 2) # An integer as the second argument specifies the max number of splits, it works from left to right"
   ]
  },
  {
   "cell_type": "code",
   "execution_count": 12,
   "id": "f34aee25-0894-44c4-a7d7-abbe813aaf34",
   "metadata": {},
   "outputs": [
    {
     "data": {
      "text/plain": [
       "['A, B', 'C', 'D']"
      ]
     },
     "execution_count": 12,
     "metadata": {},
     "output_type": "execute_result"
    }
   ],
   "source": [
    "letters.rsplit(', ', 2) # Works from right to left"
   ]
  },
  {
   "cell_type": "markdown",
   "id": "eb528625-fb60-4dc4-9c07-bee51b7da89c",
   "metadata": {},
   "source": [
    "**Joining strings**\n",
    "- String method join concatenates the strings in its argument, which must be an iterable containing only string values\n",
    "- The separator between the concatenated items is the string on which you call join"
   ]
  },
  {
   "cell_type": "code",
   "execution_count": 14,
   "id": "213f0e68-d03a-46f9-af6e-cc590214350f",
   "metadata": {},
   "outputs": [
    {
     "data": {
      "text/plain": [
       "'A, B, C, D'"
      ]
     },
     "execution_count": 14,
     "metadata": {},
     "output_type": "execute_result"
    }
   ],
   "source": [
    "letters_list = ['A', 'B', 'C', 'D']\n",
    "\n",
    "', '.join(letters_list)"
   ]
  },
  {
   "cell_type": "code",
   "execution_count": 15,
   "id": "e33590a6-fdd9-45a8-99ac-7f155990115a",
   "metadata": {},
   "outputs": [
    {
     "data": {
      "text/plain": [
       "'0, 1, 2, 3, 4, 5, 6, 7, 8, 9'"
      ]
     },
     "execution_count": 15,
     "metadata": {},
     "output_type": "execute_result"
    }
   ],
   "source": [
    "', '.join([str(i) for i in range(10)])"
   ]
  },
  {
   "cell_type": "markdown",
   "id": "822aa2bb-3ebb-47a8-864d-0c76e7f9f02c",
   "metadata": {},
   "source": [
    "**String methods partition and rpartition**\n",
    "- String method partition splits a string into a tuple of strings based on the method's separator argument\n",
    "- The three strings are 1) the part of the original string before the separator, 2) the separator itself, and 3) the part of the string after the separator"
   ]
  },
  {
   "cell_type": "code",
   "execution_count": 16,
   "id": "db4e67cf-d0cd-4752-8047-067e5b266fdb",
   "metadata": {},
   "outputs": [
    {
     "data": {
      "text/plain": [
       "('Amanda', ': ', '89, 97, 92')"
      ]
     },
     "execution_count": 16,
     "metadata": {},
     "output_type": "execute_result"
    }
   ],
   "source": [
    "'Amanda: 89, 97, 92'.partition(': ')"
   ]
  },
  {
   "cell_type": "markdown",
   "id": "2f7f497e-efe2-41ad-9fe7-8b9481b35a8b",
   "metadata": {},
   "source": [
    "To search for the separator from the end use the string method rpartition."
   ]
  },
  {
   "cell_type": "code",
   "execution_count": 18,
   "id": "3fdb64e7-d5ea-4467-bc97-f7c27f8fe281",
   "metadata": {},
   "outputs": [
    {
     "name": "stdout",
     "output_type": "stream",
     "text": [
      "man-accused-blasphemy-stoned-death-mob-pakistan-82858123\n",
      "https://abcnews.go.com/International/wireStory\n"
     ]
    }
   ],
   "source": [
    "url = 'https://abcnews.go.com/International/wireStory/man-accused-blasphemy-stoned-death-mob-pakistan-82858123'\n",
    "\n",
    "rest_of_url, separator, document = url.rpartition('/')\n",
    "\n",
    "print(document)\n",
    "print(rest_of_url)"
   ]
  },
  {
   "cell_type": "markdown",
   "id": "c25cc8c3-4e7d-43b1-8048-eacce8533f17",
   "metadata": {},
   "source": [
    "**String method splitlines**"
   ]
  },
  {
   "cell_type": "code",
   "execution_count": 19,
   "id": "9b5eed7f-e33c-4007-bd0e-562b45340079",
   "metadata": {},
   "outputs": [
    {
     "data": {
      "text/plain": [
       "'This is line 1\\nThis is line2\\nThis is line3'"
      ]
     },
     "execution_count": 19,
     "metadata": {},
     "output_type": "execute_result"
    }
   ],
   "source": [
    "lines = \"\"\"This is line 1\n",
    "This is line2\n",
    "This is line3\"\"\"\n",
    "\n",
    "lines"
   ]
  },
  {
   "cell_type": "code",
   "execution_count": 21,
   "id": "0a448713-cf6c-46be-a198-c4da8d2d6589",
   "metadata": {},
   "outputs": [
    {
     "data": {
      "text/plain": [
       "['This is line 1', 'This is line2', 'This is line3']"
      ]
     },
     "execution_count": 21,
     "metadata": {},
     "output_type": "execute_result"
    }
   ],
   "source": [
    "lines.splitlines()"
   ]
  },
  {
   "cell_type": "code",
   "execution_count": 24,
   "id": "07c7e83e-2f80-4632-9086-5bfee401d258",
   "metadata": {},
   "outputs": [
    {
     "data": {
      "text/plain": [
       "['This is line 1\\n', 'This is line2\\n', 'This is line3']"
      ]
     },
     "execution_count": 24,
     "metadata": {},
     "output_type": "execute_result"
    }
   ],
   "source": [
    "lines.splitlines(True) # Passing True to splitlines keeps the new lines at the end of each string"
   ]
  },
  {
   "cell_type": "markdown",
   "id": "40a19030-8d32-46f7-8fee-86e257e0365d",
   "metadata": {},
   "source": [
    "### 8.9 Self Check"
   ]
  },
  {
   "cell_type": "code",
   "execution_count": 27,
   "id": "1a9cf7d4-8f58-45c7-8e16-37df4cce616d",
   "metadata": {},
   "outputs": [
    {
     "data": {
      "text/plain": [
       "'White, Pamela'"
      ]
     },
     "execution_count": 27,
     "metadata": {},
     "output_type": "execute_result"
    }
   ],
   "source": [
    "name = 'Pamela White'\n",
    "\n",
    "first_name, last_name = name.split()\n",
    "\n",
    "name_list = [last_name, first_name]\n",
    "\n",
    "', '.join(name_list)"
   ]
  },
  {
   "cell_type": "code",
   "execution_count": 28,
   "id": "439d3580-70f5-4f57-ba76-3e159517b6de",
   "metadata": {},
   "outputs": [
    {
     "data": {
      "text/plain": [
       "'White, Pamela'"
      ]
     },
     "execution_count": 28,
     "metadata": {},
     "output_type": "execute_result"
    }
   ],
   "source": [
    "', '.join(reversed('Pamela White'.split()))"
   ]
  },
  {
   "cell_type": "code",
   "execution_count": 29,
   "id": "aa26b6bf-264e-44df-8135-3f42b6ff461f",
   "metadata": {},
   "outputs": [
    {
     "data": {
      "text/plain": [
       "'www.dietel.com'"
      ]
     },
     "execution_count": 29,
     "metadata": {},
     "output_type": "execute_result"
    }
   ],
   "source": [
    "url = 'https://www.dietel.com/books/PyCDS/table_of_contents.html'\n",
    "\n",
    "rest_of_url, separator, import_url = url.partition('//')\n",
    "\n",
    "import2_url, separator, rest_of_url = import_url.partition('/')\n",
    "\n",
    "import2_url"
   ]
  },
  {
   "cell_type": "code",
   "execution_count": 33,
   "id": "0b4d8175-02d3-41c8-8887-9875f26cd379",
   "metadata": {},
   "outputs": [
    {
     "data": {
      "text/plain": [
       "'books/PyCDS'"
      ]
     },
     "execution_count": 33,
     "metadata": {},
     "output_type": "execute_result"
    }
   ],
   "source": [
    "import_url, separator, rest_of_url = url.rpartition('/')\n",
    "\n",
    "rest_of_url, separator, import2_url = import_url.rpartition('.com/')\n",
    "\n",
    "import2_url"
   ]
  },
  {
   "cell_type": "markdown",
   "id": "e871ea91-dc16-4dc4-a57a-67db3e5b839f",
   "metadata": {},
   "source": [
    "### 8.10 Characters and Character-Testing Methods\n",
    "- isdigit() returns True if the string on which you call the method contains only the digit characters\n",
    "- isalnum() returns True if the string on which you call the method is alphanumeric (contains only digits and letters)\n",
    "- isalpha() returns True if the string contains only alphabetic characters\n",
    "- isdecimal()\n",
    "- islower() returns true if all alphabetic characters in string are lowercase\n",
    "- isnumeric()\n",
    "- isspace()\n",
    "- istitle()\n",
    "- isupper()\n"
   ]
  },
  {
   "cell_type": "code",
   "execution_count": 34,
   "id": "e396e617-e0c4-4325-b0f3-205f285be4c7",
   "metadata": {},
   "outputs": [
    {
     "data": {
      "text/plain": [
       "False"
      ]
     },
     "execution_count": 34,
     "metadata": {},
     "output_type": "execute_result"
    }
   ],
   "source": [
    "'-27'.isdigit()"
   ]
  },
  {
   "cell_type": "code",
   "execution_count": 35,
   "id": "a88cfcc5-ec4d-4cce-976b-1934552f3dda",
   "metadata": {},
   "outputs": [
    {
     "data": {
      "text/plain": [
       "True"
      ]
     },
     "execution_count": 35,
     "metadata": {},
     "output_type": "execute_result"
    }
   ],
   "source": [
    " '27'.isdigit()"
   ]
  },
  {
   "cell_type": "code",
   "execution_count": 36,
   "id": "456464b3-8753-41f3-801c-89c7e7853ac9",
   "metadata": {},
   "outputs": [
    {
     "data": {
      "text/plain": [
       "True"
      ]
     },
     "execution_count": 36,
     "metadata": {},
     "output_type": "execute_result"
    }
   ],
   "source": [
    "'A9876'.isalnum()"
   ]
  },
  {
   "cell_type": "code",
   "execution_count": 37,
   "id": "b235e0b9-7542-498d-b9da-8fb745f3fda8",
   "metadata": {},
   "outputs": [
    {
     "data": {
      "text/plain": [
       "False"
      ]
     },
     "execution_count": 37,
     "metadata": {},
     "output_type": "execute_result"
    }
   ],
   "source": [
    "'123 Main Street'.isalnum()"
   ]
  },
  {
   "cell_type": "markdown",
   "id": "622664d2-8647-4369-a5d5-49d0ef131a38",
   "metadata": {},
   "source": [
    "### 8.11 Raw Strings\n",
    "- Raw strings (preceded by the character r) are convenient to eleminate the need for \\\\. \n",
    "- They treat each backslash as a regular character, rather than the beginning of an escape sequence."
   ]
  },
  {
   "cell_type": "code",
   "execution_count": 41,
   "id": "237ba565-a808-47c2-aefa-7648041c1326",
   "metadata": {},
   "outputs": [
    {
     "data": {
      "text/plain": [
       "'C:\\\\MyFolder\\\\MySubFolder\\\\MyFile.txt'"
      ]
     },
     "execution_count": 41,
     "metadata": {},
     "output_type": "execute_result"
    }
   ],
   "source": [
    "file_path = r'C:\\MyFolder\\MySubFolder\\MyFile.txt'\n",
    "file_path"
   ]
  },
  {
   "cell_type": "markdown",
   "id": "a2dfc27c-bab0-4803-a229-cfd63e73a2cc",
   "metadata": {},
   "source": [
    "### 8.12 Introduction to Regular Expressions\n",
    "- A regular expression string describes a search pattern for matching characters in other strings"
   ]
  },
  {
   "cell_type": "markdown",
   "id": "69c37aa2-9ef9-4e67-9e4c-0bc04ef4820d",
   "metadata": {},
   "source": [
    "**Validating Data**\n",
    "- Use existing regular expressions for common items from the following websites:\n",
    "- [https://regex101.com]\n",
    "- [https://regexlib.com]\n",
    "- [https://www.regular-expression.info]"
   ]
  },
  {
   "cell_type": "markdown",
   "id": "6f4182ba-53e8-457b-90f2-5c488bdf25ef",
   "metadata": {},
   "source": [
    "**Other uses of regular expressions**\n",
    "- Extract data from text\n",
    "- Clean data\n",
    "- Transform data into other formats"
   ]
  },
  {
   "cell_type": "markdown",
   "id": "be8aeb0b-c7ac-4cca-9a15-f05dcf65818e",
   "metadata": {},
   "source": [
    "### 8.12.1 re Module and Function fullmatch\n",
    "- fullmatch checks wether the entire string in its second argument matches the pattern in its first"
   ]
  },
  {
   "cell_type": "code",
   "execution_count": 43,
   "id": "8c2efe01-890f-4aa5-91c0-68ddbd9ad626",
   "metadata": {},
   "outputs": [
    {
     "data": {
      "text/plain": [
       "'Match'"
      ]
     },
     "execution_count": 43,
     "metadata": {},
     "output_type": "execute_result"
    }
   ],
   "source": [
    "import re\n",
    "\n",
    "pattern = '02215'\n",
    "\n",
    "'Match' if re.fullmatch(pattern, '02215') else 'No match'"
   ]
  },
  {
   "cell_type": "code",
   "execution_count": 45,
   "id": "89e48b74-0e5b-4d60-9b94-fb6d8b5d5933",
   "metadata": {},
   "outputs": [
    {
     "data": {
      "text/plain": [
       "'No match'"
      ]
     },
     "execution_count": 45,
     "metadata": {},
     "output_type": "execute_result"
    }
   ],
   "source": [
    "'Match' if re.fullmatch(pattern, '51220') else 'No match'"
   ]
  },
  {
   "cell_type": "markdown",
   "id": "e96f3d52-69cf-4e79-b6f6-1db717b8a658",
   "metadata": {},
   "source": [
    "**Metacharacter, character classes, and quantifiers**\n",
    "- Regular expressions typically contain metacharacters: []  {}  ()  *  +  ^  $  ?  .  |\n",
    "- The \\ metacharacter begins each of the predefined character classes, each matching a specific state of characters"
   ]
  },
  {
   "cell_type": "code",
   "execution_count": 47,
   "id": "7182a6bb-8942-41f2-8b57-be7810bfb0fe",
   "metadata": {},
   "outputs": [
    {
     "data": {
      "text/plain": [
       "'Valid'"
      ]
     },
     "execution_count": 47,
     "metadata": {},
     "output_type": "execute_result"
    }
   ],
   "source": [
    "'Valid' if re.fullmatch(r'\\d{5}', '02215') else 'Invalid' # \\d is a character class that represents a digit"
   ]
  },
  {
   "cell_type": "code",
   "execution_count": 49,
   "id": "25b3d876-a878-4e80-83f7-10ce58681bae",
   "metadata": {},
   "outputs": [
    {
     "data": {
      "text/plain": [
       "'Invalid'"
      ]
     },
     "execution_count": 49,
     "metadata": {},
     "output_type": "execute_result"
    }
   ],
   "source": [
    "'Valid' if re.fullmatch(r'\\d{5}', '9876') else 'Invalid'"
   ]
  },
  {
   "cell_type": "markdown",
   "id": "02f6264e-c134-4fd0-b818-5bceb36d67a8",
   "metadata": {},
   "source": [
    "**Other predefined character classes**\n",
    "- \\d = Any digit\n",
    "- \\D = Any character that is not a digit\n",
    "- \\s = Any whitespace character\n",
    "- \\S = Any character that is not a whitespace character\n",
    "- \\w = Any word character (alphanumeric character)\n",
    "- \\W = Any character that is not a word character"
   ]
  },
  {
   "cell_type": "markdown",
   "id": "1bbe730c-4808-4073-8406-d3dcf0659008",
   "metadata": {},
   "source": [
    "**Custom character classes**\n",
    "- \\[] define a custome character class that matches a single character\n",
    "- \\[aeiou] matches a lowercase vowel\n",
    "- \\[A-Z] matches an uppercase letter\n",
    "- \\[a-z] matches a lowercase letter\n",
    "- \\[a-zA-z] matches a lower or uppercase letter"
   ]
  },
  {
   "cell_type": "code",
   "execution_count": 52,
   "id": "5282bc46-1f68-4d0a-89c0-fac04096174f",
   "metadata": {},
   "outputs": [
    {
     "data": {
      "text/plain": [
       "'Valid'"
      ]
     },
     "execution_count": 52,
     "metadata": {},
     "output_type": "execute_result"
    }
   ],
   "source": [
    "'Valid' if re.fullmatch('[A-Z][a-z]*', 'Wally') else 'Invalid'\n",
    "# The * quantifier matches zero or more occurences of the subexpression to its left (zero or more lowercase letters)"
   ]
  },
  {
   "cell_type": "code",
   "execution_count": 53,
   "id": "fc9559b0-d5a7-49d7-b734-f06d1592e1d6",
   "metadata": {},
   "outputs": [
    {
     "data": {
      "text/plain": [
       "'Invalid'"
      ]
     },
     "execution_count": 53,
     "metadata": {},
     "output_type": "execute_result"
    }
   ],
   "source": [
    "'Valid' if re.fullmatch('[A-Z][a-z]*', 'eva') else 'Invalid'"
   ]
  },
  {
   "cell_type": "markdown",
   "id": "2c434676-39a6-4375-a1cc-5ec10e4b2d75",
   "metadata": {},
   "source": [
    "- When a custom character class starts with a ^, the class matches any character that's not specified. \n",
    "- \\[^a-z] matches any character that is not lowercase"
   ]
  },
  {
   "cell_type": "code",
   "execution_count": 54,
   "id": "33ec7c51-2efd-4d29-b56b-d0642ad4380a",
   "metadata": {},
   "outputs": [
    {
     "data": {
      "text/plain": [
       "'Match'"
      ]
     },
     "execution_count": 54,
     "metadata": {},
     "output_type": "execute_result"
    }
   ],
   "source": [
    "'Match' if re.fullmatch('[^a-z]', 'A') else 'No match'"
   ]
  },
  {
   "cell_type": "code",
   "execution_count": 55,
   "id": "b2383bcc-14d6-4e94-ac14-b7eb84fc8217",
   "metadata": {},
   "outputs": [
    {
     "data": {
      "text/plain": [
       "'No match'"
      ]
     },
     "execution_count": 55,
     "metadata": {},
     "output_type": "execute_result"
    }
   ],
   "source": [
    "'Match' if re.fullmatch('[^a-z]', 'a') else 'No match'"
   ]
  },
  {
   "cell_type": "markdown",
   "id": "59b70c10-1583-42bb-ac62-fd10f3f4c0b2",
   "metadata": {},
   "source": [
    "- Metacharacters in a customer character class are treated as literal characters."
   ]
  },
  {
   "cell_type": "code",
   "execution_count": 57,
   "id": "e349694c-f9db-413d-a3bc-cf06c3e063bc",
   "metadata": {},
   "outputs": [
    {
     "data": {
      "text/plain": [
       "'Match'"
      ]
     },
     "execution_count": 57,
     "metadata": {},
     "output_type": "execute_result"
    }
   ],
   "source": [
    "'Match' if re.fullmatch('[*+$]', '*') else 'No match'"
   ]
  },
  {
   "cell_type": "code",
   "execution_count": 58,
   "id": "6457373f-194c-47fd-a271-9cfe6c1ee6a9",
   "metadata": {},
   "outputs": [
    {
     "data": {
      "text/plain": [
       "'No match'"
      ]
     },
     "execution_count": 58,
     "metadata": {},
     "output_type": "execute_result"
    }
   ],
   "source": [
    "'Match' if re.fullmatch('[*+$]', '!') else 'No match'"
   ]
  },
  {
   "cell_type": "markdown",
   "id": "3ba7bab2-7572-4c3d-8038-a2af03c3aa21",
   "metadata": {},
   "source": [
    "**\\* verses + quantifier**\n",
    "- \\* = zero or more occurences\n",
    "- \\+ = at least one occurence"
   ]
  },
  {
   "cell_type": "code",
   "execution_count": 59,
   "id": "3babc49c-e48d-4c05-a1a7-d920bde9a8cb",
   "metadata": {},
   "outputs": [
    {
     "data": {
      "text/plain": [
       "'Valid'"
      ]
     },
     "execution_count": 59,
     "metadata": {},
     "output_type": "execute_result"
    }
   ],
   "source": [
    "'Valid' if re.fullmatch('[A-Z][a-z]+', 'Wally') else 'Invalid'"
   ]
  },
  {
   "cell_type": "code",
   "execution_count": 60,
   "id": "f686b650-43d0-418e-9b85-b4c45c99ead1",
   "metadata": {},
   "outputs": [
    {
     "data": {
      "text/plain": [
       "'Invalid'"
      ]
     },
     "execution_count": 60,
     "metadata": {},
     "output_type": "execute_result"
    }
   ],
   "source": [
    "'Valid' if re.fullmatch('[A-Z][a-z]+', 'E') else 'Invalid'"
   ]
  },
  {
   "cell_type": "markdown",
   "id": "84107b38-0378-4b3d-873a-e46ab25b80cc",
   "metadata": {},
   "source": [
    "**Other quantifiers**\n",
    "- ? quantifier matches zero or one occurenc of a subexpression"
   ]
  },
  {
   "cell_type": "code",
   "execution_count": 61,
   "id": "ec1e1d75-5392-4930-ae0b-67024658098d",
   "metadata": {},
   "outputs": [
    {
     "data": {
      "text/plain": [
       "'Match'"
      ]
     },
     "execution_count": 61,
     "metadata": {},
     "output_type": "execute_result"
    }
   ],
   "source": [
    "'Match' if re.fullmatch('labell?ed', 'labelled') else 'No match'"
   ]
  },
  {
   "cell_type": "code",
   "execution_count": 62,
   "id": "c5df494c-d145-4a62-a7a0-30b564d09fe2",
   "metadata": {},
   "outputs": [
    {
     "data": {
      "text/plain": [
       "'Match'"
      ]
     },
     "execution_count": 62,
     "metadata": {},
     "output_type": "execute_result"
    }
   ],
   "source": [
    "'Match' if re.fullmatch('labell?ed', 'labeled') else 'No match'"
   ]
  },
  {
   "cell_type": "code",
   "execution_count": 63,
   "id": "c4b90173-442f-4c00-8111-d4692103f806",
   "metadata": {},
   "outputs": [
    {
     "data": {
      "text/plain": [
       "'No match'"
      ]
     },
     "execution_count": 63,
     "metadata": {},
     "output_type": "execute_result"
    }
   ],
   "source": [
    "'Match' if re.fullmatch('labell?ed', 'labellled') else 'No match'"
   ]
  },
  {
   "cell_type": "markdown",
   "id": "8136f784-45a6-47c8-b4e1-e4698f3921ca",
   "metadata": {},
   "source": [
    "- \\{n,} quantifier matches at least n occurences of a subexpression"
   ]
  },
  {
   "cell_type": "code",
   "execution_count": 65,
   "id": "736dc9ab-6ee6-4f08-b8ff-223e3fb29e95",
   "metadata": {
    "tags": []
   },
   "outputs": [
    {
     "data": {
      "text/plain": [
       "'Match'"
      ]
     },
     "execution_count": 65,
     "metadata": {},
     "output_type": "execute_result"
    }
   ],
   "source": [
    "'Match' if re.fullmatch(r'\\d{3,}', '123') else 'No match'"
   ]
  },
  {
   "cell_type": "code",
   "execution_count": 66,
   "id": "67191673-e99e-4f17-89fb-78fb3df1edbf",
   "metadata": {
    "tags": []
   },
   "outputs": [
    {
     "data": {
      "text/plain": [
       "'Match'"
      ]
     },
     "execution_count": 66,
     "metadata": {},
     "output_type": "execute_result"
    }
   ],
   "source": [
    "'Match' if re.fullmatch(r'\\d{3,}', '1234567890') else 'No match'"
   ]
  },
  {
   "cell_type": "code",
   "execution_count": 67,
   "id": "4b90af17-8494-46df-8d53-68b9967d3680",
   "metadata": {},
   "outputs": [
    {
     "data": {
      "text/plain": [
       "'No match'"
      ]
     },
     "execution_count": 67,
     "metadata": {},
     "output_type": "execute_result"
    }
   ],
   "source": [
    "'Match' if re.fullmatch(r'\\d{3,}', '12') else 'No match'"
   ]
  },
  {
   "cell_type": "markdown",
   "id": "0cdbe7e2-9d5b-4f98-8074-63db2bd7af43",
   "metadata": {},
   "source": [
    "- \\{n,m} quantifier matches between n and m (inclusive) occurences of a subexpression"
   ]
  },
  {
   "cell_type": "code",
   "execution_count": 68,
   "id": "4e97c7ed-82e0-4676-ba94-f811c2e72e5b",
   "metadata": {},
   "outputs": [
    {
     "data": {
      "text/plain": [
       "'Match'"
      ]
     },
     "execution_count": 68,
     "metadata": {},
     "output_type": "execute_result"
    }
   ],
   "source": [
    "'Match' if re.fullmatch(r'\\d{3,6}', '123') else 'No match'"
   ]
  },
  {
   "cell_type": "code",
   "execution_count": 70,
   "id": "011d7bff-4fa1-4c67-b800-7387bd86e359",
   "metadata": {},
   "outputs": [
    {
     "data": {
      "text/plain": [
       "'Match'"
      ]
     },
     "execution_count": 70,
     "metadata": {},
     "output_type": "execute_result"
    }
   ],
   "source": [
    "'Match' if re.fullmatch(r'\\d{3,6}', '123456') else 'No match'"
   ]
  },
  {
   "cell_type": "code",
   "execution_count": 71,
   "id": "9c6be5c2-45d1-4c1b-be5b-e23c4aefba29",
   "metadata": {},
   "outputs": [
    {
     "data": {
      "text/plain": [
       "'No match'"
      ]
     },
     "execution_count": 71,
     "metadata": {},
     "output_type": "execute_result"
    }
   ],
   "source": [
    "'Match' if re.fullmatch(r'\\d{3,6}', '1234567') else 'No match'"
   ]
  },
  {
   "cell_type": "code",
   "execution_count": 72,
   "id": "78a3f9e0-4189-4a95-b6bd-c976f747b592",
   "metadata": {},
   "outputs": [
    {
     "data": {
      "text/plain": [
       "'No match'"
      ]
     },
     "execution_count": 72,
     "metadata": {},
     "output_type": "execute_result"
    }
   ],
   "source": [
    "'Match' if re.fullmatch(r'\\d{3,6}', '12') else 'No match'"
   ]
  },
  {
   "cell_type": "markdown",
   "id": "1c1ef310-585c-4f74-81ee-b6d53b629e1b",
   "metadata": {},
   "source": [
    "### 8.12.1 Self Check"
   ]
  },
  {
   "cell_type": "code",
   "execution_count": 74,
   "id": "0b3916e9-db1f-426d-ac2a-e4bb886f5420",
   "metadata": {},
   "outputs": [
    {
     "data": {
      "text/plain": [
       "'Match'"
      ]
     },
     "execution_count": 74,
     "metadata": {},
     "output_type": "execute_result"
    }
   ],
   "source": [
    "import re\n",
    "\n",
    "street = r'\\d+ [A-Z][a-z]* [A-Z][a-z]*'\n",
    "\n",
    "'Match' if re.fullmatch(street, '123 Main Street') else 'No Match'"
   ]
  },
  {
   "cell_type": "markdown",
   "id": "4dfb67b2-0133-4dbd-a6b7-6c6f5fe74c9b",
   "metadata": {},
   "source": [
    "### 8.12.2 Replacing Substrings and Splitting Strings"
   ]
  },
  {
   "cell_type": "markdown",
   "id": "bb26cc25-63a8-45c4-8036-54a64e73df67",
   "metadata": {},
   "source": [
    "**Function sub - Replacing patterns**\n",
    "- By default, the sub function replaces all occurences of a pattern with the replacement text you specify\n",
    "\n",
    "**sub function arguments**\n",
    "- the pattern to match\n",
    "- the replacement text\n",
    "- the string to be searched\n",
    "- (the keyword argument count can be used to specify the max number of replacements)"
   ]
  },
  {
   "cell_type": "code",
   "execution_count": 2,
   "id": "01d74bb9-2c97-4328-83d4-c0f629037745",
   "metadata": {},
   "outputs": [
    {
     "data": {
      "text/plain": [
       "'1, 2, 3, 4'"
      ]
     },
     "execution_count": 2,
     "metadata": {},
     "output_type": "execute_result"
    }
   ],
   "source": [
    "import re\n",
    "\n",
    "re.sub(r'\\t', ', ', '1\\t2\\t3\\t4')"
   ]
  },
  {
   "cell_type": "code",
   "execution_count": 3,
   "id": "dd4e53ca-10f8-444f-aa51-0f5b5d0dedee",
   "metadata": {},
   "outputs": [
    {
     "data": {
      "text/plain": [
       "'1, 2, 3\\t4'"
      ]
     },
     "execution_count": 3,
     "metadata": {},
     "output_type": "execute_result"
    }
   ],
   "source": [
    "re.sub(r'\\t', ', ', '1\\t2\\t3\\t4', count=2)"
   ]
  },
  {
   "cell_type": "markdown",
   "id": "c97b2354-b034-4d8f-a0b1-d73d97de4a8f",
   "metadata": {},
   "source": [
    "**Function split**\n",
    "- split tokenizes a string, using a regular expression to specify the delimiter, and returns a list of strings\n",
    "- Use the argument maxsplit to specify the maximum numbers of splits"
   ]
  },
  {
   "cell_type": "code",
   "execution_count": 5,
   "id": "8ecef6b7-edd1-44bf-8f94-af69ca401b2c",
   "metadata": {},
   "outputs": [
    {
     "data": {
      "text/plain": [
       "['1', '2', '3', '4', '5', '6', '7', '8']"
      ]
     },
     "execution_count": 5,
     "metadata": {},
     "output_type": "execute_result"
    }
   ],
   "source": [
    "re.split(r',\\s*', '1,  2, 3,4,        5,6,7,8')"
   ]
  },
  {
   "cell_type": "code",
   "execution_count": 6,
   "id": "8cedb927-419d-4696-8189-11417e08bff7",
   "metadata": {},
   "outputs": [
    {
     "data": {
      "text/plain": [
       "['1', '2', '3', '4,        5,6,7,8']"
      ]
     },
     "execution_count": 6,
     "metadata": {},
     "output_type": "execute_result"
    }
   ],
   "source": [
    "re.split(r',\\s*', '1,  2, 3,4,        5,6,7,8', maxsplit=3)"
   ]
  },
  {
   "cell_type": "markdown",
   "id": "c2068082-5e5f-44cb-a32a-17d998540e58",
   "metadata": {},
   "source": [
    "### 8.12.2 Self Check"
   ]
  },
  {
   "cell_type": "code",
   "execution_count": 8,
   "id": "33904a3b-b0e7-485c-b16c-51ffe4ee196f",
   "metadata": {},
   "outputs": [
    {
     "data": {
      "text/plain": [
       "'A, B, C, D'"
      ]
     },
     "execution_count": 8,
     "metadata": {},
     "output_type": "execute_result"
    }
   ],
   "source": [
    "string1 = 'A\\tB\\tC\\t\\t\\tD'\n",
    "\n",
    "import re\n",
    "\n",
    "re.sub(r'\\t+', ', ', string1)"
   ]
  },
  {
   "cell_type": "code",
   "execution_count": 10,
   "id": "8974ac58-d795-4f22-8d98-20722efb8b50",
   "metadata": {},
   "outputs": [
    {
     "data": {
      "text/plain": [
       "['123', 'Main', 'Street']"
      ]
     },
     "execution_count": 10,
     "metadata": {},
     "output_type": "execute_result"
    }
   ],
   "source": [
    "string2 = '123$Main$$Street'\n",
    "\n",
    "import re\n",
    "\n",
    "re.split(r'\\$+', string2)"
   ]
  },
  {
   "cell_type": "markdown",
   "id": "6d2715ff-eed0-434d-992c-9b5f68c393c8",
   "metadata": {},
   "source": [
    "### 8.12.3 Other Search Functions: Accessing Matches\n",
    "- search\n",
    "- match\n",
    "- findall\n",
    "- finditer"
   ]
  },
  {
   "cell_type": "markdown",
   "id": "c680ce84-235d-4beb-8904-30559cb75884",
   "metadata": {},
   "source": [
    "**Function search - finding the first match anywhere in a string**\n",
    "- Function search looks in a string for the first occurrence of a substring that matches a regular expression and returns a match object (SRE_Match) that contains the matching substring\n",
    "- The match object's group method returns that substring"
   ]
  },
  {
   "cell_type": "code",
   "execution_count": 11,
   "id": "e2e97158-afba-4d15-860a-86e14c12b468",
   "metadata": {},
   "outputs": [
    {
     "data": {
      "text/plain": [
       "'Python'"
      ]
     },
     "execution_count": 11,
     "metadata": {},
     "output_type": "execute_result"
    }
   ],
   "source": [
    "import re\n",
    "\n",
    "result = re.search('Python', 'Python is fun')\n",
    "\n",
    "result.group() if result else 'not found'"
   ]
  },
  {
   "cell_type": "code",
   "execution_count": 18,
   "id": "f7cc0f15-fe86-4764-899d-e8939605dcf7",
   "metadata": {},
   "outputs": [
    {
     "data": {
      "text/plain": [
       "'not found'"
      ]
     },
     "execution_count": 18,
     "metadata": {},
     "output_type": "execute_result"
    }
   ],
   "source": [
    "result2 = re.search('fun!', 'Python is fun') # Returns None if the string does not contain the pattern\n",
    "\n",
    "result2.group() if result2 else 'not found'"
   ]
  },
  {
   "cell_type": "markdown",
   "id": "f15110b9-b663-4cd8-b4be-f8231027ae32",
   "metadata": {},
   "source": [
    "**Function match searches only at the beginning of the string**"
   ]
  },
  {
   "cell_type": "code",
   "execution_count": 19,
   "id": "24035536-42f0-4ab6-936a-ff0e37ad6394",
   "metadata": {},
   "outputs": [
    {
     "data": {
      "text/plain": [
       "'Python'"
      ]
     },
     "execution_count": 19,
     "metadata": {},
     "output_type": "execute_result"
    }
   ],
   "source": [
    "result3 = re.match('Python', 'Python is fun')\n",
    "\n",
    "result3.group() if result3 else 'not found'"
   ]
  },
  {
   "cell_type": "code",
   "execution_count": 20,
   "id": "5ceb1973-87e0-48a3-b9a2-d3b2580a3928",
   "metadata": {},
   "outputs": [
    {
     "data": {
      "text/plain": [
       "'not found'"
      ]
     },
     "execution_count": 20,
     "metadata": {},
     "output_type": "execute_result"
    }
   ],
   "source": [
    "result4 = re.match('is', 'Python is fun')\n",
    "\n",
    "result4.group() if result4 else 'not found'"
   ]
  },
  {
   "cell_type": "markdown",
   "id": "12c6ac30-1147-4b98-9afc-54528d5a1224",
   "metadata": {},
   "source": [
    "**Ignoring case with the optional flags keyword argument**\n",
    "- The flags keyword argument changes how regular expressions are matched"
   ]
  },
  {
   "cell_type": "code",
   "execution_count": 23,
   "id": "cc80ae1e-e7f9-4c54-b180-79aa29977d2e",
   "metadata": {},
   "outputs": [
    {
     "data": {
      "text/plain": [
       "'SAM'"
      ]
     },
     "execution_count": 23,
     "metadata": {},
     "output_type": "execute_result"
    }
   ],
   "source": [
    "result5 = re.search('Sam', 'SAM WHITE', flags=re.IGNORECASE)\n",
    "\n",
    "result5.group() if result5 else 'not found'"
   ]
  },
  {
   "cell_type": "markdown",
   "id": "c1dc3a7b-0dc5-40c4-be5c-91067c72c527",
   "metadata": {},
   "source": [
    "**Metacharacters that restric matches to the beginning or end of a string**\n",
    "- The ^ at the beginning of a regular expression is an anchor indicating that the expression matches only the beginning of a string"
   ]
  },
  {
   "cell_type": "code",
   "execution_count": 24,
   "id": "86d1e482-b4ea-4aad-9b95-a9489a0be3e4",
   "metadata": {},
   "outputs": [
    {
     "data": {
      "text/plain": [
       "'Python'"
      ]
     },
     "execution_count": 24,
     "metadata": {},
     "output_type": "execute_result"
    }
   ],
   "source": [
    "result = re.search('^Python', 'Python is fun')\n",
    "\n",
    "result.group() if result else print('not found')"
   ]
  },
  {
   "cell_type": "code",
   "execution_count": 25,
   "id": "4a2f4b1d-5df5-465e-8cdd-ed8e694467b4",
   "metadata": {},
   "outputs": [
    {
     "name": "stdout",
     "output_type": "stream",
     "text": [
      "not found\n"
     ]
    }
   ],
   "source": [
    "result = re.search('^fun', 'Python is fun')\n",
    "\n",
    "result.group() if result else print ('not found')"
   ]
  },
  {
   "cell_type": "markdown",
   "id": "b12dca76-7710-45da-a85b-19bdfb107245",
   "metadata": {},
   "source": [
    "- The $ at the end of a regular expression is an anchor indicating that the expression matches only the end of a string"
   ]
  },
  {
   "cell_type": "code",
   "execution_count": 26,
   "id": "52851e34-26b2-4fc4-bc19-b5638a068a37",
   "metadata": {},
   "outputs": [
    {
     "name": "stdout",
     "output_type": "stream",
     "text": [
      "not found\n"
     ]
    }
   ],
   "source": [
    "result = re.search('Python$', 'Python is fun')\n",
    "\n",
    "result.group() if result else print('not found')"
   ]
  },
  {
   "cell_type": "code",
   "execution_count": 27,
   "id": "a4e22560-e469-4afa-b7bf-748f5a89cfe4",
   "metadata": {},
   "outputs": [
    {
     "data": {
      "text/plain": [
       "'fun'"
      ]
     },
     "execution_count": 27,
     "metadata": {},
     "output_type": "execute_result"
    }
   ],
   "source": [
    "result = re.search('fun$', 'Python is fun')\n",
    "\n",
    "result.group() if result else print('not found')"
   ]
  },
  {
   "cell_type": "markdown",
   "id": "94e21c74-3415-4a93-99f4-09946ca4a8cc",
   "metadata": {},
   "source": [
    "**Function findall and finditer - finding all matches in a string**\n",
    "- findall finds every matching substring in a string and returns a list of the matching substrings"
   ]
  },
  {
   "cell_type": "code",
   "execution_count": 28,
   "id": "7769c2a0-343c-4e9b-827a-f5ffc409e674",
   "metadata": {},
   "outputs": [
    {
     "data": {
      "text/plain": [
       "['555-555-1234', '555-555-4321']"
      ]
     },
     "execution_count": 28,
     "metadata": {},
     "output_type": "execute_result"
    }
   ],
   "source": [
    "contact = 'Wally White, Home: 555-555-1234, Work: 555-555-4321'\n",
    "\n",
    "re.findall(r'\\d{3}-\\d{3}-\\d{4}', contact)"
   ]
  },
  {
   "cell_type": "markdown",
   "id": "71e9cb5f-2973-4897-9ae4-ac1ac19d0455",
   "metadata": {},
   "source": [
    "- finditer works like finall, but returns a lazy iterable of match objects\n",
    "- For large numbers of matches, using finditer can save memory because it returns one match at a time, whereas findall returns all the matches at once"
   ]
  },
  {
   "cell_type": "code",
   "execution_count": 29,
   "id": "4eab061f-2d8e-476d-9141-f37f207458c2",
   "metadata": {},
   "outputs": [
    {
     "name": "stdout",
     "output_type": "stream",
     "text": [
      "555-555-1234\n",
      "555-555-4321\n"
     ]
    }
   ],
   "source": [
    "for phone in re.finditer(r'\\d{3}-\\d{3}-\\d{4}', contact):\n",
    "    print (phone.group())"
   ]
  },
  {
   "cell_type": "markdown",
   "id": "e6bbd848-ea28-4dab-81a4-7fbf7168f3d6",
   "metadata": {},
   "source": [
    "**Capturing substrings in a match**\n",
    "- You can use ( ) to capture substrings in a match"
   ]
  },
  {
   "cell_type": "code",
   "execution_count": 35,
   "id": "0c73fcbb-591c-4650-8505-294fc225716b",
   "metadata": {},
   "outputs": [
    {
     "data": {
      "text/plain": [
       "('Charlie Cyan', 'demo1@deitel.com')"
      ]
     },
     "execution_count": 35,
     "metadata": {},
     "output_type": "execute_result"
    }
   ],
   "source": [
    "text = 'Charlie Cyan, email: demo1@deitel.com'\n",
    "\n",
    "pattern = r'([A-Z][a-z]+ [A-Z][a-z]+), email: (\\w+@\\w+\\.\\w{3})'\n",
    "\n",
    "result = re.search(pattern, text)\n",
    "\n",
    "result.groups() # The match object's groups method returns a tuple of the captured substrings"
   ]
  },
  {
   "cell_type": "code",
   "execution_count": 32,
   "id": "71a60876-ea78-4fd2-9be3-a16ef40f5d8e",
   "metadata": {},
   "outputs": [
    {
     "data": {
      "text/plain": [
       "'Charlie Cyan, email: demo1@deitel.com'"
      ]
     },
     "execution_count": 32,
     "metadata": {},
     "output_type": "execute_result"
    }
   ],
   "source": [
    "result.group() # The match object group returns the entire match as a single string"
   ]
  },
  {
   "cell_type": "code",
   "execution_count": 33,
   "id": "54b6417c-3b7d-4b33-8da0-6db4d12a90ec",
   "metadata": {},
   "outputs": [
    {
     "data": {
      "text/plain": [
       "'Charlie Cyan'"
      ]
     },
     "execution_count": 33,
     "metadata": {},
     "output_type": "execute_result"
    }
   ],
   "source": [
    "result.group(1) # Access the first substring"
   ]
  },
  {
   "cell_type": "code",
   "execution_count": 34,
   "id": "4cec8bfb-6c38-419a-bf91-efc11acbeea7",
   "metadata": {},
   "outputs": [
    {
     "data": {
      "text/plain": [
       "'demo1@deitel.com'"
      ]
     },
     "execution_count": 34,
     "metadata": {},
     "output_type": "execute_result"
    }
   ],
   "source": [
    "result.group(2) # Access the second substring"
   ]
  },
  {
   "cell_type": "markdown",
   "id": "ae46416b-6d98-4cd0-9448-734d745526a4",
   "metadata": {},
   "source": [
    "### 8.12.3 Self Check"
   ]
  },
  {
   "cell_type": "code",
   "execution_count": 41,
   "id": "b4abc6f4-7e74-4340-aa0c-50153b4130c0",
   "metadata": {},
   "outputs": [
    {
     "name": "stdout",
     "output_type": "stream",
     "text": [
      "('10', '+', '5')\n",
      "10\n",
      "+\n",
      "5\n"
     ]
    }
   ],
   "source": [
    "import re\n",
    "\n",
    "string1 = '10 + 5'\n",
    "\n",
    "pattern = r'(\\d+) ([-/+*]) (\\d+)'\n",
    "\n",
    "result = re.search(pattern, string1)\n",
    "\n",
    "print(result.groups())\n",
    "\n",
    "print(result.group(1))\n",
    "\n",
    "print(result.group(2))\n",
    "\n",
    "print(result.group(3))"
   ]
  },
  {
   "cell_type": "markdown",
   "id": "2fe44a44-ba49-4658-a0d0-02550e0d0d01",
   "metadata": {},
   "source": [
    "### 8.13 Pandas, Regular Expression, and Data Munging\n",
    "<br>Common data cleaning examples:\n",
    "- deleting observations with missing values\n",
    "- substituting reasonalbe values for missing values\n",
    "- deleting observations with bad values\n",
    "- substituting observations with bad values\n",
    "- tossing outliers\n",
    "- duplicate elemination\n",
    "- dealing with inconsistent data\n",
    "- and more\n",
    "\n",
    "\n",
    "Some common data transformations include:\n",
    "- removing unnecessary data features\n",
    "- combining related features\n",
    "- sampling data to obtain a representative subset\n",
    "- standardizing data formats\n",
    "- grouping data\n",
    "- and more\n"
   ]
  },
  {
   "cell_type": "markdown",
   "id": "2a43d3a7-8f39-4a75-90d8-225aff8644d3",
   "metadata": {},
   "source": [
    "**Data validation**"
   ]
  },
  {
   "cell_type": "code",
   "execution_count": 43,
   "id": "286396f5-ff15-4ecc-a1b9-39c06e3cb278",
   "metadata": {},
   "outputs": [
    {
     "data": {
      "text/plain": [
       "Boston    02215\n",
       "Miami      3310\n",
       "dtype: object"
      ]
     },
     "execution_count": 43,
     "metadata": {},
     "output_type": "execute_result"
    }
   ],
   "source": [
    "# Create a Series of ZIP Codes from a dictionary\n",
    "# Series are one-dimensional arrays with indices\n",
    "\n",
    "import pandas as pd\n",
    "\n",
    "zips = pd.Series({'Boston': '02215', 'Miami': '3310'})\n",
    "\n",
    "zips"
   ]
  },
  {
   "cell_type": "code",
   "execution_count": 44,
   "id": "6742d1fd-1fc9-405f-af12-4a05384ba9ad",
   "metadata": {},
   "outputs": [
    {
     "data": {
      "text/plain": [
       "Boston     True\n",
       "Miami     False\n",
       "dtype: bool"
      ]
     },
     "execution_count": 44,
     "metadata": {},
     "output_type": "execute_result"
    }
   ],
   "source": [
    "# Use the str attribute and match method to check whether each ZIP Code is valid\n",
    "\n",
    "zips.str.match(r'\\d{5}')"
   ]
  },
  {
   "cell_type": "code",
   "execution_count": 45,
   "id": "cf10c0c8-777e-4f1b-9fa5-1c6e1e33a36c",
   "metadata": {},
   "outputs": [
    {
     "data": {
      "text/plain": [
       "0    Boston, MA 02215\n",
       "1     Miami, FL 33101\n",
       "dtype: object"
      ]
     },
     "execution_count": 45,
     "metadata": {},
     "output_type": "execute_result"
    }
   ],
   "source": [
    "# Another example using contains\n",
    "\n",
    "cities = pd.Series(['Boston, MA 02215', 'Miami, FL 33101'])\n",
    "\n",
    "cities"
   ]
  },
  {
   "cell_type": "code",
   "execution_count": 46,
   "id": "dbbee524-2e26-4582-8c76-6eb8873f8698",
   "metadata": {},
   "outputs": [
    {
     "data": {
      "text/plain": [
       "0    True\n",
       "1    True\n",
       "dtype: bool"
      ]
     },
     "execution_count": 46,
     "metadata": {},
     "output_type": "execute_result"
    }
   ],
   "source": [
    "cities.str.contains(r' [A-Z]{2} ') # Find a matching substring - Example: [ MO ]"
   ]
  },
  {
   "cell_type": "code",
   "execution_count": 47,
   "id": "37f7758f-48ef-4091-affe-f91336cea3c1",
   "metadata": {},
   "outputs": [
    {
     "data": {
      "text/plain": [
       "0    False\n",
       "1    False\n",
       "dtype: bool"
      ]
     },
     "execution_count": 47,
     "metadata": {},
     "output_type": "execute_result"
    }
   ],
   "source": [
    "cities.str.match(r' [A-Z]{2} ') # Find an entire string that matches"
   ]
  },
  {
   "cell_type": "markdown",
   "id": "02c4cc34-685c-45e8-8c2b-39564d4974ad",
   "metadata": {},
   "source": [
    "**Reformatting your data**"
   ]
  },
  {
   "cell_type": "code",
   "execution_count": 48,
   "id": "6ffce35c-e3b9-490f-b9e3-bc70eb0d1306",
   "metadata": {},
   "outputs": [
    {
     "data": {
      "text/html": [
       "<div>\n",
       "<style scoped>\n",
       "    .dataframe tbody tr th:only-of-type {\n",
       "        vertical-align: middle;\n",
       "    }\n",
       "\n",
       "    .dataframe tbody tr th {\n",
       "        vertical-align: top;\n",
       "    }\n",
       "\n",
       "    .dataframe thead th {\n",
       "        text-align: right;\n",
       "    }\n",
       "</style>\n",
       "<table border=\"1\" class=\"dataframe\">\n",
       "  <thead>\n",
       "    <tr style=\"text-align: right;\">\n",
       "      <th></th>\n",
       "      <th>Name</th>\n",
       "      <th>Email</th>\n",
       "      <th>Phone</th>\n",
       "    </tr>\n",
       "  </thead>\n",
       "  <tbody>\n",
       "    <tr>\n",
       "      <th>0</th>\n",
       "      <td>Mike Green</td>\n",
       "      <td>demo1@deitel.com</td>\n",
       "      <td>5555555555</td>\n",
       "    </tr>\n",
       "    <tr>\n",
       "      <th>1</th>\n",
       "      <td>Sue Brown</td>\n",
       "      <td>demo2@deitel.com</td>\n",
       "      <td>5555551234</td>\n",
       "    </tr>\n",
       "  </tbody>\n",
       "</table>\n",
       "</div>"
      ],
      "text/plain": [
       "         Name             Email       Phone\n",
       "0  Mike Green  demo1@deitel.com  5555555555\n",
       "1   Sue Brown  demo2@deitel.com  5555551234"
      ]
     },
     "execution_count": 48,
     "metadata": {},
     "output_type": "execute_result"
    }
   ],
   "source": [
    "# Reformat phone numbers\n",
    "\n",
    "contacts = [['Mike Green', 'demo1@deitel.com', '5555555555'],\n",
    "            ['Sue Brown', 'demo2@deitel.com', '5555551234']]\n",
    "\n",
    "contactsdf = pd.DataFrame(contacts, columns=['Name', 'Email', 'Phone']) \n",
    "\n",
    "contactsdf"
   ]
  },
  {
   "cell_type": "code",
   "execution_count": 53,
   "id": "dcf56acc-6926-4a0f-b318-c567ee38b9f8",
   "metadata": {},
   "outputs": [],
   "source": [
    "# Create a function to format phone number\n",
    "import re\n",
    "\n",
    "def get_formatted_phone(value):\n",
    "    result = re.fullmatch(r'(\\d{3})(\\d{3})(\\d{4})', value)\n",
    "    return '-'.join(result.groups()) if result else value"
   ]
  },
  {
   "cell_type": "code",
   "execution_count": 54,
   "id": "78801b2a-8120-4b45-be44-6ba2bf109a1a",
   "metadata": {},
   "outputs": [
    {
     "data": {
      "text/plain": [
       "0    555-555-5555\n",
       "1    555-555-1234\n",
       "Name: Phone, dtype: object"
      ]
     },
     "execution_count": 54,
     "metadata": {},
     "output_type": "execute_result"
    }
   ],
   "source": [
    "# Map formatted phone number to new Series\n",
    "\n",
    "formatted_phone = contactsdf['Phone'].map(get_formatted_phone)\n",
    "\n",
    "formatted_phone"
   ]
  },
  {
   "cell_type": "code",
   "execution_count": 55,
   "id": "e6f6bf80-25fa-468d-804a-04b21fc35d11",
   "metadata": {},
   "outputs": [
    {
     "data": {
      "text/html": [
       "<div>\n",
       "<style scoped>\n",
       "    .dataframe tbody tr th:only-of-type {\n",
       "        vertical-align: middle;\n",
       "    }\n",
       "\n",
       "    .dataframe tbody tr th {\n",
       "        vertical-align: top;\n",
       "    }\n",
       "\n",
       "    .dataframe thead th {\n",
       "        text-align: right;\n",
       "    }\n",
       "</style>\n",
       "<table border=\"1\" class=\"dataframe\">\n",
       "  <thead>\n",
       "    <tr style=\"text-align: right;\">\n",
       "      <th></th>\n",
       "      <th>Name</th>\n",
       "      <th>Email</th>\n",
       "      <th>Phone</th>\n",
       "    </tr>\n",
       "  </thead>\n",
       "  <tbody>\n",
       "    <tr>\n",
       "      <th>0</th>\n",
       "      <td>Mike Green</td>\n",
       "      <td>demo1@deitel.com</td>\n",
       "      <td>555-555-5555</td>\n",
       "    </tr>\n",
       "    <tr>\n",
       "      <th>1</th>\n",
       "      <td>Sue Brown</td>\n",
       "      <td>demo2@deitel.com</td>\n",
       "      <td>555-555-1234</td>\n",
       "    </tr>\n",
       "  </tbody>\n",
       "</table>\n",
       "</div>"
      ],
      "text/plain": [
       "         Name             Email         Phone\n",
       "0  Mike Green  demo1@deitel.com  555-555-5555\n",
       "1   Sue Brown  demo2@deitel.com  555-555-1234"
      ]
     },
     "execution_count": 55,
     "metadata": {},
     "output_type": "execute_result"
    }
   ],
   "source": [
    "# Update the data in the original df with the formatted numbers\n",
    "\n",
    "contactsdf['Phone'] = formatted_phone\n",
    "\n",
    "contactsdf"
   ]
  },
  {
   "cell_type": "markdown",
   "id": "ea92e2ef-a4e2-40cd-a552-5f42389a2e74",
   "metadata": {},
   "source": [
    "### 8.13 Self Check"
   ]
  },
  {
   "cell_type": "code",
   "execution_count": 81,
   "id": "408bf652-dbc4-4383-a32b-55859546752c",
   "metadata": {},
   "outputs": [
    {
     "data": {
      "text/html": [
       "<div>\n",
       "<style scoped>\n",
       "    .dataframe tbody tr th:only-of-type {\n",
       "        vertical-align: middle;\n",
       "    }\n",
       "\n",
       "    .dataframe tbody tr th {\n",
       "        vertical-align: top;\n",
       "    }\n",
       "\n",
       "    .dataframe thead th {\n",
       "        text-align: right;\n",
       "    }\n",
       "</style>\n",
       "<table border=\"1\" class=\"dataframe\">\n",
       "  <thead>\n",
       "    <tr style=\"text-align: right;\">\n",
       "      <th></th>\n",
       "      <th>Name</th>\n",
       "      <th>Email</th>\n",
       "      <th>Phone</th>\n",
       "    </tr>\n",
       "  </thead>\n",
       "  <tbody>\n",
       "    <tr>\n",
       "      <th>0</th>\n",
       "      <td>Mike Green</td>\n",
       "      <td>demo1@deitel.com</td>\n",
       "      <td>5555555555</td>\n",
       "    </tr>\n",
       "    <tr>\n",
       "      <th>1</th>\n",
       "      <td>Sue Brown</td>\n",
       "      <td>demo2@deitel.com</td>\n",
       "      <td>5555551234</td>\n",
       "    </tr>\n",
       "  </tbody>\n",
       "</table>\n",
       "</div>"
      ],
      "text/plain": [
       "         Name             Email       Phone\n",
       "0  Mike Green  demo1@deitel.com  5555555555\n",
       "1   Sue Brown  demo2@deitel.com  5555551234"
      ]
     },
     "execution_count": 81,
     "metadata": {},
     "output_type": "execute_result"
    }
   ],
   "source": [
    "contacts = [['Mike Green', 'demo1@deitel.com', '5555555555'],\n",
    "            ['Sue Brown', 'demo2@deitel.com', '5555551234']]\n",
    "\n",
    "contactsdf = pd.DataFrame(contacts, columns=['Name', 'Email', 'Phone']) \n",
    "\n",
    "contactsdf"
   ]
  },
  {
   "cell_type": "code",
   "execution_count": 84,
   "id": "358ca487-8e95-4c44-a900-8b4f95b8aa61",
   "metadata": {},
   "outputs": [],
   "source": [
    "# Modify function to format phone number\n",
    "import re\n",
    "import pandas as pd\n",
    "\n",
    "def get_formatted_phone2(value):\n",
    "    result = re.fullmatch(r'(\\d{3})(\\d{3})(\\d{4})', value)\n",
    "    if result:\n",
    "        str1, str2, str3 = result.groups()\n",
    "        return f'({str1}) {str2}-{str3}'\n",
    "    else:\n",
    "        return value"
   ]
  },
  {
   "cell_type": "code",
   "execution_count": 85,
   "id": "232a171f-7edf-4318-9b33-6a61cc445df5",
   "metadata": {},
   "outputs": [
    {
     "data": {
      "text/plain": [
       "0    (555) 555-5555\n",
       "1    (555) 555-1234\n",
       "Name: Phone, dtype: object"
      ]
     },
     "execution_count": 85,
     "metadata": {},
     "output_type": "execute_result"
    }
   ],
   "source": [
    "# Map formatted phone to Series\n",
    "\n",
    "formatted_phone2 = contactsdf['Phone'].map(get_formatted_phone2)\n",
    "\n",
    "formatted_phone2"
   ]
  },
  {
   "cell_type": "code",
   "execution_count": 88,
   "id": "391b74d3-3ef2-4b8d-bf9d-da24c5b05845",
   "metadata": {},
   "outputs": [
    {
     "data": {
      "text/html": [
       "<div>\n",
       "<style scoped>\n",
       "    .dataframe tbody tr th:only-of-type {\n",
       "        vertical-align: middle;\n",
       "    }\n",
       "\n",
       "    .dataframe tbody tr th {\n",
       "        vertical-align: top;\n",
       "    }\n",
       "\n",
       "    .dataframe thead th {\n",
       "        text-align: right;\n",
       "    }\n",
       "</style>\n",
       "<table border=\"1\" class=\"dataframe\">\n",
       "  <thead>\n",
       "    <tr style=\"text-align: right;\">\n",
       "      <th></th>\n",
       "      <th>Name</th>\n",
       "      <th>Email</th>\n",
       "      <th>Phone</th>\n",
       "    </tr>\n",
       "  </thead>\n",
       "  <tbody>\n",
       "    <tr>\n",
       "      <th>0</th>\n",
       "      <td>Mike Green</td>\n",
       "      <td>demo1@deitel.com</td>\n",
       "      <td>(555) 555-5555</td>\n",
       "    </tr>\n",
       "    <tr>\n",
       "      <th>1</th>\n",
       "      <td>Sue Brown</td>\n",
       "      <td>demo2@deitel.com</td>\n",
       "      <td>(555) 555-1234</td>\n",
       "    </tr>\n",
       "  </tbody>\n",
       "</table>\n",
       "</div>"
      ],
      "text/plain": [
       "         Name             Email           Phone\n",
       "0  Mike Green  demo1@deitel.com  (555) 555-5555\n",
       "1   Sue Brown  demo2@deitel.com  (555) 555-1234"
      ]
     },
     "execution_count": 88,
     "metadata": {},
     "output_type": "execute_result"
    }
   ],
   "source": [
    "# Update the original df with formatted Series\n",
    "\n",
    "contactsdf['Phone'] = formatted_phone2\n",
    "\n",
    "contactsdf"
   ]
  }
 ],
 "metadata": {
  "kernelspec": {
   "display_name": "Python 3 (ipykernel)",
   "language": "python",
   "name": "python3"
  },
  "language_info": {
   "codemirror_mode": {
    "name": "ipython",
    "version": 3
   },
   "file_extension": ".py",
   "mimetype": "text/x-python",
   "name": "python",
   "nbconvert_exporter": "python",
   "pygments_lexer": "ipython3",
   "version": "3.9.7"
  }
 },
 "nbformat": 4,
 "nbformat_minor": 5
}
